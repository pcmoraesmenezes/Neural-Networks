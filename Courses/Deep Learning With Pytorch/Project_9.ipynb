{
 "cells": [
  {
   "cell_type": "markdown",
   "metadata": {},
   "source": [
    "# Project 9: Cross Validation"
   ]
  },
  {
   "cell_type": "markdown",
   "metadata": {},
   "source": [
    "# Step 1 - Libraries"
   ]
  },
  {
   "cell_type": "code",
   "execution_count": 1,
   "metadata": {},
   "outputs": [
    {
     "name": "stdout",
     "output_type": "stream",
     "text": [
      "Requirement already satisfied: skorch in /home/pcmoraes/Desktop/codigos/Neural-Networks/.venv/lib/python3.10/site-packages (0.15.0)\n",
      "Requirement already satisfied: numpy>=1.13.3 in /home/pcmoraes/Desktop/codigos/Neural-Networks/.venv/lib/python3.10/site-packages (from skorch) (1.26.4)\n",
      "Requirement already satisfied: scikit-learn>=0.22.0 in /home/pcmoraes/Desktop/codigos/Neural-Networks/.venv/lib/python3.10/site-packages (from skorch) (1.4.2)\n",
      "Requirement already satisfied: scipy>=1.1.0 in /home/pcmoraes/Desktop/codigos/Neural-Networks/.venv/lib/python3.10/site-packages (from skorch) (1.13.0)\n",
      "Requirement already satisfied: tabulate>=0.7.7 in /home/pcmoraes/Desktop/codigos/Neural-Networks/.venv/lib/python3.10/site-packages (from skorch) (0.9.0)\n",
      "Requirement already satisfied: tqdm>=4.14.0 in /home/pcmoraes/Desktop/codigos/Neural-Networks/.venv/lib/python3.10/site-packages (from skorch) (4.66.4)\n",
      "Requirement already satisfied: joblib>=1.2.0 in /home/pcmoraes/Desktop/codigos/Neural-Networks/.venv/lib/python3.10/site-packages (from scikit-learn>=0.22.0->skorch) (1.4.0)\n",
      "Requirement already satisfied: threadpoolctl>=2.0.0 in /home/pcmoraes/Desktop/codigos/Neural-Networks/.venv/lib/python3.10/site-packages (from scikit-learn>=0.22.0->skorch) (3.5.0)\n"
     ]
    }
   ],
   "source": [
    "!pip install skorch"
   ]
  },
  {
   "cell_type": "code",
   "execution_count": 2,
   "metadata": {},
   "outputs": [
    {
     "data": {
      "text/plain": [
       "'2.3.0+cu121'"
      ]
     },
     "execution_count": 2,
     "metadata": {},
     "output_type": "execute_result"
    }
   ],
   "source": [
    "import pandas as pd\n",
    "import torch.nn as nn        \n",
    "from skorch import NeuralNetRegressor\n",
    "import torch\n",
    "from sklearn.model_selection import cross_val_score\n",
    "import time\n",
    "from sklearn.preprocessing import OneHotEncoder\n",
    "from sklearn.compose import ColumnTransformer\n",
    "torch.__version__"
   ]
  },
  {
   "cell_type": "markdown",
   "metadata": {},
   "source": [
    "# Step 2 - Database"
   ]
  },
  {
   "cell_type": "code",
   "execution_count": 3,
   "metadata": {},
   "outputs": [],
   "source": [
    "torch.manual_seed(123)\n",
    "df = pd.read_csv('Datasets/autos.csv', encoding='ISO-8859-1')\n",
    "\n",
    "df = df.drop('dateCrawled', axis = 1)\n",
    "df = df.drop('dateCreated', axis = 1)\n",
    "df = df.drop('nrOfPictures', axis = 1)\n",
    "df = df.drop('postalCode', axis = 1)\n",
    "df = df.drop('lastSeen', axis = 1)\n",
    "df = df.drop('name', axis = 1)\n",
    "df = df.drop('seller', axis = 1)\n",
    "df = df.drop('offerType', axis = 1)\n",
    "\n",
    "df = df[df.price > 10]\n",
    "df = df.loc[df.price < 350000]\n",
    "\n",
    "\n",
    "values = {'vehicleType': 'limousine', 'gearbox': 'manuell',\n",
    "           'model': 'golf', 'fuelType': 'benzin',\n",
    "           'notRepairedDamage': 'nein'}\n",
    "df = df.fillna(value = values)\n",
    "\n",
    "\n",
    "forecasters = df.iloc[:, 1:13].values\n",
    "real_price = df.iloc[:, 0].values.reshape(-1, 1)\n",
    "\n",
    "onehotencoder = ColumnTransformer(transformers = [(\"OneHot\", OneHotEncoder(), [0,1,3,5,8,9,10])], remainder = 'passthrough')\n",
    "forecasters = onehotencoder.fit_transform(forecasters).toarray()\n"
   ]
  },
  {
   "cell_type": "code",
   "execution_count": 4,
   "metadata": {},
   "outputs": [],
   "source": [
    "forecasters = forecasters.astype('float32')\n",
    "real_price = real_price.astype('float32')"
   ]
  },
  {
   "cell_type": "markdown",
   "metadata": {},
   "source": [
    "# Step 3 - Model building"
   ]
  },
  {
   "cell_type": "code",
   "execution_count": 5,
   "metadata": {},
   "outputs": [],
   "source": [
    "class torch_regressor(nn.Module):\n",
    "    def __init__(self):\n",
    "        super().__init__()\n",
    "\n",
    "        self.dense0 = nn.Linear(316, 158)\n",
    "        self.dense1 = nn.Linear(158, 158)\n",
    "        self.dense2 = nn.Linear(158, 1)\n",
    "        self.activation = nn.ReLU()\n",
    "\n",
    "    def forward(self, X):\n",
    "        X = self.dense0(X)\n",
    "        X = self.activation(X)\n",
    "        X = self.dense1(X)\n",
    "        X = self.activation(X)\n",
    "        X = self.dense2(X)\n",
    "\n",
    "        return X\n",
    "    \n",
    "    "
   ]
  },
  {
   "cell_type": "code",
   "execution_count": 6,
   "metadata": {},
   "outputs": [],
   "source": [
    "sklearn_regressor = NeuralNetRegressor(module = torch_regressor, \n",
    "                                       criterion = torch.nn.L1Loss, \n",
    "                                       optimizer = torch.optim.Adam,\n",
    "                                       max_epochs = 5,\n",
    "                                       batch_size = 300,\n",
    "                                       train_split = False)"
   ]
  },
  {
   "cell_type": "code",
   "execution_count": 7,
   "metadata": {},
   "outputs": [
    {
     "name": "stdout",
     "output_type": "stream",
     "text": [
      "  epoch    train_loss      dur\n",
      "-------  ------------  -------\n",
      "      1     \u001b[36m3597.2495\u001b[0m  13.5989\n",
      "      2     \u001b[36m2986.3451\u001b[0m  11.2029\n",
      "      3     \u001b[36m2867.4092\u001b[0m  10.6106\n",
      "      4     \u001b[36m2812.8217\u001b[0m  9.1390\n",
      "      5     \u001b[36m2762.9784\u001b[0m  8.9674\n",
      "  epoch    train_loss      dur\n",
      "-------  ------------  -------\n",
      "      1     \u001b[36m3611.5526\u001b[0m  12.9866\n",
      "      2     \u001b[36m3034.2670\u001b[0m  13.9211\n",
      "      3     \u001b[36m2919.6809\u001b[0m  12.6361\n",
      "      4     \u001b[36m2805.2190\u001b[0m  11.4106\n",
      "      5     \u001b[36m2766.0469\u001b[0m  11.1422\n",
      "  epoch    train_loss     dur\n",
      "-------  ------------  ------\n",
      "      1     \u001b[36m3584.1112\u001b[0m  9.0174\n",
      "      2     \u001b[36m3004.4322\u001b[0m  12.6906\n",
      "      3     \u001b[36m2887.9448\u001b[0m  11.9188\n",
      "      4     \u001b[36m2805.6345\u001b[0m  11.9294\n",
      "      5     \u001b[36m2803.3715\u001b[0m  17.2611\n",
      "  epoch    train_loss      dur\n",
      "-------  ------------  -------\n",
      "      1     \u001b[36m3605.8809\u001b[0m  15.1826\n",
      "      2     \u001b[36m3002.0815\u001b[0m  13.8799\n",
      "      3     \u001b[36m2882.4005\u001b[0m  9.3142\n",
      "      4     \u001b[36m2837.8237\u001b[0m  13.7402\n",
      "      5     \u001b[36m2772.8943\u001b[0m  13.6712\n",
      "  epoch    train_loss      dur\n",
      "-------  ------------  -------\n",
      "      1     \u001b[36m3664.8269\u001b[0m  15.1150\n",
      "      2     \u001b[36m3065.3188\u001b[0m  13.0972\n",
      "      3     \u001b[36m2897.9208\u001b[0m  15.5150\n",
      "      4     2909.2332  15.7597\n",
      "      5     \u001b[36m2851.2117\u001b[0m  23.0283\n"
     ]
    }
   ],
   "source": [
    "results = cross_val_score(sklearn_regressor, forecasters, real_price, cv = 5, \n",
    "                             scoring = 'neg_mean_absolute_error')"
   ]
  },
  {
   "cell_type": "code",
   "execution_count": 9,
   "metadata": {},
   "outputs": [
    {
     "name": "stdout",
     "output_type": "stream",
     "text": [
      "Mean: -2891.467919921875\n",
      "Std: 128.18281714206665\n"
     ]
    }
   ],
   "source": [
    "mean = results.mean()\n",
    "std = results.std()\n",
    "\n",
    "print('Mean:', mean)\n",
    "print('Std:', std)"
   ]
  }
 ],
 "metadata": {
  "kernelspec": {
   "display_name": ".venv",
   "language": "python",
   "name": "python3"
  },
  "language_info": {
   "codemirror_mode": {
    "name": "ipython",
    "version": 3
   },
   "file_extension": ".py",
   "mimetype": "text/x-python",
   "name": "python",
   "nbconvert_exporter": "python",
   "pygments_lexer": "ipython3",
   "version": "3.10.12"
  }
 },
 "nbformat": 4,
 "nbformat_minor": 2
}
