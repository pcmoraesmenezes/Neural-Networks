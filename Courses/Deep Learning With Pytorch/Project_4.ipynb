{
  "cells": [
    {
      "cell_type": "markdown",
      "metadata": {
        "id": "FdT_-b-sVZN7"
      },
      "source": [
        "# Project 4 - Based on Grid Search best params train with all data"
      ]
    },
    {
      "cell_type": "markdown",
      "metadata": {
        "id": "_ltkXzxCVggy"
      },
      "source": [
        "# Step 1\n",
        "\n",
        "Libraries"
      ]
    },
    {
      "cell_type": "code",
      "execution_count": 2,
      "metadata": {
        "id": "5QEODJ-3VYk4"
      },
      "outputs": [],
      "source": [
        "import pandas as pd\n",
        "from sklearn.model_selection import train_test_split\n",
        "import numpy as np\n",
        "import seaborn as sns\n",
        "from sklearn.metrics import confusion_matrix, accuracy_score\n",
        "import torch\n",
        "import torch.nn as nn"
      ]
    },
    {
      "cell_type": "markdown",
      "metadata": {
        "id": "E9NtqdoBVzzi"
      },
      "source": [
        "# Step 2\n",
        "\n",
        "Database"
      ]
    },
    {
      "cell_type": "code",
      "execution_count": 3,
      "metadata": {
        "colab": {
          "base_uri": "https://localhost:8080/"
        },
        "id": "W1GBqf2_V2FW",
        "outputId": "5bd72ffd-9e78-4626-87c3-26d722b664e8"
      },
      "outputs": [
        {
          "data": {
            "text/plain": [
              "<torch._C.Generator at 0x796fcc162090>"
            ]
          },
          "execution_count": 3,
          "metadata": {},
          "output_type": "execute_result"
        }
      ],
      "source": [
        "np.random.seed(123)\n",
        "torch.manual_seed(123)"
      ]
    },
    {
      "cell_type": "code",
      "execution_count": 11,
      "metadata": {
        "id": "zCmtZ3DMV6Dz"
      },
      "outputs": [],
      "source": [
        "forecasters = pd.read_csv('/content/entradas_breast.csv')\n",
        "labels = pd.read_csv('/content/saidas_breast.csv')"
      ]
    },
    {
      "cell_type": "code",
      "execution_count": 13,
      "metadata": {
        "id": "WQQoECzkV-Ib"
      },
      "outputs": [],
      "source": [
        "forecasters = torch.tensor(np.array(forecasters), dtype = torch.float)\n",
        "labels = torch.tensor(np.array(labels), dtype = torch.float)"
      ]
    },
    {
      "cell_type": "code",
      "execution_count": 14,
      "metadata": {
        "colab": {
          "base_uri": "https://localhost:8080/"
        },
        "id": "Tq407oFWW5Pr",
        "outputId": "5452eea5-0718-494d-b30f-ce5d25566b0c"
      },
      "outputs": [
        {
          "data": {
            "text/plain": [
              "torch.Tensor"
            ]
          },
          "execution_count": 14,
          "metadata": {},
          "output_type": "execute_result"
        }
      ],
      "source": [
        "type(forecasters)"
      ]
    },
    {
      "cell_type": "markdown",
      "metadata": {
        "id": "rG1XebMmWDH4"
      },
      "source": [
        "# Step 3\n",
        "\n",
        "Casting np to tensor"
      ]
    },
    {
      "cell_type": "code",
      "execution_count": 15,
      "metadata": {
        "id": "Njr8gbnkWHfI"
      },
      "outputs": [],
      "source": [
        "train_loader = torch.utils.data.DataLoader(torch.utils.data.TensorDataset(forecasters, labels), batch_size=10, shuffle=True)"
      ]
    },
    {
      "cell_type": "markdown",
      "metadata": {
        "id": "0mj7xGlPXS_W"
      },
      "source": [
        "# Step 4\n",
        "\n",
        "Model building"
      ]
    },
    {
      "cell_type": "code",
      "execution_count": 18,
      "metadata": {
        "id": "NmGl9lEbXVTA"
      },
      "outputs": [],
      "source": [
        "class torch_classifier(nn.Module):\n",
        "  def __init__(self):\n",
        "    super().__init__()\n",
        "    self.dense0 = nn.Linear(30,8)\n",
        "    torch.nn.init.normal_(self.dense0.weight, mean=0.0, std=0.05)\n",
        "\n",
        "    self.dense1 = nn.Linear(8,8)\n",
        "    torch.nn.init.normal_(self.dense1.weight, mean=0.0, std=0.05)\n",
        "\n",
        "    self.dense2 = nn.Linear(8,1)\n",
        "    self.activation = nn.ReLU()\n",
        "\n",
        "    self.dropout = nn.Dropout(0,2)\n",
        "    self.output = nn.Sigmoid()\n",
        "\n",
        "  def forward(self, X):\n",
        "    X = self.dense0(X)\n",
        "    X = self.activation(X)\n",
        "    X = self.dropout(X)\n",
        "    X = self.dense1(X)\n",
        "    X = self.activation(X)\n",
        "    X = self.dropout(X)\n",
        "    X = self.dense2(X)\n",
        "    X = self.output(X)\n",
        "    return X"
      ]
    },
    {
      "cell_type": "code",
      "execution_count": 20,
      "metadata": {
        "id": "UMtk_zNfYCMs"
      },
      "outputs": [],
      "source": [
        "classifier = torch_classifier()"
      ]
    },
    {
      "cell_type": "code",
      "execution_count": 22,
      "metadata": {
        "id": "7juWAl_MYVcY"
      },
      "outputs": [],
      "source": [
        "criterion = nn.BCELoss()\n",
        "\n",
        "optimizer = torch.optim.Adam(classifier.parameters(), lr=0.001, weight_decay=0.0001)"
      ]
    },
    {
      "cell_type": "markdown",
      "metadata": {
        "id": "AJy0jvnfYe6N"
      },
      "source": [
        "# Step 5\n",
        "\n",
        "Train model"
      ]
    },
    {
      "cell_type": "code",
      "execution_count": 23,
      "metadata": {
        "colab": {
          "base_uri": "https://localhost:8080/"
        },
        "id": "akA6F3rxYgfH",
        "outputId": "75c720d4-3ab7-42b6-e851-db8c4b8dc820"
      },
      "outputs": [
        {
          "name": "stdout",
          "output_type": "stream",
          "text": [
            "Epoch:   1: Loss 0.77364\n",
            "Epoch:   2: Loss 0.53998\n",
            "Epoch:   3: Loss 0.51572\n",
            "Epoch:   4: Loss 0.47303\n",
            "Epoch:   5: Loss 0.44338\n",
            "Epoch:   6: Loss 0.41656\n",
            "Epoch:   7: Loss 0.38030\n",
            "Epoch:   8: Loss 0.35354\n",
            "Epoch:   9: Loss 0.36285\n",
            "Epoch:  10: Loss 0.32307\n",
            "Epoch:  11: Loss 0.31945\n",
            "Epoch:  12: Loss 0.29994\n",
            "Epoch:  13: Loss 0.31773\n",
            "Epoch:  14: Loss 0.27684\n",
            "Epoch:  15: Loss 0.26860\n",
            "Epoch:  16: Loss 0.25721\n",
            "Epoch:  17: Loss 0.24745\n",
            "Epoch:  18: Loss 0.23860\n",
            "Epoch:  19: Loss 0.23120\n",
            "Epoch:  20: Loss 0.22687\n",
            "Epoch:  21: Loss 0.20521\n",
            "Epoch:  22: Loss 0.24023\n",
            "Epoch:  23: Loss 0.21920\n",
            "Epoch:  24: Loss 0.27274\n",
            "Epoch:  25: Loss 0.20164\n",
            "Epoch:  26: Loss 0.19937\n",
            "Epoch:  27: Loss 0.20380\n",
            "Epoch:  28: Loss 0.19277\n",
            "Epoch:  29: Loss 0.20407\n",
            "Epoch:  30: Loss 0.19988\n",
            "Epoch:  31: Loss 0.20875\n",
            "Epoch:  32: Loss 0.19843\n",
            "Epoch:  33: Loss 0.20365\n",
            "Epoch:  34: Loss 0.18737\n",
            "Epoch:  35: Loss 0.19361\n",
            "Epoch:  36: Loss 0.18842\n",
            "Epoch:  37: Loss 0.18134\n",
            "Epoch:  38: Loss 0.17673\n",
            "Epoch:  39: Loss 0.17300\n",
            "Epoch:  40: Loss 0.18159\n",
            "Epoch:  41: Loss 0.17600\n",
            "Epoch:  42: Loss 0.19182\n",
            "Epoch:  43: Loss 0.16183\n",
            "Epoch:  44: Loss 0.15936\n",
            "Epoch:  45: Loss 0.19639\n",
            "Epoch:  46: Loss 0.17602\n",
            "Epoch:  47: Loss 0.19429\n",
            "Epoch:  48: Loss 0.16940\n",
            "Epoch:  49: Loss 0.15842\n",
            "Epoch:  50: Loss 0.16876\n",
            "Epoch:  51: Loss 0.17504\n",
            "Epoch:  52: Loss 0.16579\n",
            "Epoch:  53: Loss 0.16338\n",
            "Epoch:  54: Loss 0.15613\n",
            "Epoch:  55: Loss 0.18324\n",
            "Epoch:  56: Loss 0.18412\n",
            "Epoch:  57: Loss 0.18339\n",
            "Epoch:  58: Loss 0.15216\n",
            "Epoch:  59: Loss 0.16007\n",
            "Epoch:  60: Loss 0.16733\n",
            "Epoch:  61: Loss 0.20933\n",
            "Epoch:  62: Loss 0.18415\n",
            "Epoch:  63: Loss 0.15242\n",
            "Epoch:  64: Loss 0.16196\n",
            "Epoch:  65: Loss 0.18555\n",
            "Epoch:  66: Loss 0.14939\n",
            "Epoch:  67: Loss 0.14104\n",
            "Epoch:  68: Loss 0.14550\n",
            "Epoch:  69: Loss 0.14222\n",
            "Epoch:  70: Loss 0.14831\n",
            "Epoch:  71: Loss 0.14755\n",
            "Epoch:  72: Loss 0.15094\n",
            "Epoch:  73: Loss 0.15818\n",
            "Epoch:  74: Loss 0.15823\n",
            "Epoch:  75: Loss 0.16280\n",
            "Epoch:  76: Loss 0.13825\n",
            "Epoch:  77: Loss 0.13448\n",
            "Epoch:  78: Loss 0.13469\n",
            "Epoch:  79: Loss 0.13573\n",
            "Epoch:  80: Loss 0.14016\n",
            "Epoch:  81: Loss 0.16475\n",
            "Epoch:  82: Loss 0.15362\n",
            "Epoch:  83: Loss 0.14127\n",
            "Epoch:  84: Loss 0.15566\n",
            "Epoch:  85: Loss 0.14761\n",
            "Epoch:  86: Loss 0.17166\n",
            "Epoch:  87: Loss 0.13108\n",
            "Epoch:  88: Loss 0.14209\n",
            "Epoch:  89: Loss 0.13397\n",
            "Epoch:  90: Loss 0.12553\n",
            "Epoch:  91: Loss 0.13377\n",
            "Epoch:  92: Loss 0.13076\n",
            "Epoch:  93: Loss 0.13131\n",
            "Epoch:  94: Loss 0.12528\n",
            "Epoch:  95: Loss 0.20884\n",
            "Epoch:  96: Loss 0.14055\n",
            "Epoch:  97: Loss 0.13503\n",
            "Epoch:  98: Loss 0.12174\n",
            "Epoch:  99: Loss 0.13745\n",
            "Epoch: 100: Loss 0.14500\n"
          ]
        }
      ],
      "source": [
        "for epoch in range(100):\n",
        "  running_loss = 0.\n",
        "\n",
        "  for data in train_loader:\n",
        "    inputs, label = data\n",
        "    optimizer.zero_grad()\n",
        "\n",
        "    outputs = classifier(inputs)\n",
        "    loss = criterion(outputs, label)\n",
        "\n",
        "    loss.backward()\n",
        "    optimizer.step()\n",
        "\n",
        "    running_loss += loss.item()\n",
        "\n",
        "  print('Epoch: %3d: Loss %.5f' % (epoch+1, running_loss/len(train_loader)))\n"
      ]
    },
    {
      "cell_type": "markdown",
      "metadata": {
        "id": "KOXWyUeynxWD"
      },
      "source": [
        "# Step 6\n",
        "\n",
        "classifying only one record"
      ]
    },
    {
      "cell_type": "code",
      "execution_count": 24,
      "metadata": {
        "id": "SL7pPrven-UV"
      },
      "outputs": [],
      "source": [
        "new = torch.tensor([[15.80, 8.34, 118, 900, 0.10, 0.26, 0.08, 0.134, 0.178,\n",
        "                  0.20, 0.05, 1098, 0.87, 4500, 145.2, 0.005, 0.04, 0.05, 0.015,\n",
        "                  0.03, 0.007, 23.15, 16.64, 178.5, 2018, 0.14, 0.185,\n",
        "                  0.84, 158, 0.363]], dtype = torch.float)"
      ]
    },
    {
      "cell_type": "code",
      "execution_count": 25,
      "metadata": {
        "colab": {
          "base_uri": "https://localhost:8080/"
        },
        "id": "R8F9GlB_oO7t",
        "outputId": "7834928f-fa55-476c-930d-d4f7f29e3986"
      },
      "outputs": [
        {
          "data": {
            "text/plain": [
              "torch_classifier(\n",
              "  (dense0): Linear(in_features=30, out_features=8, bias=True)\n",
              "  (dense1): Linear(in_features=8, out_features=8, bias=True)\n",
              "  (dense2): Linear(in_features=8, out_features=1, bias=True)\n",
              "  (activation): ReLU()\n",
              "  (dropout): Dropout(p=0, inplace=2)\n",
              "  (output): Sigmoid()\n",
              ")"
            ]
          },
          "execution_count": 25,
          "metadata": {},
          "output_type": "execute_result"
        }
      ],
      "source": [
        "classifier.eval()"
      ]
    },
    {
      "cell_type": "code",
      "execution_count": 26,
      "metadata": {
        "id": "iMcVbKmSoRXP"
      },
      "outputs": [],
      "source": [
        "forecasting = classifier(new)"
      ]
    },
    {
      "cell_type": "code",
      "execution_count": 27,
      "metadata": {
        "colab": {
          "base_uri": "https://localhost:8080/"
        },
        "id": "5JCnNea7oUPo",
        "outputId": "fd0a29f0-2c63-426f-c75b-4b267b1a54c7"
      },
      "outputs": [
        {
          "data": {
            "text/plain": [
              "tensor([[1.]], grad_fn=<SigmoidBackward0>)"
            ]
          },
          "execution_count": 27,
          "metadata": {},
          "output_type": "execute_result"
        }
      ],
      "source": [
        "forecasting"
      ]
    },
    {
      "cell_type": "code",
      "execution_count": 28,
      "metadata": {
        "id": "__tDjPYzoYgB"
      },
      "outputs": [],
      "source": [
        "forecasting = forecasting.detach()"
      ]
    },
    {
      "cell_type": "code",
      "execution_count": 29,
      "metadata": {
        "colab": {
          "base_uri": "https://localhost:8080/"
        },
        "id": "Nb1THxCSoawl",
        "outputId": "58fb1270-c9e0-4ef2-a33f-d8445824ad27"
      },
      "outputs": [
        {
          "data": {
            "text/plain": [
              "tensor([[1.]])"
            ]
          },
          "execution_count": 29,
          "metadata": {},
          "output_type": "execute_result"
        }
      ],
      "source": [
        "forecasting"
      ]
    },
    {
      "cell_type": "code",
      "execution_count": 30,
      "metadata": {
        "id": "tlO11WH-op2A"
      },
      "outputs": [],
      "source": [
        "forecasting = forecasting.numpy()"
      ]
    },
    {
      "cell_type": "code",
      "execution_count": 31,
      "metadata": {
        "colab": {
          "base_uri": "https://localhost:8080/"
        },
        "id": "nQoJeD9NosAF",
        "outputId": "47e720c0-e5f5-42b6-9cc8-08edaae0e42a"
      },
      "outputs": [
        {
          "data": {
            "text/plain": [
              "numpy.ndarray"
            ]
          },
          "execution_count": 31,
          "metadata": {},
          "output_type": "execute_result"
        }
      ],
      "source": [
        "type(forecasting)"
      ]
    },
    {
      "cell_type": "code",
      "execution_count": 32,
      "metadata": {
        "colab": {
          "base_uri": "https://localhost:8080/"
        },
        "id": "xzDu5z2dou2U",
        "outputId": "2a60aa68-bf11-4b8c-f69d-0413e416a93b"
      },
      "outputs": [
        {
          "data": {
            "text/plain": [
              "array([[1.]], dtype=float32)"
            ]
          },
          "execution_count": 32,
          "metadata": {},
          "output_type": "execute_result"
        }
      ],
      "source": [
        "forecasting"
      ]
    },
    {
      "cell_type": "code",
      "execution_count": 33,
      "metadata": {
        "colab": {
          "base_uri": "https://localhost:8080/"
        },
        "id": "2XG7Pwt1owau",
        "outputId": "38df37e1-321c-4c3b-c421-0051aa4fb440"
      },
      "outputs": [
        {
          "data": {
            "text/plain": [
              "array([[ True]])"
            ]
          },
          "execution_count": 33,
          "metadata": {},
          "output_type": "execute_result"
        }
      ],
      "source": [
        "forecasting = (forecasting > 0.5)\n",
        "forecasting"
      ]
    },
    {
      "cell_type": "markdown",
      "metadata": {
        "id": "V3bsiJvNo-N9"
      },
      "source": [
        "# Step 7\n",
        "\n",
        "Saving classifier"
      ]
    },
    {
      "cell_type": "code",
      "execution_count": 35,
      "metadata": {
        "colab": {
          "base_uri": "https://localhost:8080/"
        },
        "id": "AEZUsLf9pACY",
        "outputId": "8edbe723-fe79-4a1d-c5fe-f23725992d6c"
      },
      "outputs": [
        {
          "data": {
            "text/plain": [
              "OrderedDict([('dense0.weight',\n",
              "              tensor([[ 1.6502e-01,  6.0314e-02,  5.0601e-01,  1.4060e-01, -3.8562e-02,\n",
              "                       -1.3699e-01, -6.6027e-04,  1.2158e-01, -1.7807e-03,  1.7545e-01,\n",
              "                        5.6647e-02,  5.3652e-02, -9.2483e-03, -1.1478e-02, -3.3487e-02,\n",
              "                        5.3917e-02,  2.8183e-01,  3.2757e-01,  1.4797e-01, -4.9551e-01,\n",
              "                        8.6561e-02, -1.5248e-01,  3.2011e-01, -1.6158e-01, -1.2600e-03,\n",
              "                       -3.8763e-02, -7.6130e-02,  8.3725e-02, -4.2798e-02, -4.4904e-01],\n",
              "                      [ 6.1736e-02, -2.0170e-02,  3.4046e-01,  1.3590e-02, -1.6125e-01,\n",
              "                        6.8624e-03, -3.3806e-02,  2.3744e-01,  3.9160e-02, -2.0839e-01,\n",
              "                       -8.8423e-02,  1.4717e-02,  3.5499e-02, -1.2219e-01, -1.6580e-02,\n",
              "                        3.2146e-01,  2.0999e-01,  2.5235e-01, -3.7452e-01, -4.2356e-01,\n",
              "                        1.3984e-01, -6.2029e-02,  3.1465e-01, -8.8413e-02, -7.3453e-02,\n",
              "                       -4.9137e-02,  1.1874e-01,  2.1584e-01,  1.1176e-02, -3.4506e-01],\n",
              "                      [ 4.7937e-02,  1.5148e-01,  1.5760e-01,  3.4008e-02,  2.7527e-02,\n",
              "                        1.2793e-01, -1.4700e-01,  2.8377e-01,  1.7381e-01, -3.0810e-01,\n",
              "                        8.6317e-02,  5.7476e-02, -3.7879e-02,  8.0486e-02, -2.1676e-03,\n",
              "                        2.2576e-01,  3.7507e-01,  4.9983e-02, -3.6935e-01, -3.3998e-01,\n",
              "                        3.0026e-02, -6.0244e-02,  1.4543e-01, -5.5632e-02, -3.6841e-01,\n",
              "                        1.3164e-01, -8.8501e-02,  2.5698e-01, -3.6246e-02, -2.1507e-01],\n",
              "                      [ 2.3663e-02,  7.3082e-02,  1.0150e-01,  2.4081e-02, -9.8553e-02,\n",
              "                       -6.9171e-02,  2.9024e-02,  2.6659e-01,  3.4852e-01,  3.1606e-01,\n",
              "                        1.5833e-01, -2.0544e-01, -3.5502e-02, -2.9392e-02, -4.5702e-03,\n",
              "                       -2.4134e-02, -1.9646e-02,  1.6717e-01, -3.3705e-03, -8.4031e-03,\n",
              "                        8.7796e-02,  5.4712e-02,  8.6391e-02, -3.5741e-02,  1.3907e-01,\n",
              "                        1.1530e-01, -3.6117e-02, -5.3708e-02,  3.5580e-01,  3.7322e-05],\n",
              "                      [-2.0561e-01, -5.4743e-02, -4.7438e-01, -3.4118e-02,  1.4276e-01,\n",
              "                       -7.5528e-02,  9.5627e-02, -1.4541e-01, -7.1042e-02,  4.3052e-02,\n",
              "                        7.0331e-02,  4.0290e-02,  1.4389e-02,  9.1273e-02,  3.4723e-02,\n",
              "                       -1.3475e-01, -2.7107e-01, -2.3663e-01, -4.4729e-03,  5.2379e-01,\n",
              "                       -1.4596e-01,  1.4685e-01, -2.4153e-01,  1.8438e-01, -3.4517e-02,\n",
              "                       -5.1380e-02, -1.1605e-01,  7.2982e-02, -4.4018e-02,  5.1170e-01],\n",
              "                      [ 4.1782e-03, -6.9923e-02,  2.2331e-01,  6.0968e-02, -3.5634e-01,\n",
              "                       -4.0625e-01,  1.6203e-01, -1.8014e-01, -2.3754e-02,  3.4600e-01,\n",
              "                       -9.4445e-03, -1.1719e-01,  1.8397e-02,  6.4323e-02, -1.0178e-02,\n",
              "                       -1.3380e-01, -1.0048e-01,  6.7931e-02,  5.5334e-01, -1.4566e-02,\n",
              "                        7.3219e-02, -1.9678e-01,  1.0145e-01, -1.0416e-01,  1.6666e-01,\n",
              "                       -7.0358e-03, -4.0238e-02, -1.7988e-01, -1.6550e-01, -1.1798e-01],\n",
              "                      [ 5.1976e-02,  2.4303e-02,  4.8269e-02, -2.4854e-02,  1.0250e-02,\n",
              "                       -8.7853e-02,  1.6853e-02, -1.8895e-02,  2.5131e-01,  3.8934e-02,\n",
              "                       -5.7561e-02, -1.6555e-02, -1.0742e-01, -1.4926e-01, -3.1906e-06,\n",
              "                        1.1074e-03,  5.8793e-06,  2.5319e-03, -1.7880e-02,  2.0889e-07,\n",
              "                       -7.8222e-02, -4.8381e-02, -1.0792e-02, -2.6655e-02, -2.4994e-02,\n",
              "                       -3.3660e-02,  1.8980e-01, -4.1710e-03, -1.7405e-02, -2.6487e-02],\n",
              "                      [ 1.5341e-02, -5.5149e-03, -5.4717e-02, -5.8829e-02,  2.4713e-03,\n",
              "                       -1.8773e-01, -1.6114e-02,  2.1447e-04,  2.4536e-01, -5.9506e-02,\n",
              "                        9.6705e-02, -1.2237e-02, -1.3217e-02, -9.8240e-02, -3.1061e-04,\n",
              "                       -1.6533e-02, -6.0943e-05, -2.7027e-04,  2.0953e-03, -1.9855e-04,\n",
              "                        5.7741e-02, -2.8469e-02, -3.8762e-03, -5.0421e-02,  2.1534e-01,\n",
              "                        2.7869e-01,  2.1933e-01,  3.3991e-01,  1.0341e-01, -2.9256e-03]])),\n",
              "             ('dense0.bias',\n",
              "              tensor([ 0.9439,  0.7519,  0.3074,  0.1902, -0.9250,  0.5850,  0.0057, -0.0469])),\n",
              "             ('dense1.weight',\n",
              "              tensor([[ 9.9370e-02,  5.6985e-02,  1.2940e-01,  1.1401e-01, -3.5372e-02,\n",
              "                        8.9623e-02,  1.1581e-01, -1.2469e-01],\n",
              "                      [-6.9544e-02, -2.4150e-02, -6.3861e-02, -1.8361e-02,  1.8451e-01,\n",
              "                       -8.1445e-02, -2.0854e-03,  2.1774e-01],\n",
              "                      [-1.4980e-01, -7.0318e-02,  1.4806e-01,  8.6429e-03, -3.3470e-02,\n",
              "                        7.6771e-02,  1.4862e-01,  1.6494e-02],\n",
              "                      [-9.2048e-03, -1.4415e-02, -8.5767e-08, -4.3930e-03, -1.1037e-02,\n",
              "                       -1.4562e-02, -2.5123e-03, -6.1660e-39],\n",
              "                      [ 2.4953e-02, -3.1991e-01,  2.9162e-02,  7.2775e-02,  6.0539e-02,\n",
              "                       -1.3761e-01,  1.6796e-02, -1.6235e-01],\n",
              "                      [-2.6485e-01,  5.1251e-02, -6.1940e-02,  1.0471e-02,  4.8902e-02,\n",
              "                       -4.3697e-02,  1.7724e-02,  8.9797e-02],\n",
              "                      [ 9.8813e-02,  8.2227e-02,  2.8891e-02,  1.9904e-01, -7.0484e-02,\n",
              "                        9.5784e-02,  1.4539e-01, -1.8385e-01],\n",
              "                      [-7.4108e-02,  1.1806e-02,  4.9234e-02,  4.2630e-03, -2.5426e-02,\n",
              "                       -4.3950e-02, -7.8058e-03, -4.6184e-02]])),\n",
              "             ('dense1.bias',\n",
              "              tensor([ 0.8038, -1.0468, -0.1315, -0.0017, -0.3859,  0.0616,  1.0486, -0.3848])),\n",
              "             ('dense2.weight',\n",
              "              tensor([[ 2.2760e-01, -2.6145e-01,  2.0857e-01, -8.8133e-05, -4.2371e-01,\n",
              "                       -4.2731e-01,  1.5480e-01, -2.9247e-01]])),\n",
              "             ('dense2.bias', tensor([0.8114]))])"
            ]
          },
          "execution_count": 35,
          "metadata": {},
          "output_type": "execute_result"
        }
      ],
      "source": [
        "classifier.state_dict()"
      ]
    },
    {
      "cell_type": "code",
      "execution_count": 36,
      "metadata": {
        "id": "o6RrdIQtpHYM"
      },
      "outputs": [],
      "source": [
        "torch.save(classifier.state_dict(), 'classifier.pth')"
      ]
    }
  ],
  "metadata": {
    "colab": {
      "provenance": []
    },
    "kernelspec": {
      "display_name": "Python 3",
      "name": "python3"
    },
    "language_info": {
      "name": "python"
    }
  },
  "nbformat": 4,
  "nbformat_minor": 0
}
