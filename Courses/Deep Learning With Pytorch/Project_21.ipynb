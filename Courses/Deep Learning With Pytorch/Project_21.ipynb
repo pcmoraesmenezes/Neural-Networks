{
 "cells": [
  {
   "cell_type": "markdown",
   "metadata": {},
   "source": [
    "# Project 21: Image Compression with Deep Autoencoders"
   ]
  },
  {
   "cell_type": "code",
   "execution_count": 1,
   "metadata": {},
   "outputs": [],
   "source": [
    "from torchvision import datasets, transforms\n",
    "import torch\n",
    "from torch import nn, optim\n",
    "import matplotlib.pyplot as plt"
   ]
  },
  {
   "cell_type": "code",
   "execution_count": 2,
   "metadata": {},
   "outputs": [],
   "source": [
    "dataset_train = datasets.MNIST('Datasets', train=True, download=True, transform=transforms.ToTensor())\n",
    "loader_train = torch.utils.data.DataLoader(dataset_train, batch_size=256, shuffle=True)"
   ]
  },
  {
   "cell_type": "code",
   "execution_count": 3,
   "metadata": {},
   "outputs": [],
   "source": [
    "dataset_test = datasets.MNIST('Datasets', train=False, download=True, transform=transforms.ToTensor())\n",
    "loader_test = torch.utils.data.DataLoader(dataset_test, batch_size=256, shuffle=True)"
   ]
  },
  {
   "cell_type": "code",
   "execution_count": 4,
   "metadata": {},
   "outputs": [],
   "source": [
    "class autoencoder(nn.Module):\n",
    "    def __init__(self):\n",
    "        super().__init__()\n",
    "\n",
    "        self.encoder0 = nn.Linear(in_features = 784, out_features = 128)\n",
    "        self.encoder1 = nn.Linear(128, 64)\n",
    "        self.encoder2 = nn.Linear(64, 32)\n",
    "\n",
    "        self.decoder0 = nn.Linear(32, 64)\n",
    "        self.decoder1 = nn.Linear(64, 128)\n",
    "        self.decoder2 = nn.Linear(128, 784)\n",
    "\n",
    "        self.activation1 = nn.ReLU()\n",
    "        self.activation2 = nn.Sigmoid()\n",
    "\n",
    "    def forward(self, x):\n",
    "        x = self.activation1(self.encoder0(x))\n",
    "        x = self.activation1(self.encoder1(x))\n",
    "        x = self.activation1(self.encoder2(x))\n",
    "\n",
    "        x = self.activation1(self.decoder0(x))\n",
    "        x = self.activation1(self.decoder1(x))\n",
    "        x = self.activation2(self.decoder2(x))\n",
    "\n",
    "        return x"
   ]
  },
  {
   "cell_type": "code",
   "execution_count": 5,
   "metadata": {},
   "outputs": [],
   "source": [
    "device = torch.device('cuda' if torch.cuda.is_available() else 'cpu')\n",
    "model = autoencoder().to(device)"
   ]
  },
  {
   "cell_type": "code",
   "execution_count": 6,
   "metadata": {},
   "outputs": [],
   "source": [
    "criterion = nn.BCELoss()\n",
    "optimizer = optim.Adam(model.parameters())"
   ]
  },
  {
   "cell_type": "code",
   "execution_count": 7,
   "metadata": {},
   "outputs": [
    {
     "name": "stdout",
     "output_type": "stream",
     "text": [
      "Epoch 1/20 - Loss Train: 0.2905770649301245 - Loss Val: 0.23495350144803523\n",
      "Epoch 2/20 - Loss Train: 0.20879773320035733 - Loss Val: 0.17828638330101967\n",
      "Epoch 3/20 - Loss Train: 0.16542483853532913 - Loss Val: 0.1526575516909361\n",
      "Epoch 4/20 - Loss Train: 0.14799065754768695 - Loss Val: 0.1411201421171427\n",
      "Epoch 5/20 - Loss Train: 0.13899269744436793 - Loss Val: 0.13484306149184705\n",
      "Epoch 6/20 - Loss Train: 0.13339000591572295 - Loss Val: 0.1294188141822815\n",
      "Epoch 7/20 - Loss Train: 0.12839980290291156 - Loss Val: 0.12535896394401788\n",
      "Epoch 8/20 - Loss Train: 0.12497879158943258 - Loss Val: 0.12242200393229723\n",
      "Epoch 9/20 - Loss Train: 0.12224230823364664 - Loss Val: 0.11972525380551816\n",
      "Epoch 10/20 - Loss Train: 0.11977871742020262 - Loss Val: 0.11713901236653328\n",
      "Epoch 11/20 - Loss Train: 0.11759900973832353 - Loss Val: 0.11462270990014076\n",
      "Epoch 12/20 - Loss Train: 0.11552326454127089 - Loss Val: 0.1137296712026\n",
      "Epoch 13/20 - Loss Train: 0.11370370229508014 - Loss Val: 0.11112755965441465\n",
      "Epoch 14/20 - Loss Train: 0.11189507027255728 - Loss Val: 0.11013352498412132\n",
      "Epoch 15/20 - Loss Train: 0.11010250734521988 - Loss Val: 0.10870546642690897\n",
      "Epoch 16/20 - Loss Train: 0.10837737683286058 - Loss Val: 0.10692288223654031\n",
      "Epoch 17/20 - Loss Train: 0.10703263663231058 - Loss Val: 0.1050022978335619\n",
      "Epoch 18/20 - Loss Train: 0.10584252381578405 - Loss Val: 0.10458377599716187\n",
      "Epoch 19/20 - Loss Train: 0.104755244958908 - Loss Val: 0.10354772508144379\n",
      "Epoch 20/20 - Loss Train: 0.10377675345603456 - Loss Val: 0.10223356913775206\n"
     ]
    }
   ],
   "source": [
    "for epoch in range(20):\n",
    "    running_loss_train = 0\n",
    "\n",
    "    for data in loader_train:\n",
    "        model.train()\n",
    "\n",
    "        inputs, _ = data \n",
    "        inputs = inputs.to(device).view(-1, 784)\n",
    "        \n",
    "        optimizer.zero_grad()\n",
    "\n",
    "        outputs = model(inputs)\n",
    "\n",
    "        loss = criterion(outputs, inputs.view(*outputs.shape))\n",
    "        loss.backward()\n",
    "\n",
    "        optimizer.step()\n",
    "\n",
    "        running_loss_train += loss.item()\n",
    "\n",
    "    running_loss_val = 0\n",
    "    for data in loader_test:\n",
    "        model.eval()\n",
    "\n",
    "        inputs, _ = data \n",
    "        inputs = inputs.to(device).view(-1, 784)\n",
    "\n",
    "        outputs = model(inputs)\n",
    "\n",
    "        loss = criterion(outputs, inputs.view(*outputs.shape))\n",
    "\n",
    "        running_loss_val += loss.item()\n",
    "\n",
    "    print(f'Epoch {epoch+1}/{20} - Loss Train: {running_loss_train/len(loader_train)} - Loss Val: {running_loss_val/len(loader_test)}')"
   ]
  },
  {
   "cell_type": "code",
   "execution_count": 8,
   "metadata": {},
   "outputs": [],
   "source": [
    "class encoder(nn.Module):\n",
    "    def __init__(self):\n",
    "        super().__init__()\n",
    "\n",
    "        self.encoder0 = list(model.children())[0]\n",
    "        self.encoder1 = list(model.children())[1]\n",
    "        self.encoder2 = list(model.children())[2]\n",
    "\n",
    "        self.activation1 = list(model.children())[6]\n",
    "\n",
    "    def forward(self, x):\n",
    "        x = self.activation1(self.encoder0(x))\n",
    "        x = self.activation1(self.encoder1(x))\n",
    "        x = self.activation1(self.encoder2(x))\n",
    "\n",
    "        return x"
   ]
  },
  {
   "cell_type": "code",
   "execution_count": 9,
   "metadata": {},
   "outputs": [],
   "source": [
    "model1 = encoder().to(device)"
   ]
  },
  {
   "cell_type": "code",
   "execution_count": 10,
   "metadata": {},
   "outputs": [],
   "source": [
    "class decoder(nn.Module):\n",
    "    def __init__(self):\n",
    "        super().__init__()\n",
    "\n",
    "        self.decoder0 = list(model.children())[3]\n",
    "        self.decoder1 = list(model.children())[4]\n",
    "        self.decoder2 = list(model.children())[5]\n",
    "\n",
    "        self.activation1 = list(model.children())[6]\n",
    "        self.activation2 = list(model.children())[7]\n",
    "\n",
    "    def forward(self, x):\n",
    "        x = self.activation1(self.decoder0(x))\n",
    "        x = self.activation1(self.decoder1(x))\n",
    "        x = self.activation2(self.decoder2(x))\n",
    "\n",
    "        return x"
   ]
  },
  {
   "cell_type": "code",
   "execution_count": 11,
   "metadata": {},
   "outputs": [],
   "source": [
    "model2 = decoder().to(device)"
   ]
  },
  {
   "cell_type": "code",
   "execution_count": 12,
   "metadata": {},
   "outputs": [],
   "source": [
    "sample_size = 10\n",
    "\n",
    "test_image = next(iter(loader_test))[0][:sample_size]\n",
    "test_image = test_image.to(device).view(-1, 784)"
   ]
  },
  {
   "cell_type": "code",
   "execution_count": 13,
   "metadata": {},
   "outputs": [],
   "source": [
    "model1.eval()\n",
    "\n",
    "codify_image = model1(test_image)"
   ]
  },
  {
   "cell_type": "code",
   "execution_count": 14,
   "metadata": {},
   "outputs": [],
   "source": [
    "model2.eval()\n",
    "\n",
    "decoded_image = model2(codify_image)"
   ]
  },
  {
   "cell_type": "code",
   "execution_count": 15,
   "metadata": {},
   "outputs": [],
   "source": [
    "test_image = test_image.detach().cpu().numpy().reshape(-1, 28, 28)\n",
    "codify_image = codify_image.detach().cpu().numpy().reshape(-1, 8, 4)\n",
    "decoded_image = decoded_image.detach().cpu().numpy().reshape(-1, 28, 28)"
   ]
  },
  {
   "cell_type": "code",
   "execution_count": 17,
   "metadata": {},
   "outputs": [
    {
     "data": {
      "image/png": "[encoded data removed]",
      "text/plain": [
       "<Figure size 1500x800 with 30 Axes>"
      ]
     },
     "metadata": {},
     "output_type": "display_data"
    }
   ],
   "source": [
    "fig, axes = plt.subplots(3, sample_size, figsize=(15,8))\n",
    "\n",
    "for images, ax_row in zip([test_image, codify_image, decoded_image], axes):\n",
    "    for img, ax in zip(images, ax_row):\n",
    "        ax.imshow(img, cmap='gray')\n",
    "        ax.get_xaxis().set_visible(False)\n",
    "        ax.get_yaxis().set_visible(False)"
   ]
  }
 ],
 "metadata": {
  "kernelspec": {
   "display_name": ".venv",
   "language": "python",
   "name": "python3"
  },
  "language_info": {
   "codemirror_mode": {
    "name": "ipython",
    "version": 3
   },
   "file_extension": ".py",
   "mimetype": "text/x-python",
   "name": "python",
   "nbconvert_exporter": "python",
   "pygments_lexer": "ipython3",
   "version": "3.10.12"
  }
 },
 "nbformat": 4,
 "nbformat_minor": 2
}
