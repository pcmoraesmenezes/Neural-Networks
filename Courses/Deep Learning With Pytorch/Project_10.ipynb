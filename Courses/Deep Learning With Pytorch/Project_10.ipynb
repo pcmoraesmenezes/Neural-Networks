{
 "cells": [
  {
   "cell_type": "markdown",
   "metadata": {},
   "source": [
    "# Project 10 - Parammeter tuning"
   ]
  },
  {
   "cell_type": "markdown",
   "metadata": {},
   "source": [
    "# Step 1 - Libraries"
   ]
  },
  {
   "cell_type": "code",
   "execution_count": 2,
   "metadata": {},
   "outputs": [],
   "source": [
    "import pandas as pd\n",
    "import torch.nn as nn        \n",
    "from skorch import NeuralNetRegressor\n",
    "import torch\n",
    "from sklearn.model_selection import cross_val_score\n",
    "import time\n",
    "from sklearn.preprocessing import OneHotEncoder\n",
    "from sklearn.compose import ColumnTransformer\n",
    "torch.__version__\n",
    "from sklearn.model_selection import GridSearchCV\n"
   ]
  },
  {
   "cell_type": "markdown",
   "metadata": {},
   "source": [
    "# Step 2 - Data"
   ]
  },
  {
   "cell_type": "code",
   "execution_count": 3,
   "metadata": {},
   "outputs": [],
   "source": [
    "torch.manual_seed(123)\n",
    "df = pd.read_csv('Datasets/autos.csv', encoding='ISO-8859-1')\n",
    "\n",
    "df = df.drop('dateCrawled', axis = 1)\n",
    "df = df.drop('dateCreated', axis = 1)\n",
    "df = df.drop('nrOfPictures', axis = 1)\n",
    "df = df.drop('postalCode', axis = 1)\n",
    "df = df.drop('lastSeen', axis = 1)\n",
    "df = df.drop('name', axis = 1)\n",
    "df = df.drop('seller', axis = 1)\n",
    "df = df.drop('offerType', axis = 1)\n",
    "\n",
    "df = df[df.price > 10]\n",
    "df = df.loc[df.price < 350000]\n",
    "\n",
    "\n",
    "values = {'vehicleType': 'limousine', 'gearbox': 'manuell',\n",
    "           'model': 'golf', 'fuelType': 'benzin',\n",
    "           'notRepairedDamage': 'nein'}\n",
    "df = df.fillna(value = values)\n",
    "\n",
    "\n",
    "forecasters = df.iloc[:, 1:13].values\n",
    "real_price = df.iloc[:, 0].values.reshape(-1, 1)\n",
    "\n",
    "onehotencoder = ColumnTransformer(transformers = [(\"OneHot\", OneHotEncoder(), [0,1,3,5,8,9,10])], remainder = 'passthrough')\n",
    "forecasters = onehotencoder.fit_transform(forecasters).toarray()\n"
   ]
  },
  {
   "cell_type": "code",
   "execution_count": 4,
   "metadata": {},
   "outputs": [],
   "source": [
    "forecasters = forecasters.astype('float32')\n",
    "real_price = real_price.astype('float32')"
   ]
  },
  {
   "cell_type": "markdown",
   "metadata": {},
   "source": [
    "# Step 3 - Model"
   ]
  },
  {
   "cell_type": "code",
   "execution_count": 5,
   "metadata": {},
   "outputs": [],
   "source": [
    "class torch_regressor(nn.Module):\n",
    "    def __init__(self):\n",
    "        super().__init__()\n",
    "\n",
    "        self.dense0 = nn.Linear(316, 158)\n",
    "        self.dense1 = nn.Linear(158, 158)\n",
    "        self.dense2 = nn.Linear(158, 1)\n",
    "        self.activation = nn.ReLU()\n",
    "\n",
    "    def forward(self, X):\n",
    "        X = self.dense0(X)\n",
    "        X = self.activation(X)\n",
    "        X = self.dense1(X)\n",
    "        X = self.activation(X)\n",
    "        X = self.dense2(X)\n",
    "\n",
    "        return X\n",
    "    \n",
    "    "
   ]
  },
  {
   "cell_type": "code",
   "execution_count": 6,
   "metadata": {},
   "outputs": [],
   "source": [
    "sklearn_regressor = NeuralNetRegressor(module = torch_regressor, \n",
    "                                       criterion = torch.nn.L1Loss, \n",
    "                                       optimizer = torch.optim.Adam,\n",
    "                                       max_epochs = 5,\n",
    "                                       batch_size = 300,\n",
    "                                       train_split = False)"
   ]
  },
  {
   "cell_type": "markdown",
   "metadata": {},
   "source": [
    "# Step 4 - Tuning"
   ]
  },
  {
   "cell_type": "code",
   "execution_count": 10,
   "metadata": {},
   "outputs": [],
   "source": [
    "params = {'criterion': [torch.nn.MSELoss, torch.nn.L1Loss, torch.nn.SmoothL1Loss]}\n",
    "grid_search = GridSearchCV(estimator = sklearn_regressor,\n",
    "                           param_grid = params,                           \n",
    "                           cv = 5)"
   ]
  },
  {
   "cell_type": "code",
   "execution_count": 11,
   "metadata": {},
   "outputs": [
    {
     "name": "stdout",
     "output_type": "stream",
     "text": [
      "  epoch     train_loss      dur\n",
      "-------  -------------  -------\n",
      "      1  \u001b[36m62427937.5376\u001b[0m  17.9123\n",
      "      2  \u001b[36m44466315.4628\u001b[0m  17.1412\n",
      "      3  \u001b[36m39284693.3322\u001b[0m  15.6215\n",
      "      4  \u001b[36m38200367.0622\u001b[0m  16.9720\n",
      "      5  \u001b[36m37677253.7721\u001b[0m  19.2151\n",
      "  epoch     train_loss      dur\n",
      "-------  -------------  -------\n",
      "      1  \u001b[36m60002797.9192\u001b[0m  13.3847\n",
      "      2  \u001b[36m43165346.1270\u001b[0m  12.1271\n",
      "      3  \u001b[36m38161119.5439\u001b[0m  11.8339\n",
      "      4  38624869.4058  11.3734\n",
      "      5  \u001b[36m36536506.4313\u001b[0m  10.7214\n",
      "  epoch     train_loss     dur\n",
      "-------  -------------  ------\n",
      "      1  \u001b[36m63011249.6521\u001b[0m  9.7365\n",
      "      2  \u001b[36m46249467.3639\u001b[0m  10.2188\n",
      "      3  \u001b[36m42884953.6316\u001b[0m  10.6032\n",
      "      4  \u001b[36m42311073.9710\u001b[0m  9.9232\n",
      "      5  \u001b[36m36870809.0721\u001b[0m  10.3619\n",
      "  epoch     train_loss      dur\n",
      "-------  -------------  -------\n",
      "      1  \u001b[36m62175218.9911\u001b[0m  10.0849\n",
      "      2  \u001b[36m44726153.2354\u001b[0m  9.9349\n",
      "      3  \u001b[36m38401668.8965\u001b[0m  10.0690\n",
      "      4  \u001b[36m37111158.7531\u001b[0m  12.7659\n",
      "      5  \u001b[36m36398917.0888\u001b[0m  15.1001\n",
      "  epoch     train_loss      dur\n",
      "-------  -------------  -------\n",
      "      1  \u001b[36m62774547.3505\u001b[0m  13.0234\n",
      "      2  \u001b[36m43213045.6260\u001b[0m  13.9439\n",
      "      3  \u001b[36m41736234.9670\u001b[0m  16.1956\n",
      "      4  \u001b[36m40192224.3405\u001b[0m  14.8456\n",
      "      5  \u001b[36m40182448.2341\u001b[0m  17.1095\n",
      "  epoch    train_loss      dur\n",
      "-------  ------------  -------\n",
      "      1     \u001b[36m3586.7127\u001b[0m  12.3746\n",
      "      2     \u001b[36m2955.5620\u001b[0m  14.5335\n",
      "      3     \u001b[36m2886.6992\u001b[0m  15.4398\n",
      "      4     \u001b[36m2813.8809\u001b[0m  13.7523\n",
      "      5     \u001b[36m2779.0041\u001b[0m  14.4239\n",
      "  epoch    train_loss      dur\n",
      "-------  ------------  -------\n",
      "      1     \u001b[36m3529.0248\u001b[0m  13.0877\n",
      "      2     \u001b[36m2982.9718\u001b[0m  13.3570\n",
      "      3     \u001b[36m2862.1303\u001b[0m  15.2883\n",
      "      4     \u001b[36m2791.9647\u001b[0m  21.6078\n",
      "      5     \u001b[36m2761.4722\u001b[0m  20.8066\n",
      "  epoch    train_loss      dur\n",
      "-------  ------------  -------\n",
      "      1     \u001b[36m3549.3779\u001b[0m  19.8540\n",
      "      2     \u001b[36m3018.3259\u001b[0m  19.8638\n",
      "      3     \u001b[36m2889.2567\u001b[0m  16.1162\n",
      "      4     \u001b[36m2859.4494\u001b[0m  18.7252\n",
      "      5     2922.3253  23.3840\n",
      "  epoch    train_loss      dur\n",
      "-------  ------------  -------\n",
      "      1     \u001b[36m3771.5576\u001b[0m  16.0858\n",
      "      2     \u001b[36m3272.9656\u001b[0m  19.0424\n",
      "      3     \u001b[36m2975.2295\u001b[0m  21.3908\n",
      "      4     \u001b[36m2864.4078\u001b[0m  22.6633\n",
      "      5     \u001b[36m2829.6826\u001b[0m  18.9305\n",
      "  epoch    train_loss      dur\n",
      "-------  ------------  -------\n",
      "      1     \u001b[36m3601.0966\u001b[0m  19.8738\n",
      "      2     \u001b[36m3082.9996\u001b[0m  17.0735\n",
      "      3     \u001b[36m2925.3659\u001b[0m  15.2408\n",
      "      4     \u001b[36m2864.8910\u001b[0m  14.9985\n",
      "      5     \u001b[36m2797.5476\u001b[0m  12.9613\n",
      "  epoch    train_loss      dur\n",
      "-------  ------------  -------\n",
      "      1     \u001b[36m3665.8618\u001b[0m  10.0075\n",
      "      2     \u001b[36m2993.8880\u001b[0m  8.8074\n",
      "      3     \u001b[36m2875.0023\u001b[0m  9.0007\n",
      "      4     \u001b[36m2855.8616\u001b[0m  9.2948\n",
      "      5     \u001b[36m2756.4699\u001b[0m  9.5022\n",
      "  epoch    train_loss     dur\n",
      "-------  ------------  ------\n",
      "      1     \u001b[36m3632.4914\u001b[0m  7.8492\n",
      "      2     \u001b[36m2980.1978\u001b[0m  9.7168\n",
      "      3     \u001b[36m2886.9424\u001b[0m  9.0261\n",
      "      4     \u001b[36m2830.1222\u001b[0m  10.2732\n",
      "      5     \u001b[36m2790.2203\u001b[0m  10.6814\n",
      "  epoch    train_loss      dur\n",
      "-------  ------------  -------\n",
      "      1     \u001b[36m3653.0302\u001b[0m  10.4025\n",
      "      2     \u001b[36m3311.3170\u001b[0m  10.5301\n",
      "      3     \u001b[36m2995.1776\u001b[0m  9.9982\n",
      "      4     \u001b[36m2892.9532\u001b[0m  10.2300\n",
      "      5     \u001b[36m2810.6558\u001b[0m  9.8679\n",
      "  epoch    train_loss     dur\n",
      "-------  ------------  ------\n",
      "      1     \u001b[36m3658.2116\u001b[0m  9.0191\n",
      "      2     \u001b[36m3073.8191\u001b[0m  11.9942\n",
      "      3     \u001b[36m2910.6918\u001b[0m  20.7628\n",
      "      4     \u001b[36m2863.0015\u001b[0m  18.0220\n",
      "      5     \u001b[36m2820.2393\u001b[0m  18.4683\n",
      "  epoch    train_loss      dur\n",
      "-------  ------------  -------\n",
      "      1     \u001b[36m3611.3008\u001b[0m  12.6905\n",
      "      2     \u001b[36m3129.2018\u001b[0m  16.2591\n",
      "      3     \u001b[36m2881.3374\u001b[0m  12.0651\n",
      "      4     \u001b[36m2818.7022\u001b[0m  13.3962\n",
      "      5     \u001b[36m2777.5465\u001b[0m  10.8051\n",
      "  epoch    train_loss      dur\n",
      "-------  ------------  -------\n",
      "      1     \u001b[36m3503.6915\u001b[0m  20.4928\n",
      "      2     \u001b[36m2982.1739\u001b[0m  18.7014\n",
      "      3     \u001b[36m2867.0040\u001b[0m  18.1534\n",
      "      4     \u001b[36m2793.0150\u001b[0m  15.9308\n",
      "      5     \u001b[36m2711.1247\u001b[0m  12.4139\n"
     ]
    }
   ],
   "source": [
    "grid_search = grid_search.fit(forecasters, real_price)"
   ]
  },
  {
   "cell_type": "code",
   "execution_count": 12,
   "metadata": {},
   "outputs": [
    {
     "name": "stdout",
     "output_type": "stream",
     "text": [
      "{'criterion': <class 'torch.nn.modules.loss.SmoothL1Loss'>}\n",
      "0.5225125277428214\n"
     ]
    }
   ],
   "source": [
    "best_params = grid_search.best_params_\n",
    "best_results = grid_search.best_score_\n",
    "\n",
    "print(best_params)\n",
    "print(best_results)"
   ]
  }
 ],
 "metadata": {
  "kernelspec": {
   "display_name": ".venv",
   "language": "python",
   "name": "python3"
  },
  "language_info": {
   "codemirror_mode": {
    "name": "ipython",
    "version": 3
   },
   "file_extension": ".py",
   "mimetype": "text/x-python",
   "name": "python",
   "nbconvert_exporter": "python",
   "pygments_lexer": "ipython3",
   "version": "3.10.12"
  }
 },
 "nbformat": 4,
 "nbformat_minor": 2
}
