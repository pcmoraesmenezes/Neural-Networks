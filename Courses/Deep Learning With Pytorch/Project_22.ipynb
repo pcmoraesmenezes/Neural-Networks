{
 "cells": [
  {
   "cell_type": "markdown",
   "metadata": {},
   "source": [
    "# Project 22 - Image compression with convolutional autoencoders"
   ]
  },
  {
   "cell_type": "code",
   "execution_count": 1,
   "metadata": {},
   "outputs": [],
   "source": [
    "from torchvision import datasets, transforms\n",
    "import torch\n",
    "from torch import nn, optim\n",
    "import matplotlib.pyplot as plt"
   ]
  },
  {
   "cell_type": "code",
   "execution_count": 2,
   "metadata": {},
   "outputs": [],
   "source": [
    "dataset_train = datasets.MNIST('Datasets', train=True, download=True, transform=transforms.ToTensor())\n",
    "loader_train = torch.utils.data.DataLoader(dataset_train, batch_size=256, shuffle=True)"
   ]
  },
  {
   "cell_type": "code",
   "execution_count": 3,
   "metadata": {},
   "outputs": [],
   "source": [
    "dataset_val = datasets.MNIST('Datasets', train=False, download=True, transform=transforms.ToTensor())\n",
    "loader_val = torch.utils.data.DataLoader(dataset_val, batch_size=256, shuffle=True)"
   ]
  },
  {
   "cell_type": "code",
   "execution_count": 4,
   "metadata": {},
   "outputs": [],
   "source": [
    "class autoencoder(nn.Module):\n",
    "    def __init__(self):\n",
    "        super().__init__()\n",
    "\n",
    "        self.enc0 = nn.Conv2d(in_channels=1, out_channels=16, kernel_size=(3,3))\n",
    "        self.enc1 = nn.Conv2d(in_channels=16, out_channels=8, kernel_size=(3,3), padding=(1,1))\n",
    "        self.enc2 = nn.Conv2d(in_channels=8, out_channels=8, kernel_size=(3,3), stride=(2,2), padding=(1,1))\n",
    "\n",
    "        self.maxpool0 = nn.MaxPool2d(kernel_size=(2,2))\n",
    "        self.maxpool1 = nn.MaxPool2d(kernel_size=(2,2), padding=(1,1))\n",
    "\n",
    "        self.flatten = nn.Flatten()\n",
    "\n",
    "        self.dec0 = nn.Conv2d(in_channels=8, out_channels=8, kernel_size=(3,3), padding=(1,1))\n",
    "        self.dec1 = nn.Conv2d(in_channels=8, out_channels=8, kernel_size=(3,3), padding=(1,1))\n",
    "        self.dec2 = nn.Conv2d(in_channels=8, out_channels=16, kernel_size=(3,3))\n",
    "        self.dec3 = nn.Conv2d(in_channels=16, out_channels=1, kernel_size=(3,3), padding=(1,1))\n",
    "\n",
    "        self.upsampling = nn.UpsamplingBilinear2d(scale_factor=2)\n",
    "\n",
    "        self.activation0 = nn.ReLU()\n",
    "        self.activation1 = nn.Sigmoid()\n",
    "\n",
    "    def forward(self, X):\n",
    "        X = self.maxpool0(self.activation0(self.enc0(X)))\n",
    "        X = self.maxpool1(self.activation0(self.enc1(X)))\n",
    "        X = self.flatten(self.activation0(self.enc2(X)))\n",
    "\n",
    "        X = X.view(-1, 8, 4, 4)\n",
    "\n",
    "        X = self.upsampling(self.activation0(self.dec0(X)))\n",
    "        X = self.upsampling(self.activation0(self.dec1(X)))\n",
    "        X = self.upsampling(self.activation0(self.dec2(X)))\n",
    "        X = self.activation1(self.dec3(X))\n",
    "\n",
    "        return X"
   ]
  },
  {
   "cell_type": "code",
   "execution_count": 5,
   "metadata": {},
   "outputs": [],
   "source": [
    "device = torch.device('cuda' if torch.cuda.is_available() else 'cpu')\n",
    "model = autoencoder().to(device)"
   ]
  },
  {
   "cell_type": "code",
   "execution_count": 6,
   "metadata": {},
   "outputs": [],
   "source": [
    "criterion = nn.BCELoss()\n",
    "optimizer = optim.Adam(model.parameters())"
   ]
  },
  {
   "cell_type": "code",
   "execution_count": 8,
   "metadata": {},
   "outputs": [
    {
     "name": "stdout",
     "output_type": "stream",
     "text": [
      "Epoch 1/20 - Loss Train: 0.14083440221370536 - Loss Val: 0.138520098105073\n",
      "Epoch 2/20 - Loss Train: 0.13838134674315758 - Loss Val: 0.13601251915097237\n",
      "Epoch 3/20 - Loss Train: 0.13643845744589542 - Loss Val: 0.13460833504796027\n",
      "Epoch 4/20 - Loss Train: 0.13449364976680026 - Loss Val: 0.13246064260601997\n",
      "Epoch 5/20 - Loss Train: 0.13281952364647642 - Loss Val: 0.13095749765634537\n"
     ]
    }
   ],
   "source": [
    "for epoch in range(5):\n",
    "\n",
    "    running_loss_train = 0\n",
    "    for data in loader_train:\n",
    "        model.train()\n",
    "\n",
    "        inputs, _ = data \n",
    "        inputs = inputs.to(device)\n",
    "\n",
    "        optimizer.zero_grad()\n",
    "\n",
    "        outputs = model(inputs)\n",
    "        loss = criterion(outputs, inputs.view(*outputs.shape))\n",
    "        loss.backward()\n",
    "\n",
    "        optimizer.step()\n",
    "\n",
    "        running_loss_train += loss.item()\n",
    "\n",
    "    running_loss_val = 0\n",
    "    for data in loader_val:\n",
    "        model.eval()\n",
    "\n",
    "        inputs, _ = data \n",
    "        inputs = inputs.to(device)\n",
    "\n",
    "        outputs = model(inputs)\n",
    "        loss = criterion(outputs, inputs.view(*outputs.shape))\n",
    "\n",
    "        running_loss_val += loss.item()\n",
    "\n",
    "    print(f'Epoch {epoch+1}/{20} - Loss Train: {running_loss_train/len(loader_train)} - Loss Val: {running_loss_val/len(loader_val)}')"
   ]
  },
  {
   "cell_type": "code",
   "execution_count": 9,
   "metadata": {},
   "outputs": [
    {
     "name": "stdout",
     "output_type": "stream",
     "text": [
      "0 Conv2d(1, 16, kernel_size=(3, 3), stride=(1, 1))\n",
      "1 Conv2d(16, 8, kernel_size=(3, 3), stride=(1, 1), padding=(1, 1))\n",
      "2 Conv2d(8, 8, kernel_size=(3, 3), stride=(2, 2), padding=(1, 1))\n",
      "3 MaxPool2d(kernel_size=(2, 2), stride=(2, 2), padding=0, dilation=1, ceil_mode=False)\n",
      "4 MaxPool2d(kernel_size=(2, 2), stride=(2, 2), padding=(1, 1), dilation=1, ceil_mode=False)\n",
      "5 Flatten(start_dim=1, end_dim=-1)\n",
      "6 Conv2d(8, 8, kernel_size=(3, 3), stride=(1, 1), padding=(1, 1))\n",
      "7 Conv2d(8, 8, kernel_size=(3, 3), stride=(1, 1), padding=(1, 1))\n",
      "8 Conv2d(8, 16, kernel_size=(3, 3), stride=(1, 1))\n",
      "9 Conv2d(16, 1, kernel_size=(3, 3), stride=(1, 1), padding=(1, 1))\n",
      "10 UpsamplingBilinear2d(scale_factor=2.0, mode='bilinear')\n",
      "11 ReLU()\n",
      "12 Sigmoid()\n"
     ]
    }
   ],
   "source": [
    "for i, layer in enumerate(list(model.children())):\n",
    "    print(i, layer)"
   ]
  },
  {
   "cell_type": "code",
   "execution_count": 10,
   "metadata": {},
   "outputs": [],
   "source": [
    "class encoder(nn.Module):\n",
    "    def __init__(self):\n",
    "        super().__init__()\n",
    "\n",
    "        self.enc0 = list(model.children())[0]\n",
    "        self.enc1 = list(model.children())[1]\n",
    "        self.enc2 = list(model.children())[2]\n",
    "\n",
    "        self.maxpool0 = list(model.children())[3]\n",
    "        self.maxpool1 = list(model.children())[4]\n",
    "\n",
    "        self.flatten = list(model.children())[5]\n",
    "\n",
    "        self.activation0 = list(model.children())[11]\n",
    "\n",
    "    def forward(self, X):\n",
    "        X = self.maxpool0(self.activation0(self.enc0(X)))\n",
    "        X = self.maxpool1(self.activation0(self.enc1(X)))\n",
    "        X = self.flatten(self.activation0(self.enc2(X)))\n",
    "\n",
    "        return X"
   ]
  },
  {
   "cell_type": "code",
   "execution_count": 11,
   "metadata": {},
   "outputs": [],
   "source": [
    "model1 = encoder().to(device)"
   ]
  },
  {
   "cell_type": "code",
   "execution_count": 12,
   "metadata": {},
   "outputs": [],
   "source": [
    "class decoder(nn.Module):\n",
    "    def __init__(self):\n",
    "        super().__init__()\n",
    "\n",
    "        self.dec0 = list(model.children())[6]\n",
    "        self.dec1 = list(model.children())[7]\n",
    "        self.dec2 = list(model.children())[8]\n",
    "        self.dec3 = list(model.children())[9]\n",
    "\n",
    "        self.upsampling = list(model.children())[10]\n",
    "\n",
    "        self.activation0 = list(model.children())[11]\n",
    "        self.activation1 = list(model.children())[12]\n",
    "\n",
    "    def forward(self, X):\n",
    "        X = X.view(-1, 8, 4, 4)\n",
    "\n",
    "        X = self.upsampling(self.activation0(self.dec0(X)))\n",
    "        X = self.upsampling(self.activation0(self.dec1(X)))\n",
    "        X = self.upsampling(self.activation0(self.dec2(X)))\n",
    "        X = self.activation1(self.dec3(X))\n",
    "\n",
    "        return X"
   ]
  },
  {
   "cell_type": "code",
   "execution_count": 13,
   "metadata": {},
   "outputs": [],
   "source": [
    "model2 = decoder().to(device)"
   ]
  },
  {
   "cell_type": "code",
   "execution_count": 14,
   "metadata": {},
   "outputs": [],
   "source": [
    "sample_size = 10\n",
    "\n",
    "test_image = next(iter(loader_val))[0][:sample_size].to(device)"
   ]
  },
  {
   "cell_type": "code",
   "execution_count": 15,
   "metadata": {},
   "outputs": [
    {
     "data": {
      "text/plain": [
       "torch.Size([10, 1, 28, 28])"
      ]
     },
     "execution_count": 15,
     "metadata": {},
     "output_type": "execute_result"
    }
   ],
   "source": [
    "test_image.shape"
   ]
  },
  {
   "cell_type": "code",
   "execution_count": 16,
   "metadata": {},
   "outputs": [],
   "source": [
    "model1.eval()\n",
    "codify_image = model1(test_image)"
   ]
  },
  {
   "cell_type": "code",
   "execution_count": 17,
   "metadata": {},
   "outputs": [
    {
     "data": {
      "text/plain": [
       "torch.Size([10, 128])"
      ]
     },
     "execution_count": 17,
     "metadata": {},
     "output_type": "execute_result"
    }
   ],
   "source": [
    "codify_image.shape"
   ]
  },
  {
   "cell_type": "code",
   "execution_count": 18,
   "metadata": {},
   "outputs": [],
   "source": [
    "model2.eval()\n",
    "reconstructed_image = model2(codify_image)"
   ]
  },
  {
   "cell_type": "code",
   "execution_count": 19,
   "metadata": {},
   "outputs": [
    {
     "data": {
      "text/plain": [
       "torch.Size([10, 1, 28, 28])"
      ]
     },
     "execution_count": 19,
     "metadata": {},
     "output_type": "execute_result"
    }
   ],
   "source": [
    "reconstructed_image.shape"
   ]
  },
  {
   "cell_type": "code",
   "execution_count": 20,
   "metadata": {},
   "outputs": [],
   "source": [
    "test_image = test_image.detach().cpu().numpy().reshape(-1, 28, 28)\n",
    "codify_image = codify_image.detach().cpu().numpy().reshape(-1, 16,8)\n",
    "reconstructed_image = reconstructed_image.detach().cpu().numpy().reshape(-1, 28, 28)"
   ]
  },
  {
   "cell_type": "code",
   "execution_count": 21,
   "metadata": {},
   "outputs": [
    {
     "data": {
      "image/png": "[encoded data removed]",
      "text/plain": [
       "<Figure size 2000x600 with 30 Axes>"
      ]
     },
     "metadata": {},
     "output_type": "display_data"
    }
   ],
   "source": [
    "fig, axes = plt.subplots(nrows = 3, ncols=sample_size, figsize=(20, 6))\n",
    "\n",
    "for imagens, ax_row in zip([test_image, codify_image, reconstructed_image], axes):\n",
    "    for img, ax in zip(imagens, ax_row):\n",
    "        ax.imshow(img, cmap='gray')\n",
    "        ax.get_xaxis().set_visible(False)\n",
    "        ax.get_yaxis().set_visible(False)"
   ]
  }
 ],
 "metadata": {
  "kernelspec": {
   "display_name": ".venv",
   "language": "python",
   "name": "python3"
  },
  "language_info": {
   "codemirror_mode": {
    "name": "ipython",
    "version": 3
   },
   "file_extension": ".py",
   "mimetype": "text/x-python",
   "name": "python",
   "nbconvert_exporter": "python",
   "pygments_lexer": "ipython3",
   "version": "3.10.12"
  }
 },
 "nbformat": 4,
 "nbformat_minor": 2
}
