{
 "cells": [
  {
   "cell_type": "markdown",
   "metadata": {},
   "source": [
    "# Project 24 - Image generation with GANs"
   ]
  },
  {
   "cell_type": "code",
   "execution_count": null,
   "metadata": {},
   "outputs": [],
   "source": [
    "import torch\n",
    "import torch.nn as nn\n",
    "import torch.nn.functional as F\n",
    "from torch import optim\n",
    "import numpy as np\n",
    "import matplotlib.pyplot as plt\n",
    "from torchvision import datasets\n",
    "import torchvision.transforms as transforms"
   ]
  },
  {
   "cell_type": "code",
   "execution_count": null,
   "metadata": {},
   "outputs": [],
   "source": [
    "transform = transforms.ToTensor()\n",
    "\n",
    "train = datasets.MNIST(root='Datasets', train=True, download=True, transform=transform)\n",
    "train_loader = torch.utils.data.DataLoader(train, batch_size=256, shuffle=True)"
   ]
  },
  {
   "cell_type": "code",
   "execution_count": null,
   "metadata": {},
   "outputs": [],
   "source": [
    "class generator(nn.Module):\n",
    "    def __init__(self):\n",
    "        super().__init__()\n",
    "\n",
    "        self.dense0 = nn.Linear(100, 32)\n",
    "        self.dense1 = nn.Linear(32, 64)\n",
    "        self.dense2 = nn.Linear(64, 128)\n",
    "        self.dense3 = nn.Linear(128, 784)\n",
    "\n",
    "        self.dropout = nn.Dropout(0.3)\n",
    "\n",
    "    def forward(self, X):\n",
    "        X = self.dropout(F.leaky_relu(self.dense0(X), 0.2))\n",
    "        X = self.dropout(F.leaky_relu(self.dense1(X), 0.2))\n",
    "        X = self.dropout(F.leaky_relu(self.dense2(X), 0.2))\n",
    "        X = torch.tanh(self.dense3(X))\n",
    "        X = X.view(X.shape[0], 28, 28)\n",
    "\n",
    "        return X"
   ]
  },
  {
   "cell_type": "code",
   "execution_count": null,
   "metadata": {},
   "outputs": [],
   "source": [
    "class discriminator(nn.Module):\n",
    "    def __init__(self):\n",
    "        super().__init__()\n",
    "\n",
    "        self.dense0 = nn.Linear(784, 128)\n",
    "        self.dense1 = nn.Linear(128, 64)\n",
    "        self.dense2 = nn.Linear(64, 32)\n",
    "        self.dense3 = nn.Linear(32, 1)\n",
    "        self.dropout = nn.Dropout(0.3)\n",
    "\n",
    "    def forward(self, X):\n",
    "        X = X.view(X.shape[0], 28 * 28)\n",
    "        X = self.dropout(F.leaky_relu(self.dense0(X), 0.2))\n",
    "        X = self.dropout(F.leaky_relu(self.dense1(X), 0.2))\n",
    "        X = self.dropout(F.leaky_relu(self.dense2(X), 0.2))\n",
    "        X = self.dense3(X)\n",
    "\n",
    "        return X"
   ]
  },
  {
   "cell_type": "code",
   "execution_count": null,
   "metadata": {},
   "outputs": [],
   "source": [
    "G = generator()\n",
    "D = discriminator()"
   ]
  },
  {
   "cell_type": "code",
   "execution_count": null,
   "metadata": {},
   "outputs": [],
   "source": [
    "G_opt = optim.Adam(G.parameters(), lr=0.002)\n",
    "D_opt = optim.Adam(D.parameters(), lr=0.002)"
   ]
  },
  {
   "cell_type": "code",
   "execution_count": null,
   "metadata": {},
   "outputs": [],
   "source": [
    "criterion = nn.BCEWithLogitsLoss()"
   ]
  },
  {
   "cell_type": "code",
   "execution_count": null,
   "metadata": {},
   "outputs": [],
   "source": [
    "device = torch.device('cuda' if torch.cuda.is_available() else 'cpu')"
   ]
  },
  {
   "cell_type": "code",
   "execution_count": null,
   "metadata": {},
   "outputs": [],
   "source": [
    "G.to(device)\n",
    "D.to(device)"
   ]
  },
  {
   "cell_type": "code",
   "execution_count": null,
   "metadata": {},
   "outputs": [],
   "source": [
    "for epoch in range(100):\n",
    "    D_running_loss = 0\n",
    "    G_running_loss = 0\n",
    "\n",
    "    for i, (real_images, _) in enumerate(train_loader):\n",
    "\n",
    "        batch_size = real_images.size(0)\n",
    "        real_images = real_images * 2 -1\n",
    "        real_images = real_images.to(device)\n",
    "\n",
    "        G_opt.zero_grad()\n",
    "    \n",
    "        noise = np.random.uniform(low=-1, high=1., size=(batch_size, 100))\n",
    "        noise = torch.from_numpy(noise).float().to(device)\n",
    "\n",
    "        fake_images = G.forward(noise)\n",
    "        fake_outputs = D.forward(fake_images)\n",
    "\n",
    "        fake_labels = torch.ones(batch_size).to(device)\n",
    "        G_loss = criterion(fake_outputs.view(*fake_labels.shape), fake_labels)\n",
    "        G_loss.backward()\n",
    "        G_opt.step()\n",
    "\n",
    "\n",
    "        D_opt.zero_grad()\n",
    "        real_outputs = D.forward(real_images)\n",
    "        real_labels = (torch.ones(batch_size)*0.9).to(device)\n",
    "        D_real_loss = criterion(real_outputs.view(*real_labels.shape), real_labels)\n",
    "\n",
    "        noise = np.random.uniform(low=-1, high=1., size=(batch_size, 100))\n",
    "        noise = torch.from_numpy(noise).float().to(device)\n",
    "        fake_images = G.forward(noise)\n",
    "        fake_outputs = D.forward(fake_images)\n",
    "        fake_labels = torch.zeros(batch_size).to(device)\n",
    "        D_fake_loss = criterion(fake_outputs.view(*fake_labels.shape), fake_labels)\n",
    "\n",
    "        D_loss = D_real_loss + D_fake_loss\n",
    "        D_loss.backward()\n",
    "        D_opt.step()\n",
    "\n",
    "        D_running_loss += D_loss.item()\n",
    "        G_running_loss += G_loss.item()\n",
    "\n",
    "        print(f'Epoch: {epoch} - Loop{i} Discriminator cost {D_running_loss} Generator cost {G_running_loss}')\n",
    "\n",
    "    D_running_loss /= len(train_loader)\n",
    "    G_running_loss /= len(train_loader)\n",
    "\n",
    "    print(f'Epoch: {epoch} - Discriminator cost {D_running_loss} Generator cost {G_running_loss}')\n",
    "\n",
    "    fig, ax = plt.subplots(1,5, figsize=(10,5))\n",
    "    for i in range(5):\n",
    "        ax[i].imshow(fake_images.cpu().detach().numpy()[i].reshape(28, 28), cmap='gray')\n",
    "        ax[i].xaxis.set_visible(False)\n",
    "        ax[i].yaxis.set_visible(False)\n",
    "    plt.show()"
   ]
  },
  {
   "cell_type": "code",
   "execution_count": null,
   "metadata": {},
   "outputs": [],
   "source": [
    "torch.save(G.state_dict(), 'generator.pth')\n",
    "torch.save(D.state_dict(), 'discriminator.pth')"
   ]
  },
  {
   "cell_type": "code",
   "execution_count": null,
   "metadata": {},
   "outputs": [],
   "source": [
    "G = generator()\n",
    "G.load_state_dict(torch.load('Weights/generator.pth'))\n"
   ]
  },
  {
   "cell_type": "code",
   "execution_count": null,
   "metadata": {},
   "outputs": [],
   "source": [
    "D = discriminator()\n",
    "D.load_state_dict(torch.load('Weights/discriminator.pth'))"
   ]
  },
  {
   "cell_type": "code",
   "execution_count": null,
   "metadata": {},
   "outputs": [],
   "source": [
    "noise = np.random.uniform(-1., 1., size=(20, 100))"
   ]
  },
  {
   "cell_type": "code",
   "execution_count": null,
   "metadata": {},
   "outputs": [],
   "source": [
    "noise"
   ]
  },
  {
   "cell_type": "code",
   "execution_count": null,
   "metadata": {},
   "outputs": [],
   "source": [
    "noise = torch.from_numpy(noise).float().to(device)"
   ]
  },
  {
   "cell_type": "code",
   "execution_count": null,
   "metadata": {},
   "outputs": [],
   "source": [
    "G.to(device)\n",
    "\n",
    "G.eval()\n"
   ]
  },
  {
   "cell_type": "code",
   "execution_count": null,
   "metadata": {},
   "outputs": [],
   "source": [
    "forecast = G(noise)"
   ]
  },
  {
   "cell_type": "code",
   "execution_count": null,
   "metadata": {},
   "outputs": [],
   "source": [
    "forecast = forecast.cpu().detach().numpy()"
   ]
  },
  {
   "cell_type": "code",
   "execution_count": null,
   "metadata": {},
   "outputs": [],
   "source": [
    "forecast"
   ]
  },
  {
   "cell_type": "code",
   "execution_count": null,
   "metadata": {},
   "outputs": [],
   "source": [
    "for i in range(forecast.shape[0]):\n",
    "    plt.imshow(forecast[i, :].squeeze(), cmap='gray')\n",
    "    plt.show()"
   ]
  }
 ],
 "metadata": {
  "kernelspec": {
   "display_name": ".venv",
   "language": "python",
   "name": "python3"
  },
  "language_info": {
   "codemirror_mode": {
    "name": "ipython",
    "version": 3
   },
   "file_extension": ".py",
   "mimetype": "text/x-python",
   "name": "python",
   "nbconvert_exporter": "python",
   "pygments_lexer": "ipython3",
   "version": "3.10.12"
  }
 },
 "nbformat": 4,
 "nbformat_minor": 2
}
