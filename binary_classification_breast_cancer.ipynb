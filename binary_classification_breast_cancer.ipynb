{
  "nbformat": 4,
  "nbformat_minor": 0,
  "metadata": {
    "colab": {
      "provenance": [],
      "gpuType": "T4"
    },
    "kernelspec": {
      "name": "python3",
      "display_name": "Python 3"
    },
    "language_info": {
      "name": "python"
    },
    "accelerator": "GPU"
  },
  "cells": [
    {
      "cell_type": "markdown",
      "source": [
        "# Project: Breast Cancer classification"
      ],
      "metadata": {
        "id": "BiC2CEzHGe1k"
      }
    },
    {
      "cell_type": "markdown",
      "source": [
        "# Step 1\n",
        "\n",
        "Libraries"
      ],
      "metadata": {
        "id": "oOVeuV3pGktV"
      }
    },
    {
      "cell_type": "code",
      "execution_count": 6,
      "metadata": {
        "id": "eTdHbBRDGOI6"
      },
      "outputs": [],
      "source": [
        "import pandas as pd\n",
        "from sklearn.model_selection import train_test_split\n",
        "import numpy as np\n",
        "import seaborn as sns\n",
        "from sklearn.metrics import confusion_matrix, accuracy_score\n",
        "import torch\n",
        "import torch.nn as nn"
      ]
    },
    {
      "cell_type": "markdown",
      "source": [
        "# Step 2\n",
        "\n",
        "Database"
      ],
      "metadata": {
        "id": "XW33W8YoHnKR"
      }
    },
    {
      "cell_type": "code",
      "source": [
        "# experiment reproducibility\n",
        "np.random.seed(123)\n",
        "torch.manual_seed(123)"
      ],
      "metadata": {
        "colab": {
          "base_uri": "https://localhost:8080/"
        },
        "id": "96_r-pTnHpSe",
        "outputId": "84716a5d-8469-4bfa-8f8a-42b49fc7bc5e"
      },
      "execution_count": 7,
      "outputs": [
        {
          "output_type": "execute_result",
          "data": {
            "text/plain": [
              "<torch._C.Generator at 0x7b43ea1baaf0>"
            ]
          },
          "metadata": {},
          "execution_count": 7
        }
      ]
    },
    {
      "cell_type": "code",
      "source": [
        "forecasters = pd.read_csv('/content/entradas_breast.csv') # features\n",
        "label = pd.read_csv('/content/saidas_breast.csv') # binary classification"
      ],
      "metadata": {
        "id": "osJd87I6IlrF"
      },
      "execution_count": 8,
      "outputs": []
    },
    {
      "cell_type": "code",
      "source": [
        "forecasters.shape"
      ],
      "metadata": {
        "colab": {
          "base_uri": "https://localhost:8080/"
        },
        "id": "NT9exOTWI36j",
        "outputId": "253970f7-27e1-417f-f342-a0e709020d7a"
      },
      "execution_count": 9,
      "outputs": [
        {
          "output_type": "execute_result",
          "data": {
            "text/plain": [
              "(569, 30)"
            ]
          },
          "metadata": {},
          "execution_count": 9
        }
      ]
    },
    {
      "cell_type": "code",
      "source": [
        "forecasters.head()"
      ],
      "metadata": {
        "colab": {
          "base_uri": "https://localhost:8080/",
          "height": 255
        },
        "id": "1Y9cwi7JI6j9",
        "outputId": "2ac2477d-3035-4116-c5ff-123d1446a887"
      },
      "execution_count": 10,
      "outputs": [
        {
          "output_type": "execute_result",
          "data": {
            "text/plain": [
              "    radius_mean   texture_mean   perimeter_mean   area_mean   smoothness_mean  \\\n",
              "0         17.99          10.38           122.80      1001.0           0.11840   \n",
              "1         20.57          17.77           132.90      1326.0           0.08474   \n",
              "2         19.69          21.25           130.00      1203.0           0.10960   \n",
              "3         11.42          20.38            77.58       386.1           0.14250   \n",
              "4         20.29          14.34           135.10      1297.0           0.10030   \n",
              "\n",
              "    compactness_mean   concavity_mean  concave_points_mean   symmetry_mean  \\\n",
              "0            0.27760           0.3001              0.14710          0.2419   \n",
              "1            0.07864           0.0869              0.07017          0.1812   \n",
              "2            0.15990           0.1974              0.12790          0.2069   \n",
              "3            0.28390           0.2414              0.10520          0.2597   \n",
              "4            0.13280         198.0000              0.10430          0.1809   \n",
              "\n",
              "    fractal_dimension_mean  ...   radius_worst   texture_worst  \\\n",
              "0                  0.07871  ...          25.38           17.33   \n",
              "1                  0.05667  ...          24.99           23.41   \n",
              "2                  0.05999  ...          23.57           25.53   \n",
              "3                  0.09744  ...          14.91           26.50   \n",
              "4                  0.05883  ...          22.54           16.67   \n",
              "\n",
              "    perimeter_worst   area_worst   smoothness_worst   compactness_worst  \\\n",
              "0            184.60       2019.0             0.1622              0.6656   \n",
              "1            158.80       1956.0             0.1238              0.1866   \n",
              "2            152.50       1709.0             0.1444              0.4245   \n",
              "3             98.87        567.7             0.2098              0.8663   \n",
              "4            152.20       1575.0             0.1374            205.0000   \n",
              "\n",
              "    concavity_worst   concave_points_worst   symmetry_worst  \\\n",
              "0            0.7119                 0.2654           0.4601   \n",
              "1            0.2416               186.0000         275.0000   \n",
              "2            0.4504               243.0000           0.3613   \n",
              "3            0.6869                 0.2575           0.6638   \n",
              "4            0.4000                 0.1625           0.2364   \n",
              "\n",
              "    fractal_dimension_worst  \n",
              "0                   0.11890  \n",
              "1                   0.08902  \n",
              "2                   0.08758  \n",
              "3                 173.00000  \n",
              "4                   0.07678  \n",
              "\n",
              "[5 rows x 30 columns]"
            ],
            "text/html": [
              "\n",
              "  <div id=\"df-33cc18a9-a010-4eb9-852b-7a0755c50697\" class=\"colab-df-container\">\n",
              "    <div>\n",
              "<style scoped>\n",
              "    .dataframe tbody tr th:only-of-type {\n",
              "        vertical-align: middle;\n",
              "    }\n",
              "\n",
              "    .dataframe tbody tr th {\n",
              "        vertical-align: top;\n",
              "    }\n",
              "\n",
              "    .dataframe thead th {\n",
              "        text-align: right;\n",
              "    }\n",
              "</style>\n",
              "<table border=\"1\" class=\"dataframe\">\n",
              "  <thead>\n",
              "    <tr style=\"text-align: right;\">\n",
              "      <th></th>\n",
              "      <th>radius_mean</th>\n",
              "      <th>texture_mean</th>\n",
              "      <th>perimeter_mean</th>\n",
              "      <th>area_mean</th>\n",
              "      <th>smoothness_mean</th>\n",
              "      <th>compactness_mean</th>\n",
              "      <th>concavity_mean</th>\n",
              "      <th>concave_points_mean</th>\n",
              "      <th>symmetry_mean</th>\n",
              "      <th>fractal_dimension_mean</th>\n",
              "      <th>...</th>\n",
              "      <th>radius_worst</th>\n",
              "      <th>texture_worst</th>\n",
              "      <th>perimeter_worst</th>\n",
              "      <th>area_worst</th>\n",
              "      <th>smoothness_worst</th>\n",
              "      <th>compactness_worst</th>\n",
              "      <th>concavity_worst</th>\n",
              "      <th>concave_points_worst</th>\n",
              "      <th>symmetry_worst</th>\n",
              "      <th>fractal_dimension_worst</th>\n",
              "    </tr>\n",
              "  </thead>\n",
              "  <tbody>\n",
              "    <tr>\n",
              "      <th>0</th>\n",
              "      <td>17.99</td>\n",
              "      <td>10.38</td>\n",
              "      <td>122.80</td>\n",
              "      <td>1001.0</td>\n",
              "      <td>0.11840</td>\n",
              "      <td>0.27760</td>\n",
              "      <td>0.3001</td>\n",
              "      <td>0.14710</td>\n",
              "      <td>0.2419</td>\n",
              "      <td>0.07871</td>\n",
              "      <td>...</td>\n",
              "      <td>25.38</td>\n",
              "      <td>17.33</td>\n",
              "      <td>184.60</td>\n",
              "      <td>2019.0</td>\n",
              "      <td>0.1622</td>\n",
              "      <td>0.6656</td>\n",
              "      <td>0.7119</td>\n",
              "      <td>0.2654</td>\n",
              "      <td>0.4601</td>\n",
              "      <td>0.11890</td>\n",
              "    </tr>\n",
              "    <tr>\n",
              "      <th>1</th>\n",
              "      <td>20.57</td>\n",
              "      <td>17.77</td>\n",
              "      <td>132.90</td>\n",
              "      <td>1326.0</td>\n",
              "      <td>0.08474</td>\n",
              "      <td>0.07864</td>\n",
              "      <td>0.0869</td>\n",
              "      <td>0.07017</td>\n",
              "      <td>0.1812</td>\n",
              "      <td>0.05667</td>\n",
              "      <td>...</td>\n",
              "      <td>24.99</td>\n",
              "      <td>23.41</td>\n",
              "      <td>158.80</td>\n",
              "      <td>1956.0</td>\n",
              "      <td>0.1238</td>\n",
              "      <td>0.1866</td>\n",
              "      <td>0.2416</td>\n",
              "      <td>186.0000</td>\n",
              "      <td>275.0000</td>\n",
              "      <td>0.08902</td>\n",
              "    </tr>\n",
              "    <tr>\n",
              "      <th>2</th>\n",
              "      <td>19.69</td>\n",
              "      <td>21.25</td>\n",
              "      <td>130.00</td>\n",
              "      <td>1203.0</td>\n",
              "      <td>0.10960</td>\n",
              "      <td>0.15990</td>\n",
              "      <td>0.1974</td>\n",
              "      <td>0.12790</td>\n",
              "      <td>0.2069</td>\n",
              "      <td>0.05999</td>\n",
              "      <td>...</td>\n",
              "      <td>23.57</td>\n",
              "      <td>25.53</td>\n",
              "      <td>152.50</td>\n",
              "      <td>1709.0</td>\n",
              "      <td>0.1444</td>\n",
              "      <td>0.4245</td>\n",
              "      <td>0.4504</td>\n",
              "      <td>243.0000</td>\n",
              "      <td>0.3613</td>\n",
              "      <td>0.08758</td>\n",
              "    </tr>\n",
              "    <tr>\n",
              "      <th>3</th>\n",
              "      <td>11.42</td>\n",
              "      <td>20.38</td>\n",
              "      <td>77.58</td>\n",
              "      <td>386.1</td>\n",
              "      <td>0.14250</td>\n",
              "      <td>0.28390</td>\n",
              "      <td>0.2414</td>\n",
              "      <td>0.10520</td>\n",
              "      <td>0.2597</td>\n",
              "      <td>0.09744</td>\n",
              "      <td>...</td>\n",
              "      <td>14.91</td>\n",
              "      <td>26.50</td>\n",
              "      <td>98.87</td>\n",
              "      <td>567.7</td>\n",
              "      <td>0.2098</td>\n",
              "      <td>0.8663</td>\n",
              "      <td>0.6869</td>\n",
              "      <td>0.2575</td>\n",
              "      <td>0.6638</td>\n",
              "      <td>173.00000</td>\n",
              "    </tr>\n",
              "    <tr>\n",
              "      <th>4</th>\n",
              "      <td>20.29</td>\n",
              "      <td>14.34</td>\n",
              "      <td>135.10</td>\n",
              "      <td>1297.0</td>\n",
              "      <td>0.10030</td>\n",
              "      <td>0.13280</td>\n",
              "      <td>198.0000</td>\n",
              "      <td>0.10430</td>\n",
              "      <td>0.1809</td>\n",
              "      <td>0.05883</td>\n",
              "      <td>...</td>\n",
              "      <td>22.54</td>\n",
              "      <td>16.67</td>\n",
              "      <td>152.20</td>\n",
              "      <td>1575.0</td>\n",
              "      <td>0.1374</td>\n",
              "      <td>205.0000</td>\n",
              "      <td>0.4000</td>\n",
              "      <td>0.1625</td>\n",
              "      <td>0.2364</td>\n",
              "      <td>0.07678</td>\n",
              "    </tr>\n",
              "  </tbody>\n",
              "</table>\n",
              "<p>5 rows × 30 columns</p>\n",
              "</div>\n",
              "    <div class=\"colab-df-buttons\">\n",
              "\n",
              "  <div class=\"colab-df-container\">\n",
              "    <button class=\"colab-df-convert\" onclick=\"convertToInteractive('df-33cc18a9-a010-4eb9-852b-7a0755c50697')\"\n",
              "            title=\"Convert this dataframe to an interactive table.\"\n",
              "            style=\"display:none;\">\n",
              "\n",
              "  <svg xmlns=\"http://www.w3.org/2000/svg\" height=\"24px\" viewBox=\"0 -960 960 960\">\n",
              "    <path d=\"M120-120v-720h720v720H120Zm60-500h600v-160H180v160Zm220 220h160v-160H400v160Zm0 220h160v-160H400v160ZM180-400h160v-160H180v160Zm440 0h160v-160H620v160ZM180-180h160v-160H180v160Zm440 0h160v-160H620v160Z\"/>\n",
              "  </svg>\n",
              "    </button>\n",
              "\n",
              "  <style>\n",
              "    .colab-df-container {\n",
              "      display:flex;\n",
              "      gap: 12px;\n",
              "    }\n",
              "\n",
              "    .colab-df-convert {\n",
              "      background-color: #E8F0FE;\n",
              "      border: none;\n",
              "      border-radius: 50%;\n",
              "      cursor: pointer;\n",
              "      display: none;\n",
              "      fill: #1967D2;\n",
              "      height: 32px;\n",
              "      padding: 0 0 0 0;\n",
              "      width: 32px;\n",
              "    }\n",
              "\n",
              "    .colab-df-convert:hover {\n",
              "      background-color: #E2EBFA;\n",
              "      box-shadow: 0px 1px 2px rgba(60, 64, 67, 0.3), 0px 1px 3px 1px rgba(60, 64, 67, 0.15);\n",
              "      fill: #174EA6;\n",
              "    }\n",
              "\n",
              "    .colab-df-buttons div {\n",
              "      margin-bottom: 4px;\n",
              "    }\n",
              "\n",
              "    [theme=dark] .colab-df-convert {\n",
              "      background-color: #3B4455;\n",
              "      fill: #D2E3FC;\n",
              "    }\n",
              "\n",
              "    [theme=dark] .colab-df-convert:hover {\n",
              "      background-color: #434B5C;\n",
              "      box-shadow: 0px 1px 3px 1px rgba(0, 0, 0, 0.15);\n",
              "      filter: drop-shadow(0px 1px 2px rgba(0, 0, 0, 0.3));\n",
              "      fill: #FFFFFF;\n",
              "    }\n",
              "  </style>\n",
              "\n",
              "    <script>\n",
              "      const buttonEl =\n",
              "        document.querySelector('#df-33cc18a9-a010-4eb9-852b-7a0755c50697 button.colab-df-convert');\n",
              "      buttonEl.style.display =\n",
              "        google.colab.kernel.accessAllowed ? 'block' : 'none';\n",
              "\n",
              "      async function convertToInteractive(key) {\n",
              "        const element = document.querySelector('#df-33cc18a9-a010-4eb9-852b-7a0755c50697');\n",
              "        const dataTable =\n",
              "          await google.colab.kernel.invokeFunction('convertToInteractive',\n",
              "                                                    [key], {});\n",
              "        if (!dataTable) return;\n",
              "\n",
              "        const docLinkHtml = 'Like what you see? Visit the ' +\n",
              "          '<a target=\"_blank\" href=https://colab.research.google.com/notebooks/data_table.ipynb>data table notebook</a>'\n",
              "          + ' to learn more about interactive tables.';\n",
              "        element.innerHTML = '';\n",
              "        dataTable['output_type'] = 'display_data';\n",
              "        await google.colab.output.renderOutput(dataTable, element);\n",
              "        const docLink = document.createElement('div');\n",
              "        docLink.innerHTML = docLinkHtml;\n",
              "        element.appendChild(docLink);\n",
              "      }\n",
              "    </script>\n",
              "  </div>\n",
              "\n",
              "\n",
              "<div id=\"df-98cb2c53-0f02-4386-bcc9-762be66030dd\">\n",
              "  <button class=\"colab-df-quickchart\" onclick=\"quickchart('df-98cb2c53-0f02-4386-bcc9-762be66030dd')\"\n",
              "            title=\"Suggest charts\"\n",
              "            style=\"display:none;\">\n",
              "\n",
              "<svg xmlns=\"http://www.w3.org/2000/svg\" height=\"24px\"viewBox=\"0 0 24 24\"\n",
              "     width=\"24px\">\n",
              "    <g>\n",
              "        <path d=\"M19 3H5c-1.1 0-2 .9-2 2v14c0 1.1.9 2 2 2h14c1.1 0 2-.9 2-2V5c0-1.1-.9-2-2-2zM9 17H7v-7h2v7zm4 0h-2V7h2v10zm4 0h-2v-4h2v4z\"/>\n",
              "    </g>\n",
              "</svg>\n",
              "  </button>\n",
              "\n",
              "<style>\n",
              "  .colab-df-quickchart {\n",
              "      --bg-color: #E8F0FE;\n",
              "      --fill-color: #1967D2;\n",
              "      --hover-bg-color: #E2EBFA;\n",
              "      --hover-fill-color: #174EA6;\n",
              "      --disabled-fill-color: #AAA;\n",
              "      --disabled-bg-color: #DDD;\n",
              "  }\n",
              "\n",
              "  [theme=dark] .colab-df-quickchart {\n",
              "      --bg-color: #3B4455;\n",
              "      --fill-color: #D2E3FC;\n",
              "      --hover-bg-color: #434B5C;\n",
              "      --hover-fill-color: #FFFFFF;\n",
              "      --disabled-bg-color: #3B4455;\n",
              "      --disabled-fill-color: #666;\n",
              "  }\n",
              "\n",
              "  .colab-df-quickchart {\n",
              "    background-color: var(--bg-color);\n",
              "    border: none;\n",
              "    border-radius: 50%;\n",
              "    cursor: pointer;\n",
              "    display: none;\n",
              "    fill: var(--fill-color);\n",
              "    height: 32px;\n",
              "    padding: 0;\n",
              "    width: 32px;\n",
              "  }\n",
              "\n",
              "  .colab-df-quickchart:hover {\n",
              "    background-color: var(--hover-bg-color);\n",
              "    box-shadow: 0 1px 2px rgba(60, 64, 67, 0.3), 0 1px 3px 1px rgba(60, 64, 67, 0.15);\n",
              "    fill: var(--button-hover-fill-color);\n",
              "  }\n",
              "\n",
              "  .colab-df-quickchart-complete:disabled,\n",
              "  .colab-df-quickchart-complete:disabled:hover {\n",
              "    background-color: var(--disabled-bg-color);\n",
              "    fill: var(--disabled-fill-color);\n",
              "    box-shadow: none;\n",
              "  }\n",
              "\n",
              "  .colab-df-spinner {\n",
              "    border: 2px solid var(--fill-color);\n",
              "    border-color: transparent;\n",
              "    border-bottom-color: var(--fill-color);\n",
              "    animation:\n",
              "      spin 1s steps(1) infinite;\n",
              "  }\n",
              "\n",
              "  @keyframes spin {\n",
              "    0% {\n",
              "      border-color: transparent;\n",
              "      border-bottom-color: var(--fill-color);\n",
              "      border-left-color: var(--fill-color);\n",
              "    }\n",
              "    20% {\n",
              "      border-color: transparent;\n",
              "      border-left-color: var(--fill-color);\n",
              "      border-top-color: var(--fill-color);\n",
              "    }\n",
              "    30% {\n",
              "      border-color: transparent;\n",
              "      border-left-color: var(--fill-color);\n",
              "      border-top-color: var(--fill-color);\n",
              "      border-right-color: var(--fill-color);\n",
              "    }\n",
              "    40% {\n",
              "      border-color: transparent;\n",
              "      border-right-color: var(--fill-color);\n",
              "      border-top-color: var(--fill-color);\n",
              "    }\n",
              "    60% {\n",
              "      border-color: transparent;\n",
              "      border-right-color: var(--fill-color);\n",
              "    }\n",
              "    80% {\n",
              "      border-color: transparent;\n",
              "      border-right-color: var(--fill-color);\n",
              "      border-bottom-color: var(--fill-color);\n",
              "    }\n",
              "    90% {\n",
              "      border-color: transparent;\n",
              "      border-bottom-color: var(--fill-color);\n",
              "    }\n",
              "  }\n",
              "</style>\n",
              "\n",
              "  <script>\n",
              "    async function quickchart(key) {\n",
              "      const quickchartButtonEl =\n",
              "        document.querySelector('#' + key + ' button');\n",
              "      quickchartButtonEl.disabled = true;  // To prevent multiple clicks.\n",
              "      quickchartButtonEl.classList.add('colab-df-spinner');\n",
              "      try {\n",
              "        const charts = await google.colab.kernel.invokeFunction(\n",
              "            'suggestCharts', [key], {});\n",
              "      } catch (error) {\n",
              "        console.error('Error during call to suggestCharts:', error);\n",
              "      }\n",
              "      quickchartButtonEl.classList.remove('colab-df-spinner');\n",
              "      quickchartButtonEl.classList.add('colab-df-quickchart-complete');\n",
              "    }\n",
              "    (() => {\n",
              "      let quickchartButtonEl =\n",
              "        document.querySelector('#df-98cb2c53-0f02-4386-bcc9-762be66030dd button');\n",
              "      quickchartButtonEl.style.display =\n",
              "        google.colab.kernel.accessAllowed ? 'block' : 'none';\n",
              "    })();\n",
              "  </script>\n",
              "</div>\n",
              "    </div>\n",
              "  </div>\n"
            ],
            "application/vnd.google.colaboratory.intrinsic+json": {
              "type": "dataframe",
              "variable_name": "forecasters"
            }
          },
          "metadata": {},
          "execution_count": 10
        }
      ]
    },
    {
      "cell_type": "code",
      "source": [
        "label.head()"
      ],
      "metadata": {
        "colab": {
          "base_uri": "https://localhost:8080/",
          "height": 206
        },
        "id": "RYM8ZofxJCVs",
        "outputId": "e71b2288-8641-4752-b9e5-47c856a6c84f"
      },
      "execution_count": 11,
      "outputs": [
        {
          "output_type": "execute_result",
          "data": {
            "text/plain": [
              "   0\n",
              "0  0\n",
              "1  0\n",
              "2  0\n",
              "3  0\n",
              "4  0"
            ],
            "text/html": [
              "\n",
              "  <div id=\"df-fe89fa70-e86e-46fa-9d8f-76814f0315c9\" class=\"colab-df-container\">\n",
              "    <div>\n",
              "<style scoped>\n",
              "    .dataframe tbody tr th:only-of-type {\n",
              "        vertical-align: middle;\n",
              "    }\n",
              "\n",
              "    .dataframe tbody tr th {\n",
              "        vertical-align: top;\n",
              "    }\n",
              "\n",
              "    .dataframe thead th {\n",
              "        text-align: right;\n",
              "    }\n",
              "</style>\n",
              "<table border=\"1\" class=\"dataframe\">\n",
              "  <thead>\n",
              "    <tr style=\"text-align: right;\">\n",
              "      <th></th>\n",
              "      <th>0</th>\n",
              "    </tr>\n",
              "  </thead>\n",
              "  <tbody>\n",
              "    <tr>\n",
              "      <th>0</th>\n",
              "      <td>0</td>\n",
              "    </tr>\n",
              "    <tr>\n",
              "      <th>1</th>\n",
              "      <td>0</td>\n",
              "    </tr>\n",
              "    <tr>\n",
              "      <th>2</th>\n",
              "      <td>0</td>\n",
              "    </tr>\n",
              "    <tr>\n",
              "      <th>3</th>\n",
              "      <td>0</td>\n",
              "    </tr>\n",
              "    <tr>\n",
              "      <th>4</th>\n",
              "      <td>0</td>\n",
              "    </tr>\n",
              "  </tbody>\n",
              "</table>\n",
              "</div>\n",
              "    <div class=\"colab-df-buttons\">\n",
              "\n",
              "  <div class=\"colab-df-container\">\n",
              "    <button class=\"colab-df-convert\" onclick=\"convertToInteractive('df-fe89fa70-e86e-46fa-9d8f-76814f0315c9')\"\n",
              "            title=\"Convert this dataframe to an interactive table.\"\n",
              "            style=\"display:none;\">\n",
              "\n",
              "  <svg xmlns=\"http://www.w3.org/2000/svg\" height=\"24px\" viewBox=\"0 -960 960 960\">\n",
              "    <path d=\"M120-120v-720h720v720H120Zm60-500h600v-160H180v160Zm220 220h160v-160H400v160Zm0 220h160v-160H400v160ZM180-400h160v-160H180v160Zm440 0h160v-160H620v160ZM180-180h160v-160H180v160Zm440 0h160v-160H620v160Z\"/>\n",
              "  </svg>\n",
              "    </button>\n",
              "\n",
              "  <style>\n",
              "    .colab-df-container {\n",
              "      display:flex;\n",
              "      gap: 12px;\n",
              "    }\n",
              "\n",
              "    .colab-df-convert {\n",
              "      background-color: #E8F0FE;\n",
              "      border: none;\n",
              "      border-radius: 50%;\n",
              "      cursor: pointer;\n",
              "      display: none;\n",
              "      fill: #1967D2;\n",
              "      height: 32px;\n",
              "      padding: 0 0 0 0;\n",
              "      width: 32px;\n",
              "    }\n",
              "\n",
              "    .colab-df-convert:hover {\n",
              "      background-color: #E2EBFA;\n",
              "      box-shadow: 0px 1px 2px rgba(60, 64, 67, 0.3), 0px 1px 3px 1px rgba(60, 64, 67, 0.15);\n",
              "      fill: #174EA6;\n",
              "    }\n",
              "\n",
              "    .colab-df-buttons div {\n",
              "      margin-bottom: 4px;\n",
              "    }\n",
              "\n",
              "    [theme=dark] .colab-df-convert {\n",
              "      background-color: #3B4455;\n",
              "      fill: #D2E3FC;\n",
              "    }\n",
              "\n",
              "    [theme=dark] .colab-df-convert:hover {\n",
              "      background-color: #434B5C;\n",
              "      box-shadow: 0px 1px 3px 1px rgba(0, 0, 0, 0.15);\n",
              "      filter: drop-shadow(0px 1px 2px rgba(0, 0, 0, 0.3));\n",
              "      fill: #FFFFFF;\n",
              "    }\n",
              "  </style>\n",
              "\n",
              "    <script>\n",
              "      const buttonEl =\n",
              "        document.querySelector('#df-fe89fa70-e86e-46fa-9d8f-76814f0315c9 button.colab-df-convert');\n",
              "      buttonEl.style.display =\n",
              "        google.colab.kernel.accessAllowed ? 'block' : 'none';\n",
              "\n",
              "      async function convertToInteractive(key) {\n",
              "        const element = document.querySelector('#df-fe89fa70-e86e-46fa-9d8f-76814f0315c9');\n",
              "        const dataTable =\n",
              "          await google.colab.kernel.invokeFunction('convertToInteractive',\n",
              "                                                    [key], {});\n",
              "        if (!dataTable) return;\n",
              "\n",
              "        const docLinkHtml = 'Like what you see? Visit the ' +\n",
              "          '<a target=\"_blank\" href=https://colab.research.google.com/notebooks/data_table.ipynb>data table notebook</a>'\n",
              "          + ' to learn more about interactive tables.';\n",
              "        element.innerHTML = '';\n",
              "        dataTable['output_type'] = 'display_data';\n",
              "        await google.colab.output.renderOutput(dataTable, element);\n",
              "        const docLink = document.createElement('div');\n",
              "        docLink.innerHTML = docLinkHtml;\n",
              "        element.appendChild(docLink);\n",
              "      }\n",
              "    </script>\n",
              "  </div>\n",
              "\n",
              "\n",
              "<div id=\"df-3e87c7af-127e-4494-b6e2-d11910ac592e\">\n",
              "  <button class=\"colab-df-quickchart\" onclick=\"quickchart('df-3e87c7af-127e-4494-b6e2-d11910ac592e')\"\n",
              "            title=\"Suggest charts\"\n",
              "            style=\"display:none;\">\n",
              "\n",
              "<svg xmlns=\"http://www.w3.org/2000/svg\" height=\"24px\"viewBox=\"0 0 24 24\"\n",
              "     width=\"24px\">\n",
              "    <g>\n",
              "        <path d=\"M19 3H5c-1.1 0-2 .9-2 2v14c0 1.1.9 2 2 2h14c1.1 0 2-.9 2-2V5c0-1.1-.9-2-2-2zM9 17H7v-7h2v7zm4 0h-2V7h2v10zm4 0h-2v-4h2v4z\"/>\n",
              "    </g>\n",
              "</svg>\n",
              "  </button>\n",
              "\n",
              "<style>\n",
              "  .colab-df-quickchart {\n",
              "      --bg-color: #E8F0FE;\n",
              "      --fill-color: #1967D2;\n",
              "      --hover-bg-color: #E2EBFA;\n",
              "      --hover-fill-color: #174EA6;\n",
              "      --disabled-fill-color: #AAA;\n",
              "      --disabled-bg-color: #DDD;\n",
              "  }\n",
              "\n",
              "  [theme=dark] .colab-df-quickchart {\n",
              "      --bg-color: #3B4455;\n",
              "      --fill-color: #D2E3FC;\n",
              "      --hover-bg-color: #434B5C;\n",
              "      --hover-fill-color: #FFFFFF;\n",
              "      --disabled-bg-color: #3B4455;\n",
              "      --disabled-fill-color: #666;\n",
              "  }\n",
              "\n",
              "  .colab-df-quickchart {\n",
              "    background-color: var(--bg-color);\n",
              "    border: none;\n",
              "    border-radius: 50%;\n",
              "    cursor: pointer;\n",
              "    display: none;\n",
              "    fill: var(--fill-color);\n",
              "    height: 32px;\n",
              "    padding: 0;\n",
              "    width: 32px;\n",
              "  }\n",
              "\n",
              "  .colab-df-quickchart:hover {\n",
              "    background-color: var(--hover-bg-color);\n",
              "    box-shadow: 0 1px 2px rgba(60, 64, 67, 0.3), 0 1px 3px 1px rgba(60, 64, 67, 0.15);\n",
              "    fill: var(--button-hover-fill-color);\n",
              "  }\n",
              "\n",
              "  .colab-df-quickchart-complete:disabled,\n",
              "  .colab-df-quickchart-complete:disabled:hover {\n",
              "    background-color: var(--disabled-bg-color);\n",
              "    fill: var(--disabled-fill-color);\n",
              "    box-shadow: none;\n",
              "  }\n",
              "\n",
              "  .colab-df-spinner {\n",
              "    border: 2px solid var(--fill-color);\n",
              "    border-color: transparent;\n",
              "    border-bottom-color: var(--fill-color);\n",
              "    animation:\n",
              "      spin 1s steps(1) infinite;\n",
              "  }\n",
              "\n",
              "  @keyframes spin {\n",
              "    0% {\n",
              "      border-color: transparent;\n",
              "      border-bottom-color: var(--fill-color);\n",
              "      border-left-color: var(--fill-color);\n",
              "    }\n",
              "    20% {\n",
              "      border-color: transparent;\n",
              "      border-left-color: var(--fill-color);\n",
              "      border-top-color: var(--fill-color);\n",
              "    }\n",
              "    30% {\n",
              "      border-color: transparent;\n",
              "      border-left-color: var(--fill-color);\n",
              "      border-top-color: var(--fill-color);\n",
              "      border-right-color: var(--fill-color);\n",
              "    }\n",
              "    40% {\n",
              "      border-color: transparent;\n",
              "      border-right-color: var(--fill-color);\n",
              "      border-top-color: var(--fill-color);\n",
              "    }\n",
              "    60% {\n",
              "      border-color: transparent;\n",
              "      border-right-color: var(--fill-color);\n",
              "    }\n",
              "    80% {\n",
              "      border-color: transparent;\n",
              "      border-right-color: var(--fill-color);\n",
              "      border-bottom-color: var(--fill-color);\n",
              "    }\n",
              "    90% {\n",
              "      border-color: transparent;\n",
              "      border-bottom-color: var(--fill-color);\n",
              "    }\n",
              "  }\n",
              "</style>\n",
              "\n",
              "  <script>\n",
              "    async function quickchart(key) {\n",
              "      const quickchartButtonEl =\n",
              "        document.querySelector('#' + key + ' button');\n",
              "      quickchartButtonEl.disabled = true;  // To prevent multiple clicks.\n",
              "      quickchartButtonEl.classList.add('colab-df-spinner');\n",
              "      try {\n",
              "        const charts = await google.colab.kernel.invokeFunction(\n",
              "            'suggestCharts', [key], {});\n",
              "      } catch (error) {\n",
              "        console.error('Error during call to suggestCharts:', error);\n",
              "      }\n",
              "      quickchartButtonEl.classList.remove('colab-df-spinner');\n",
              "      quickchartButtonEl.classList.add('colab-df-quickchart-complete');\n",
              "    }\n",
              "    (() => {\n",
              "      let quickchartButtonEl =\n",
              "        document.querySelector('#df-3e87c7af-127e-4494-b6e2-d11910ac592e button');\n",
              "      quickchartButtonEl.style.display =\n",
              "        google.colab.kernel.accessAllowed ? 'block' : 'none';\n",
              "    })();\n",
              "  </script>\n",
              "</div>\n",
              "    </div>\n",
              "  </div>\n"
            ],
            "application/vnd.google.colaboratory.intrinsic+json": {
              "type": "dataframe",
              "variable_name": "label",
              "summary": "{\n  \"name\": \"label\",\n  \"rows\": 569,\n  \"fields\": [\n    {\n      \"column\": \"0\",\n      \"properties\": {\n        \"dtype\": \"number\",\n        \"std\": 0,\n        \"min\": 0,\n        \"max\": 1,\n        \"num_unique_values\": 2,\n        \"samples\": [\n          1,\n          0\n        ],\n        \"semantic_type\": \"\",\n        \"description\": \"\"\n      }\n    }\n  ]\n}"
            }
          },
          "metadata": {},
          "execution_count": 11
        }
      ]
    },
    {
      "cell_type": "code",
      "source": [
        "np.unique(label)"
      ],
      "metadata": {
        "colab": {
          "base_uri": "https://localhost:8080/"
        },
        "id": "EMjuCUAXJGaM",
        "outputId": "66135e01-fe8a-41bb-e296-2d8a054677a5"
      },
      "execution_count": 12,
      "outputs": [
        {
          "output_type": "execute_result",
          "data": {
            "text/plain": [
              "array([0, 1])"
            ]
          },
          "metadata": {},
          "execution_count": 12
        }
      ]
    },
    {
      "cell_type": "code",
      "source": [
        "true_label = label[label['0'] == 1]\n",
        "false_label = label[label['0'] == 0]\n",
        "\n",
        "sns.countplot(data=true_label, x='0')\n",
        "sns.countplot(data=false_label, x='0');"
      ],
      "metadata": {
        "colab": {
          "base_uri": "https://localhost:8080/",
          "height": 449
        },
        "id": "fNq1gc3FJLU6",
        "outputId": "270afd2a-7e14-49e6-8c7c-aad53f5de210"
      },
      "execution_count": 18,
      "outputs": [
        {
          "output_type": "display_data",
          "data": {
            "text/plain": [
              "<Figure size 640x480 with 1 Axes>"
            ],
            "image/png": "[encoded data removed]"
          },
          "metadata": {}
        }
      ]
    },
    {
      "cell_type": "code",
      "source": [
        "forecasters_train, forecasters_test, label_train, label_test = train_test_split(forecasters, label, test_size=0.25)"
      ],
      "metadata": {
        "id": "J-QNQ1rVKCHU"
      },
      "execution_count": 67,
      "outputs": []
    },
    {
      "cell_type": "code",
      "source": [
        "forecasters_train.shape"
      ],
      "metadata": {
        "colab": {
          "base_uri": "https://localhost:8080/"
        },
        "id": "J0imGnXjKSRs",
        "outputId": "e45f907a-d35d-4a81-8179-003bd589b74b"
      },
      "execution_count": 20,
      "outputs": [
        {
          "output_type": "execute_result",
          "data": {
            "text/plain": [
              "(426, 30)"
            ]
          },
          "metadata": {},
          "execution_count": 20
        }
      ]
    },
    {
      "cell_type": "code",
      "source": [
        "label_train.shape"
      ],
      "metadata": {
        "colab": {
          "base_uri": "https://localhost:8080/"
        },
        "id": "c9N9K52YKVJb",
        "outputId": "c44506f0-a525-4ba2-f9a0-cfd2d1690d5c"
      },
      "execution_count": 21,
      "outputs": [
        {
          "output_type": "execute_result",
          "data": {
            "text/plain": [
              "(426, 1)"
            ]
          },
          "metadata": {},
          "execution_count": 21
        }
      ]
    },
    {
      "cell_type": "code",
      "source": [
        "forecasters_test.shape"
      ],
      "metadata": {
        "colab": {
          "base_uri": "https://localhost:8080/"
        },
        "id": "YD9r7IZvKYWB",
        "outputId": "c0c497c8-c39a-4f1c-8cd1-49207228ccd8"
      },
      "execution_count": 22,
      "outputs": [
        {
          "output_type": "execute_result",
          "data": {
            "text/plain": [
              "(143, 30)"
            ]
          },
          "metadata": {},
          "execution_count": 22
        }
      ]
    },
    {
      "cell_type": "code",
      "source": [
        "label_test.shape"
      ],
      "metadata": {
        "colab": {
          "base_uri": "https://localhost:8080/"
        },
        "id": "fdz3KnBbKbJV",
        "outputId": "4e7cf525-17ee-4246-fdd0-e05ff3072552"
      },
      "execution_count": 23,
      "outputs": [
        {
          "output_type": "execute_result",
          "data": {
            "text/plain": [
              "(143, 1)"
            ]
          },
          "metadata": {},
          "execution_count": 23
        }
      ]
    },
    {
      "cell_type": "markdown",
      "source": [
        "# Step 3\n",
        "\n",
        "The transformation of data into tensors.\n"
      ],
      "metadata": {
        "id": "paKnqgFQKnqK"
      }
    },
    {
      "cell_type": "code",
      "source": [
        "type(forecasters_train)"
      ],
      "metadata": {
        "colab": {
          "base_uri": "https://localhost:8080/",
          "height": 204
        },
        "id": "lt4R-UPvKuIb",
        "outputId": "a6f973c1-afa9-4dfc-ef9a-48c6fd43735f"
      },
      "execution_count": 24,
      "outputs": [
        {
          "output_type": "execute_result",
          "data": {
            "text/plain": [
              "pandas.core.frame.DataFrame"
            ],
            "text/html": [
              "<div style=\"max-width:800px; border: 1px solid var(--colab-border-color);\"><style>\n",
              "      pre.function-repr-contents {\n",
              "        overflow-x: auto;\n",
              "        padding: 8px 12px;\n",
              "        max-height: 500px;\n",
              "      }\n",
              "\n",
              "      pre.function-repr-contents.function-repr-contents-collapsed {\n",
              "        cursor: pointer;\n",
              "        max-height: 100px;\n",
              "      }\n",
              "    </style>\n",
              "    <pre style=\"white-space: initial; background:\n",
              "         var(--colab-secondary-surface-color); padding: 8px 12px;\n",
              "         border-bottom: 1px solid var(--colab-border-color);\"><b>pandas.core.frame.DataFrame</b><br/>def __init__(data=None, index: Axes | None=None, columns: Axes | None=None, dtype: Dtype | None=None, copy: bool | None=None) -&gt; None</pre><pre class=\"function-repr-contents function-repr-contents-collapsed\" style=\"\"><a class=\"filepath\" style=\"display:none\" href=\"#\">/usr/local/lib/python3.10/dist-packages/pandas/core/frame.py</a>Two-dimensional, size-mutable, potentially heterogeneous tabular data.\n",
              "\n",
              "Data structure also contains labeled axes (rows and columns).\n",
              "Arithmetic operations align on both row and column labels. Can be\n",
              "thought of as a dict-like container for Series objects. The primary\n",
              "pandas data structure.\n",
              "\n",
              "Parameters\n",
              "----------\n",
              "data : ndarray (structured or homogeneous), Iterable, dict, or DataFrame\n",
              "    Dict can contain Series, arrays, constants, dataclass or list-like objects. If\n",
              "    data is a dict, column order follows insertion-order. If a dict contains Series\n",
              "    which have an index defined, it is aligned by its index. This alignment also\n",
              "    occurs if data is a Series or a DataFrame itself. Alignment is done on\n",
              "    Series/DataFrame inputs.\n",
              "\n",
              "    If data is a list of dicts, column order follows insertion-order.\n",
              "\n",
              "index : Index or array-like\n",
              "    Index to use for resulting frame. Will default to RangeIndex if\n",
              "    no indexing information part of input data and no index provided.\n",
              "columns : Index or array-like\n",
              "    Column labels to use for resulting frame when data does not have them,\n",
              "    defaulting to RangeIndex(0, 1, 2, ..., n). If data contains column labels,\n",
              "    will perform column selection instead.\n",
              "dtype : dtype, default None\n",
              "    Data type to force. Only a single dtype is allowed. If None, infer.\n",
              "copy : bool or None, default None\n",
              "    Copy data from inputs.\n",
              "    For dict data, the default of None behaves like ``copy=True``.  For DataFrame\n",
              "    or 2d ndarray input, the default of None behaves like ``copy=False``.\n",
              "    If data is a dict containing one or more Series (possibly of different dtypes),\n",
              "    ``copy=False`` will ensure that these inputs are not copied.\n",
              "\n",
              "    .. versionchanged:: 1.3.0\n",
              "\n",
              "See Also\n",
              "--------\n",
              "DataFrame.from_records : Constructor from tuples, also record arrays.\n",
              "DataFrame.from_dict : From dicts of Series, arrays, or dicts.\n",
              "read_csv : Read a comma-separated values (csv) file into DataFrame.\n",
              "read_table : Read general delimited file into DataFrame.\n",
              "read_clipboard : Read text from clipboard into DataFrame.\n",
              "\n",
              "Notes\n",
              "-----\n",
              "Please reference the :ref:`User Guide &lt;basics.dataframe&gt;` for more information.\n",
              "\n",
              "Examples\n",
              "--------\n",
              "Constructing DataFrame from a dictionary.\n",
              "\n",
              "&gt;&gt;&gt; d = {&#x27;col1&#x27;: [1, 2], &#x27;col2&#x27;: [3, 4]}\n",
              "&gt;&gt;&gt; df = pd.DataFrame(data=d)\n",
              "&gt;&gt;&gt; df\n",
              "   col1  col2\n",
              "0     1     3\n",
              "1     2     4\n",
              "\n",
              "Notice that the inferred dtype is int64.\n",
              "\n",
              "&gt;&gt;&gt; df.dtypes\n",
              "col1    int64\n",
              "col2    int64\n",
              "dtype: object\n",
              "\n",
              "To enforce a single dtype:\n",
              "\n",
              "&gt;&gt;&gt; df = pd.DataFrame(data=d, dtype=np.int8)\n",
              "&gt;&gt;&gt; df.dtypes\n",
              "col1    int8\n",
              "col2    int8\n",
              "dtype: object\n",
              "\n",
              "Constructing DataFrame from a dictionary including Series:\n",
              "\n",
              "&gt;&gt;&gt; d = {&#x27;col1&#x27;: [0, 1, 2, 3], &#x27;col2&#x27;: pd.Series([2, 3], index=[2, 3])}\n",
              "&gt;&gt;&gt; pd.DataFrame(data=d, index=[0, 1, 2, 3])\n",
              "   col1  col2\n",
              "0     0   NaN\n",
              "1     1   NaN\n",
              "2     2   2.0\n",
              "3     3   3.0\n",
              "\n",
              "Constructing DataFrame from numpy ndarray:\n",
              "\n",
              "&gt;&gt;&gt; df2 = pd.DataFrame(np.array([[1, 2, 3], [4, 5, 6], [7, 8, 9]]),\n",
              "...                    columns=[&#x27;a&#x27;, &#x27;b&#x27;, &#x27;c&#x27;])\n",
              "&gt;&gt;&gt; df2\n",
              "   a  b  c\n",
              "0  1  2  3\n",
              "1  4  5  6\n",
              "2  7  8  9\n",
              "\n",
              "Constructing DataFrame from a numpy ndarray that has labeled columns:\n",
              "\n",
              "&gt;&gt;&gt; data = np.array([(1, 2, 3), (4, 5, 6), (7, 8, 9)],\n",
              "...                 dtype=[(&quot;a&quot;, &quot;i4&quot;), (&quot;b&quot;, &quot;i4&quot;), (&quot;c&quot;, &quot;i4&quot;)])\n",
              "&gt;&gt;&gt; df3 = pd.DataFrame(data, columns=[&#x27;c&#x27;, &#x27;a&#x27;])\n",
              "...\n",
              "&gt;&gt;&gt; df3\n",
              "   c  a\n",
              "0  3  1\n",
              "1  6  4\n",
              "2  9  7\n",
              "\n",
              "Constructing DataFrame from dataclass:\n",
              "\n",
              "&gt;&gt;&gt; from dataclasses import make_dataclass\n",
              "&gt;&gt;&gt; Point = make_dataclass(&quot;Point&quot;, [(&quot;x&quot;, int), (&quot;y&quot;, int)])\n",
              "&gt;&gt;&gt; pd.DataFrame([Point(0, 0), Point(0, 3), Point(2, 3)])\n",
              "   x  y\n",
              "0  0  0\n",
              "1  0  3\n",
              "2  2  3\n",
              "\n",
              "Constructing DataFrame from Series/DataFrame:\n",
              "\n",
              "&gt;&gt;&gt; ser = pd.Series([1, 2, 3], index=[&quot;a&quot;, &quot;b&quot;, &quot;c&quot;])\n",
              "&gt;&gt;&gt; df = pd.DataFrame(data=ser, index=[&quot;a&quot;, &quot;c&quot;])\n",
              "&gt;&gt;&gt; df\n",
              "   0\n",
              "a  1\n",
              "c  3\n",
              "\n",
              "&gt;&gt;&gt; df1 = pd.DataFrame([1, 2, 3], index=[&quot;a&quot;, &quot;b&quot;, &quot;c&quot;], columns=[&quot;x&quot;])\n",
              "&gt;&gt;&gt; df2 = pd.DataFrame(data=df1, index=[&quot;a&quot;, &quot;c&quot;])\n",
              "&gt;&gt;&gt; df2\n",
              "   x\n",
              "a  1\n",
              "c  3</pre>\n",
              "      <script>\n",
              "      if (google.colab.kernel.accessAllowed && google.colab.files && google.colab.files.view) {\n",
              "        for (const element of document.querySelectorAll('.filepath')) {\n",
              "          element.style.display = 'block'\n",
              "          element.onclick = (event) => {\n",
              "            event.preventDefault();\n",
              "            event.stopPropagation();\n",
              "            google.colab.files.view(element.textContent, 490);\n",
              "          };\n",
              "        }\n",
              "      }\n",
              "      for (const element of document.querySelectorAll('.function-repr-contents')) {\n",
              "        element.onclick = (event) => {\n",
              "          event.preventDefault();\n",
              "          event.stopPropagation();\n",
              "          element.classList.toggle('function-repr-contents-collapsed');\n",
              "        };\n",
              "      }\n",
              "      </script>\n",
              "      </div>"
            ]
          },
          "metadata": {},
          "execution_count": 24
        }
      ]
    },
    {
      "cell_type": "code",
      "source": [
        "type(np.array(forecasters_train))"
      ],
      "metadata": {
        "colab": {
          "base_uri": "https://localhost:8080/"
        },
        "id": "PLNn6cPEK2lc",
        "outputId": "80a323d4-6442-482a-94a2-bab0f47ac548"
      },
      "execution_count": 25,
      "outputs": [
        {
          "output_type": "execute_result",
          "data": {
            "text/plain": [
              "numpy.ndarray"
            ]
          },
          "metadata": {},
          "execution_count": 25
        }
      ]
    },
    {
      "cell_type": "markdown",
      "source": [
        "tensor is like array, but they are transformed to guarantee a processing in gpu"
      ],
      "metadata": {
        "id": "6TJLhBH5K_px"
      }
    },
    {
      "cell_type": "code",
      "source": [
        "forecasters_train = torch.tensor(np.array(forecasters_train), dtype=torch.float)\n",
        "label_train = torch.tensor(np.array(label_train), dtype=torch.float)"
      ],
      "metadata": {
        "id": "N6vX74DWK6Nz"
      },
      "execution_count": 28,
      "outputs": []
    },
    {
      "cell_type": "code",
      "source": [
        "type(forecasters_train)"
      ],
      "metadata": {
        "colab": {
          "base_uri": "https://localhost:8080/"
        },
        "id": "8P09lMO3Ln-h",
        "outputId": "72db1c79-15d2-4a59-f4b5-b0286d28fd75"
      },
      "execution_count": 29,
      "outputs": [
        {
          "output_type": "execute_result",
          "data": {
            "text/plain": [
              "torch.Tensor"
            ]
          },
          "metadata": {},
          "execution_count": 29
        }
      ]
    },
    {
      "cell_type": "code",
      "source": [
        "type(label_train)"
      ],
      "metadata": {
        "colab": {
          "base_uri": "https://localhost:8080/"
        },
        "id": "bB3G1EFCLqUa",
        "outputId": "2d2ec2cd-b424-4275-86e0-d4896e777087"
      },
      "execution_count": 30,
      "outputs": [
        {
          "output_type": "execute_result",
          "data": {
            "text/plain": [
              "torch.Tensor"
            ]
          },
          "metadata": {},
          "execution_count": 30
        }
      ]
    },
    {
      "cell_type": "code",
      "source": [
        "dataset = torch.utils.data.TensorDataset(forecasters_train, label_train)"
      ],
      "metadata": {
        "id": "YsbYbUjcLxhd"
      },
      "execution_count": 33,
      "outputs": []
    },
    {
      "cell_type": "code",
      "source": [
        "type(dataset)"
      ],
      "metadata": {
        "colab": {
          "base_uri": "https://localhost:8080/",
          "height": 187
        },
        "id": "ouAKFlp3MLn5",
        "outputId": "c3f3b5bd-708b-4ad3-ceac-ce749fda87f4"
      },
      "execution_count": 34,
      "outputs": [
        {
          "output_type": "execute_result",
          "data": {
            "text/plain": [
              "torch.utils.data.dataset.TensorDataset"
            ],
            "text/html": [
              "<div style=\"max-width:800px; border: 1px solid var(--colab-border-color);\"><style>\n",
              "      pre.function-repr-contents {\n",
              "        overflow-x: auto;\n",
              "        padding: 8px 12px;\n",
              "        max-height: 500px;\n",
              "      }\n",
              "\n",
              "      pre.function-repr-contents.function-repr-contents-collapsed {\n",
              "        cursor: pointer;\n",
              "        max-height: 100px;\n",
              "      }\n",
              "    </style>\n",
              "    <pre style=\"white-space: initial; background:\n",
              "         var(--colab-secondary-surface-color); padding: 8px 12px;\n",
              "         border-bottom: 1px solid var(--colab-border-color);\"><b>torch.utils.data.dataset.TensorDataset</b><br/>def __init__(*tensors: Tensor) -&gt; None</pre><pre class=\"function-repr-contents function-repr-contents-collapsed\" style=\"\"><a class=\"filepath\" style=\"display:none\" href=\"#\">/usr/local/lib/python3.10/dist-packages/torch/utils/data/dataset.py</a>Dataset wrapping tensors.\n",
              "\n",
              "Each sample will be retrieved by indexing tensors along the first dimension.\n",
              "\n",
              "Args:\n",
              "    *tensors (Tensor): tensors that have the same size of the first dimension.</pre>\n",
              "      <script>\n",
              "      if (google.colab.kernel.accessAllowed && google.colab.files && google.colab.files.view) {\n",
              "        for (const element of document.querySelectorAll('.filepath')) {\n",
              "          element.style.display = 'block'\n",
              "          element.onclick = (event) => {\n",
              "            event.preventDefault();\n",
              "            event.stopPropagation();\n",
              "            google.colab.files.view(element.textContent, 190);\n",
              "          };\n",
              "        }\n",
              "      }\n",
              "      for (const element of document.querySelectorAll('.function-repr-contents')) {\n",
              "        element.onclick = (event) => {\n",
              "          event.preventDefault();\n",
              "          event.stopPropagation();\n",
              "          element.classList.toggle('function-repr-contents-collapsed');\n",
              "        };\n",
              "      }\n",
              "      </script>\n",
              "      </div>"
            ]
          },
          "metadata": {},
          "execution_count": 34
        }
      ]
    },
    {
      "cell_type": "code",
      "source": [
        "train_loader = torch.utils.data.DataLoader(dataset, batch_size=10, shuffle=True)"
      ],
      "metadata": {
        "id": "nUfbIP-kMPJF"
      },
      "execution_count": 35,
      "outputs": []
    },
    {
      "cell_type": "markdown",
      "source": [
        "# Step 4\n",
        "\n",
        "Model building"
      ],
      "metadata": {
        "id": "wNo2f8QLM7W0"
      }
    },
    {
      "cell_type": "code",
      "source": [
        "# 30 -> input layer\n",
        "# 2 -> hidden layer (16 neurons, 16 neurons)\n",
        "# 1 -> output layer (binary classification)\n",
        "# (input + output) / 2 -> number of neurons in hidden layer\n",
        "# in_features -> number of neurons in input layer\n",
        "# out features -> number of neurons coneccted in hidden layer\n",
        "\n",
        "classifier = nn.Sequential(\n",
        "    nn.Linear(in_features=30, out_features=16), # dense -> all input layer conect to each other hidden layer\n",
        "    nn.ReLU(), # ReLU function will be applied to all neurons in hidden layer\n",
        "    nn.Linear(16, 16), # number of neurons linked\n",
        "    nn.ReLU(),\n",
        "    nn.Linear(16, 1), # number of neurons linked to hidden layer, output layer\n",
        "    nn.Sigmoid() # returns an probability\n",
        ")"
      ],
      "metadata": {
        "id": "SnQbpLDtM-zx"
      },
      "execution_count": 36,
      "outputs": []
    },
    {
      "cell_type": "code",
      "source": [
        "classifier.parameters"
      ],
      "metadata": {
        "colab": {
          "base_uri": "https://localhost:8080/",
          "height": 187
        },
        "id": "k0fEa-seOjhA",
        "outputId": "c155c1c5-07c6-424d-9b02-d5737e92afee"
      },
      "execution_count": 41,
      "outputs": [
        {
          "output_type": "execute_result",
          "data": {
            "text/plain": [
              "<bound method Module.parameters of Sequential(\n",
              "  (0): Linear(in_features=30, out_features=16, bias=True)\n",
              "  (1): ReLU()\n",
              "  (2): Linear(in_features=16, out_features=16, bias=True)\n",
              "  (3): ReLU()\n",
              "  (4): Linear(in_features=16, out_features=1, bias=True)\n",
              "  (5): Sigmoid()\n",
              ")>"
            ],
            "text/html": [
              "<div style=\"max-width:800px; border: 1px solid var(--colab-border-color);\"><style>\n",
              "      pre.function-repr-contents {\n",
              "        overflow-x: auto;\n",
              "        padding: 8px 12px;\n",
              "        max-height: 500px;\n",
              "      }\n",
              "\n",
              "      pre.function-repr-contents.function-repr-contents-collapsed {\n",
              "        cursor: pointer;\n",
              "        max-height: 100px;\n",
              "      }\n",
              "    </style>\n",
              "    <pre style=\"white-space: initial; background:\n",
              "         var(--colab-secondary-surface-color); padding: 8px 12px;\n",
              "         border-bottom: 1px solid var(--colab-border-color);\"><b>torch.nn.modules.module.Module.parameters</b><br/>def parameters(recurse: bool=True) -&gt; Iterator[Parameter]</pre><pre class=\"function-repr-contents function-repr-contents-collapsed\" style=\"\"><a class=\"filepath\" style=\"display:none\" href=\"#\">/usr/local/lib/python3.10/dist-packages/torch/nn/modules/module.py</a>Return an iterator over module parameters.\n",
              "\n",
              "This is typically passed to an optimizer.\n",
              "\n",
              "Args:\n",
              "    recurse (bool): if True, then yields parameters of this module\n",
              "        and all submodules. Otherwise, yields only parameters that\n",
              "        are direct members of this module.\n",
              "\n",
              "Yields:\n",
              "    Parameter: module parameter\n",
              "\n",
              "Example::\n",
              "\n",
              "    &gt;&gt;&gt; # xdoctest: +SKIP(&quot;undefined vars&quot;)\n",
              "    &gt;&gt;&gt; for param in model.parameters():\n",
              "    &gt;&gt;&gt;     print(type(param), param.size())\n",
              "    &lt;class &#x27;torch.Tensor&#x27;&gt; (20L,)\n",
              "    &lt;class &#x27;torch.Tensor&#x27;&gt; (20L, 1L, 5L, 5L)</pre>\n",
              "      <script>\n",
              "      if (google.colab.kernel.accessAllowed && google.colab.files && google.colab.files.view) {\n",
              "        for (const element of document.querySelectorAll('.filepath')) {\n",
              "          element.style.display = 'block'\n",
              "          element.onclick = (event) => {\n",
              "            event.preventDefault();\n",
              "            event.stopPropagation();\n",
              "            google.colab.files.view(element.textContent, 2171);\n",
              "          };\n",
              "        }\n",
              "      }\n",
              "      for (const element of document.querySelectorAll('.function-repr-contents')) {\n",
              "        element.onclick = (event) => {\n",
              "          event.preventDefault();\n",
              "          event.stopPropagation();\n",
              "          element.classList.toggle('function-repr-contents-collapsed');\n",
              "        };\n",
              "      }\n",
              "      </script>\n",
              "      </div>"
            ]
          },
          "metadata": {},
          "execution_count": 41
        }
      ]
    },
    {
      "cell_type": "code",
      "source": [
        "criterion = nn.BCELoss() # error function"
      ],
      "metadata": {
        "id": "4GT4vFCCOr8O"
      },
      "execution_count": 39,
      "outputs": []
    },
    {
      "cell_type": "code",
      "source": [
        "# lr -> learning rate\n",
        "# weigth_decay -> help algorithm to reach minimum global\n",
        "\n",
        "optimizer = torch.optim.Adam(classifier.parameters(), lr=0.001,weight_decay=0.0001 )"
      ],
      "metadata": {
        "id": "Vk4XT5mtOwDf"
      },
      "execution_count": 43,
      "outputs": []
    },
    {
      "cell_type": "markdown",
      "source": [
        "# Step 5\n",
        "\n",
        "Model train"
      ],
      "metadata": {
        "id": "tfIQ_xqBPWM_"
      }
    },
    {
      "cell_type": "code",
      "source": [
        "# requieres an manual \"fit\"\n",
        "# 426 features in forecaster; batch_size = 10; approximately 42,6 weigth adjust\n",
        "# in each epoch we will pass in 426 features, but the features are divided in 10 by 10\n",
        "for epoch in range(100):\n",
        "  running_loss = 0.\n",
        "\n",
        "  for data in train_loader:\n",
        "    inputs, labels = data\n",
        "    optimizer.zero_grad() # after weigth adjust an new calculus are required\n",
        "\n",
        "    outputs = classifier(inputs) # classifier.foward(inputs)\n",
        "\n",
        "    loss = criterion(outputs, labels)\n",
        "\n",
        "    # backpropagation\n",
        "    loss.backward()\n",
        "\n",
        "    # weight adjust\n",
        "    optimizer.step()\n",
        "\n",
        "    running_loss += loss.item()\n",
        "\n",
        "  print('Epoch %3d: loss %.5f' % (epoch+1, running_loss/len(train_loader)))\n"
      ],
      "metadata": {
        "colab": {
          "base_uri": "https://localhost:8080/"
        },
        "id": "rgkgwPB9PXQ_",
        "outputId": "8aeeba1c-ec48-4d0e-b19c-a93ee7f58660"
      },
      "execution_count": 49,
      "outputs": [
        {
          "output_type": "stream",
          "name": "stdout",
          "text": [
            "Epoch   1: loss 0.12758\n",
            "Epoch   2: loss 0.13959\n",
            "Epoch   3: loss 0.09847\n",
            "Epoch   4: loss 0.13449\n",
            "Epoch   5: loss 0.09817\n",
            "Epoch   6: loss 0.12177\n",
            "Epoch   7: loss 0.12399\n",
            "Epoch   8: loss 0.14151\n",
            "Epoch   9: loss 0.11614\n",
            "Epoch  10: loss 0.09435\n",
            "Epoch  11: loss 0.07151\n",
            "Epoch  12: loss 0.07629\n",
            "Epoch  13: loss 0.07562\n",
            "Epoch  14: loss 0.08622\n",
            "Epoch  15: loss 0.10947\n",
            "Epoch  16: loss 0.08115\n",
            "Epoch  17: loss 0.10428\n",
            "Epoch  18: loss 0.08879\n",
            "Epoch  19: loss 0.08800\n",
            "Epoch  20: loss 0.07089\n",
            "Epoch  21: loss 0.07242\n",
            "Epoch  22: loss 0.08038\n",
            "Epoch  23: loss 0.08496\n",
            "Epoch  24: loss 0.08692\n",
            "Epoch  25: loss 0.07474\n",
            "Epoch  26: loss 0.07831\n",
            "Epoch  27: loss 0.06953\n",
            "Epoch  28: loss 0.07745\n",
            "Epoch  29: loss 0.08709\n",
            "Epoch  30: loss 0.06379\n",
            "Epoch  31: loss 0.07993\n",
            "Epoch  32: loss 0.06652\n",
            "Epoch  33: loss 0.08906\n",
            "Epoch  34: loss 0.09040\n",
            "Epoch  35: loss 0.08519\n",
            "Epoch  36: loss 0.14859\n",
            "Epoch  37: loss 0.10712\n",
            "Epoch  38: loss 0.10659\n",
            "Epoch  39: loss 0.07789\n",
            "Epoch  40: loss 0.08892\n",
            "Epoch  41: loss 0.07607\n",
            "Epoch  42: loss 0.06369\n",
            "Epoch  43: loss 0.06161\n",
            "Epoch  44: loss 0.07959\n",
            "Epoch  45: loss 0.09235\n",
            "Epoch  46: loss 0.07636\n",
            "Epoch  47: loss 0.07174\n",
            "Epoch  48: loss 0.06571\n",
            "Epoch  49: loss 0.08713\n",
            "Epoch  50: loss 0.06540\n",
            "Epoch  51: loss 0.06139\n",
            "Epoch  52: loss 0.05571\n",
            "Epoch  53: loss 0.07084\n",
            "Epoch  54: loss 0.11551\n",
            "Epoch  55: loss 0.14362\n",
            "Epoch  56: loss 0.11587\n",
            "Epoch  57: loss 0.09756\n",
            "Epoch  58: loss 0.06858\n",
            "Epoch  59: loss 0.07609\n",
            "Epoch  60: loss 0.08655\n",
            "Epoch  61: loss 0.12611\n",
            "Epoch  62: loss 0.10108\n",
            "Epoch  63: loss 0.07865\n",
            "Epoch  64: loss 0.07366\n",
            "Epoch  65: loss 0.06534\n",
            "Epoch  66: loss 0.05866\n",
            "Epoch  67: loss 0.08215\n",
            "Epoch  68: loss 0.05965\n",
            "Epoch  69: loss 0.06195\n",
            "Epoch  70: loss 0.05286\n",
            "Epoch  71: loss 0.05403\n",
            "Epoch  72: loss 0.10695\n",
            "Epoch  73: loss 0.11988\n",
            "Epoch  74: loss 0.07038\n",
            "Epoch  75: loss 0.06484\n",
            "Epoch  76: loss 0.06603\n",
            "Epoch  77: loss 0.06877\n",
            "Epoch  78: loss 0.06779\n",
            "Epoch  79: loss 0.08913\n",
            "Epoch  80: loss 0.07358\n",
            "Epoch  81: loss 0.05773\n",
            "Epoch  82: loss 0.05080\n",
            "Epoch  83: loss 0.09239\n",
            "Epoch  84: loss 0.11743\n",
            "Epoch  85: loss 0.11116\n",
            "Epoch  86: loss 0.08217\n",
            "Epoch  87: loss 0.06322\n",
            "Epoch  88: loss 0.05162\n",
            "Epoch  89: loss 0.06111\n",
            "Epoch  90: loss 0.06864\n",
            "Epoch  91: loss 0.05868\n",
            "Epoch  92: loss 0.08652\n",
            "Epoch  93: loss 0.06431\n",
            "Epoch  94: loss 0.05039\n",
            "Epoch  95: loss 0.06906\n",
            "Epoch  96: loss 0.06014\n",
            "Epoch  97: loss 0.09016\n",
            "Epoch  98: loss 0.07392\n",
            "Epoch  99: loss 0.06214\n",
            "Epoch 100: loss 0.06447\n"
          ]
        }
      ]
    },
    {
      "cell_type": "markdown",
      "source": [
        "# Step 6\n",
        "\n",
        "Weight view"
      ],
      "metadata": {
        "id": "YUkbmlkbVB5w"
      }
    },
    {
      "cell_type": "code",
      "source": [
        "params = list(classifier.parameters())"
      ],
      "metadata": {
        "id": "8i0k8lAjVEeW"
      },
      "execution_count": 50,
      "outputs": []
    },
    {
      "cell_type": "code",
      "source": [
        "params"
      ],
      "metadata": {
        "colab": {
          "base_uri": "https://localhost:8080/"
        },
        "id": "wF5ICBvbVMls",
        "outputId": "b2f7c657-35e1-4141-9c53-8c1c06c731d5"
      },
      "execution_count": 51,
      "outputs": [
        {
          "output_type": "execute_result",
          "data": {
            "text/plain": [
              "[Parameter containing:\n",
              " tensor([[-1.6570e-01, -2.4836e-01, -1.8314e-01,  7.0553e-02, -8.0485e-03,\n",
              "           3.4087e-02,  5.7071e-02,  2.0878e-02, -2.0968e-01,  4.9149e-01,\n",
              "           3.8768e-01, -2.0574e-02, -1.2182e-01, -4.1697e-02,  3.9601e-03,\n",
              "          -1.4010e-01,  4.5264e-02, -1.1658e-02,  6.7057e-02,  4.2223e-03,\n",
              "           9.6112e-02, -2.7370e-01, -8.1983e-02,  1.3447e-01,  4.2228e-01,\n",
              "           1.3651e-01,  1.4144e-03,  7.3753e-02,  5.3778e-01,  1.7543e-01],\n",
              "         [ 2.9927e-01,  2.1022e-01,  4.5661e-01,  6.2403e-02, -7.2313e-01,\n",
              "          -2.9361e-01, -9.4107e-02, -3.2463e-01, -2.2531e-03,  2.4662e-01,\n",
              "          -9.4853e-03, -1.0876e-01,  1.0872e-02,  1.6764e-01, -1.7119e-02,\n",
              "          -1.4561e-01, -1.6768e-01,  5.7358e-02,  2.1374e-02, -1.8283e-02,\n",
              "           2.0710e-01, -4.8487e-02,  3.2825e-01, -3.5561e-02, -1.3504e-01,\n",
              "          -2.1370e-01, -2.6028e-01, -1.4133e-01, -1.0080e-01, -1.5218e-01],\n",
              "         [-2.7914e-02, -7.6200e-02, -3.0694e-01, -1.3082e-01, -8.9767e-04,\n",
              "           1.9479e-01,  2.1094e-03,  9.5035e-04,  4.4668e-02,  5.4600e-01,\n",
              "           2.4529e-01,  1.2039e-01, -1.6952e-01,  7.0877e-02, -1.0098e-05,\n",
              "          -2.4702e-01,  1.2790e-03, -7.8194e-05,  5.2938e-01, -6.0875e-06,\n",
              "           2.8078e-02, -2.3690e-01, -7.9106e-02,  3.2881e-03, -2.9633e-01,\n",
              "          -4.1599e-02, -2.3383e-02,  1.6693e-01,  1.0263e-01, -1.6378e-03],\n",
              "         [-5.4540e-01,  1.2259e-01, -2.9470e-01,  9.4323e-02, -1.4394e-01,\n",
              "          -2.0834e-01, -1.2222e-01,  8.5765e-03,  1.8231e-01, -9.6869e-02,\n",
              "           1.8609e-01, -1.7493e-01,  5.4793e-02, -7.4099e-03,  1.2224e-02,\n",
              "           4.6874e-02,  6.3128e-02, -8.6047e-02, -2.8369e-03,  1.3149e-02,\n",
              "           3.2389e-02,  1.9353e-04, -1.9441e-01,  5.3131e-02,  3.5748e-01,\n",
              "           4.8167e-02,  3.6565e-02,  6.1676e-01,  1.2291e-01,  4.8384e-01],\n",
              "         [-5.9857e-01,  2.5607e-02, -2.4144e-01, -1.4028e-01,  5.1355e-01,\n",
              "          -6.4904e-02,  1.8461e-01, -5.6296e-01, -3.3479e-01,  5.8431e-01,\n",
              "          -3.8310e-02,  2.5841e-02, -2.6372e-02,  9.4293e-02,  2.4104e-02,\n",
              "          -3.7704e-01, -3.4438e-01, -6.9641e-02,  5.2451e-01,  3.4261e-01,\n",
              "          -4.0874e-01,  2.3644e-01, -2.0679e-01,  3.0042e-01, -1.3028e-01,\n",
              "          -1.8962e-01, -6.3813e-01, -4.1572e-01, -9.9001e-02,  4.0352e-01],\n",
              "         [ 9.7866e-02, -2.4504e-02,  1.1442e-01,  1.2606e-01,  3.0450e-01,\n",
              "           5.4341e-01, -4.5253e-03,  4.7512e-01,  6.2998e-02, -3.6716e-01,\n",
              "           2.8058e-01,  1.8326e-01, -1.2341e-01,  2.1873e-01, -1.8960e-03,\n",
              "           6.8930e-02,  6.9152e-01,  3.3507e-02, -2.5848e-01, -1.7994e-01,\n",
              "           1.2109e-02, -3.6793e-01, -3.7525e-02, -3.9276e-02, -8.5270e-02,\n",
              "          -1.0050e-01,  1.6881e-01, -8.6484e-03,  6.6949e-02, -3.8149e-01],\n",
              "         [ 1.1543e-01,  1.8804e-01,  3.9622e-01, -2.3841e-01,  2.7492e-02,\n",
              "          -1.8043e-01,  1.6136e-01, -4.8620e-02,  2.1651e-01,  4.8044e-02,\n",
              "           1.2124e-01, -2.3311e-01,  5.5454e-02,  1.2126e-01,  8.7133e-04,\n",
              "          -2.1984e-02,  9.1596e-03, -4.6308e-04,  3.2294e-03, -4.2657e-04,\n",
              "           6.9767e-02,  9.8588e-02,  3.1695e-01, -1.6796e-01,  3.1345e-01,\n",
              "           3.0175e-01,  3.7620e-01, -2.2923e-01,  6.7240e-02, -1.2283e-01],\n",
              "         [-4.2924e-01,  2.5141e-01, -2.4461e-01, -1.7396e-01,  4.3621e-01,\n",
              "           1.7908e-01, -2.3133e-02,  1.7010e-01,  1.6418e-01,  9.7199e-03,\n",
              "          -7.3620e-02, -9.7319e-02,  5.7608e-02,  2.1309e-01,  1.0559e-02,\n",
              "           5.5434e-02,  2.0194e-02,  1.5134e-02, -7.3253e-02,  6.8317e-03,\n",
              "          -3.1967e-01,  4.8733e-01, -3.6872e-01,  1.2944e-01,  7.3210e-02,\n",
              "          -5.7542e-01,  1.0120e-02,  1.0972e-01,  2.0456e-02,  2.6959e-01],\n",
              "         [-2.1303e-01, -1.6819e-01, -5.8365e-01, -4.8273e-02,  3.5660e-01,\n",
              "           3.5339e-01, -4.9879e-01, -1.3535e-02,  8.8692e-03, -1.8025e-01,\n",
              "           1.7740e-01, -5.2148e-02,  6.2287e-02,  3.7788e-02,  9.4988e-03,\n",
              "           9.1157e-02, -1.9531e-01, -1.0009e-01,  6.2087e-01,  1.0521e-01,\n",
              "          -5.8799e-01,  1.4610e-01, -4.4457e-01,  2.3997e-01,  5.6820e-01,\n",
              "           2.3834e-01, -1.3304e-01,  2.9642e-01,  1.9757e-01,  5.7018e-01],\n",
              "         [ 1.2570e-01, -6.7333e-02,  4.5040e-01,  3.0746e-02, -3.6857e-01,\n",
              "          -7.4079e-02, -1.4179e-01,  3.5711e-01,  9.1345e-02,  7.5913e-02,\n",
              "           6.6180e-02, -1.5622e-01,  1.2312e-01, -1.6867e-01, -1.6283e-02,\n",
              "          -9.9978e-02,  5.3537e-01,  3.8912e-02,  6.6404e-02, -1.1602e-01,\n",
              "           2.7320e-01, -5.4191e-01,  4.1007e-01, -1.2250e-01,  3.7533e-01,\n",
              "          -7.2878e-02,  1.2900e-02, -3.0769e-02, -2.0909e-02, -4.6516e-01],\n",
              "         [-1.1796e-01,  6.1097e-02, -7.4629e-03,  2.6548e-02, -4.5279e-03,\n",
              "          -2.7502e-01, -2.4753e-01,  3.1768e-03,  2.4477e-01, -4.1148e-01,\n",
              "          -2.4189e-01,  8.7384e-02, -1.4933e-01,  8.5105e-02, -1.0951e-03,\n",
              "           4.2160e-02,  2.8998e-03, -3.7300e-04, -4.3741e-01, -3.2403e-04,\n",
              "          -2.1027e-01,  1.3303e-01,  2.6976e-02,  1.4964e-01,  3.7423e-01,\n",
              "          -2.2832e-01,  5.0532e-01,  5.0031e-02,  1.7793e-02,  2.7128e-03],\n",
              "         [ 1.9254e-01,  1.6474e-02,  2.8929e-01,  1.7491e-01,  5.7035e-02,\n",
              "           1.5559e-01, -2.6090e-01,  3.1806e-01,  3.6513e-01, -4.0208e-01,\n",
              "           5.3408e-02,  4.8222e-02, -2.0697e-02, -2.6609e-01, -4.2669e-03,\n",
              "           3.5277e-01,  2.3767e-01,  2.5474e-02, -3.6989e-01, -2.6221e-01,\n",
              "           2.8440e-01, -1.9169e-01,  3.6919e-01, -1.6776e-01, -2.5619e-01,\n",
              "           1.9332e-01,  2.0437e-01,  1.6323e-01,  1.6211e-01, -6.1678e-01],\n",
              "         [ 7.0908e-02,  2.4942e-01, -3.7190e-01, -1.4508e-01,  3.4079e-01,\n",
              "           1.7497e-01,  3.9804e-01, -2.4404e-02,  8.9256e-02,  3.1663e-04,\n",
              "           8.7630e-02, -1.7818e-02,  7.5546e-02,  8.4266e-02,  5.7378e-03,\n",
              "           4.3620e-02, -1.1282e-01,  2.2529e-02, -3.5617e-02,  8.4254e-02,\n",
              "           3.0550e-02,  5.0059e-01, -7.5734e-02,  2.3559e-02, -1.4229e-01,\n",
              "           2.4156e-01, -4.1426e-02, -5.8934e-02,  9.1404e-02,  2.3384e-01],\n",
              "         [ 4.9628e-02, -2.7508e-01, -1.6203e-01,  1.2879e-02, -4.2822e-03,\n",
              "           6.3786e-02,  4.4670e-02,  1.2175e-02,  2.3785e-02,  8.5522e-03,\n",
              "           2.2426e-01, -8.7042e-02, -1.2440e-01,  1.9147e-01,  5.0277e-04,\n",
              "           5.0800e-03,  1.4861e-02,  1.6621e-02,  9.2537e-02,  8.5827e-04,\n",
              "           8.9744e-02, -2.3010e-01, -1.5606e-01,  1.2687e-01, -4.4736e-02,\n",
              "           3.4852e-01,  7.4059e-02,  9.4586e-02,  1.9535e-01,  2.5412e-03],\n",
              "         [ 7.5369e-02, -8.1525e-10,  6.9333e-04, -5.2487e-02, -2.3000e-04,\n",
              "          -6.5566e-39,  6.9574e-40, -3.1618e-39,  6.7797e-40,  2.5284e-39,\n",
              "           1.5845e-39, -6.1789e-03, -1.9799e-02, -5.6912e-02,  2.8342e-39,\n",
              "           1.4461e-39,  2.9164e-39, -3.9589e-39, -5.5731e-39,  6.9885e-40,\n",
              "           8.7981e-02,  2.5837e-07, -1.9988e-03, -7.9324e-02,  4.0581e-39,\n",
              "           3.2468e-39,  1.4004e-39,  7.6684e-40, -3.3520e-40,  2.0201e-39],\n",
              "         [-2.4213e-13, -4.5167e-10, -5.4000e-04, -1.3422e-02,  3.1171e-39,\n",
              "          -1.6022e-39, -5.9743e-39, -3.0074e-39, -4.2857e-27, -4.5263e-07,\n",
              "          -2.8533e-31, -1.1375e-03, -1.1855e-02, -3.2791e-05, -9.7221e-41,\n",
              "           4.0335e-39, -3.8826e-39,  1.5719e-40,  5.0815e-16, -2.2413e-39,\n",
              "          -5.1775e-12, -2.0884e-08, -8.0489e-04, -1.3328e-02,  1.7953e-06,\n",
              "          -3.3805e-08, -6.6371e-09, -4.4274e-39, -3.0749e-09,  2.9260e-40]],\n",
              "        requires_grad=True),\n",
              " Parameter containing:\n",
              " tensor([-9.5722e-02,  6.2293e-01, -1.1678e-01, -4.1581e-01, -9.0938e-01,\n",
              "          2.0470e-01,  3.2605e-01, -4.1443e-01, -6.8684e-01,  6.7474e-01,\n",
              "         -2.0868e-01,  6.1414e-01, -3.2233e-01, -1.0629e-01, -3.1938e-39,\n",
              "         -3.4778e-39], requires_grad=True),\n",
              " Parameter containing:\n",
              " tensor([[-5.4866e-02, -5.6482e-02, -5.9622e-02,  3.1211e-02, -4.7926e-02,\n",
              "          -1.1012e-03, -4.3938e-02, -3.3338e-02, -1.2518e-01, -3.0492e-01,\n",
              "          -2.6487e-01,  1.3504e-01,  1.8306e-01,  1.7243e-01,  4.3002e-02,\n",
              "          -3.4658e-39],\n",
              "         [ 1.3028e-01, -2.1919e-01,  4.8140e-02,  1.5110e-02,  1.4377e-03,\n",
              "           1.6234e-01, -4.4716e-02, -4.4741e-02,  8.6412e-02, -4.7533e-01,\n",
              "          -3.4296e-02, -1.0902e-01, -3.8205e-01,  2.5765e-01, -5.7970e-39,\n",
              "          -4.0790e-03],\n",
              "         [ 2.0206e-01, -1.0865e-01,  1.4761e-01,  1.6031e-01,  2.9765e-01,\n",
              "          -1.8475e-01, -1.3965e-01, -9.2577e-02,  2.2649e-01,  4.1700e-03,\n",
              "           3.3423e-02, -6.7194e-02,  2.1764e-01,  1.3512e-02,  6.7340e-02,\n",
              "           1.0500e-02],\n",
              "         [-1.7406e-02,  8.2732e-02,  7.5918e-02, -2.3272e-01, -8.1921e-03,\n",
              "           1.6089e-01,  1.0581e-01, -9.6666e-02,  1.7603e-01,  9.2282e-02,\n",
              "          -5.0783e-01,  3.0974e-01,  1.2748e-01,  1.6300e-01,  1.0864e-01,\n",
              "          -1.0021e-02],\n",
              "         [ 3.1617e-01, -2.5180e-01, -2.3038e-39, -2.4825e-01, -2.9003e-03,\n",
              "          -8.3840e-01, -1.3979e-01,  4.3108e-01,  4.9301e-02,  4.0014e-03,\n",
              "          -2.3940e-01,  1.7643e-01,  4.4902e-02, -4.5530e-03, -5.0476e-05,\n",
              "           1.4771e-10],\n",
              "         [ 2.6678e-01, -5.1599e-01, -1.1462e-01,  3.5519e-02, -2.0384e-01,\n",
              "           3.9731e-02,  3.4017e-01, -1.6302e-01,  1.0487e-01, -4.3715e-02,\n",
              "          -2.6564e-02,  4.1286e-02, -2.6758e-01,  5.7883e-02,  1.9410e-02,\n",
              "           9.4323e-07],\n",
              "         [-1.0778e-01, -1.2200e-01,  4.0810e-02,  2.3029e-02,  1.9547e-01,\n",
              "           1.4739e-01,  1.5163e-02, -2.1789e-01, -1.2148e-01, -4.2795e-01,\n",
              "           9.9138e-02,  2.3317e-02,  1.5813e-01,  1.5213e-01,  6.1590e-02,\n",
              "           1.0502e-02],\n",
              "         [ 5.3131e-02, -6.7803e-02, -2.2663e-01, -6.4565e-02, -2.6024e-01,\n",
              "           7.9479e-02,  2.7415e-03, -5.7865e-02, -9.3165e-02,  5.1874e-02,\n",
              "           3.2713e-02,  4.5716e-02, -8.4509e-02, -1.2075e-01,  1.5939e-39,\n",
              "          -2.2565e-04],\n",
              "         [-1.6494e-01,  2.6317e-01, -2.0342e-01, -1.6436e-01,  1.5660e-01,\n",
              "           1.0811e-01,  1.7069e-01,  2.1992e-01, -2.4507e-01, -1.9577e-01,\n",
              "           5.0085e-02,  2.5535e-02, -5.7126e-02,  2.5951e-01, -1.1349e-01,\n",
              "          -1.0924e-02],\n",
              "         [ 3.1135e-01,  5.8441e-02, -1.9163e-01,  7.9083e-02, -2.0885e-01,\n",
              "           3.5275e-02,  2.6309e-01, -2.2546e-01, -1.7043e-01,  2.0335e-01,\n",
              "          -2.3874e-01,  6.9476e-02, -9.8700e-02, -2.7394e-02, -1.9706e-03,\n",
              "          -3.1750e-03],\n",
              "         [ 2.8462e-02, -1.7788e-02,  7.8050e-03, -4.6553e-01, -4.6746e-01,\n",
              "           4.8320e-02,  4.9402e-02,  1.4678e-01, -3.9805e-02,  3.9649e-03,\n",
              "           2.3252e-01,  6.9135e-02,  2.1617e-01,  2.1798e-01,  8.7289e-03,\n",
              "          -2.1418e-04],\n",
              "         [ 8.4222e-02, -4.4605e-02, -2.0134e-01,  9.0717e-02, -2.8620e-02,\n",
              "           1.8578e-01, -2.1223e-39, -3.7981e-07, -2.9290e-01, -3.5197e-01,\n",
              "          -1.1470e-01,  2.1922e-01, -6.3201e-02, -2.5970e-01,  4.5653e-03,\n",
              "           1.0458e-02],\n",
              "         [-1.9209e-01, -1.4404e-01, -3.6218e-02, -9.1557e-02, -1.1667e-01,\n",
              "          -4.3048e-01, -9.7183e-03,  1.0122e-01,  2.0742e-01, -7.3438e-02,\n",
              "           4.5109e-01,  9.8185e-02,  7.1613e-02, -1.9139e-01, -8.5988e-03,\n",
              "           5.0659e-03],\n",
              "         [-1.3737e-01,  2.4005e-01,  3.5742e-02, -1.4335e-01, -2.3747e-01,\n",
              "           8.3071e-02, -1.9239e-01, -1.2961e-01, -1.5580e-01,  6.4289e-02,\n",
              "           4.7717e-02,  1.2704e-01, -6.6355e-02,  1.5053e-02, -7.4080e-02,\n",
              "           1.0649e-02],\n",
              "         [-6.1665e-03,  2.3645e-01,  2.8259e-02, -1.8513e-01, -1.6732e-01,\n",
              "          -6.9367e-02, -1.2929e-01, -1.4935e-01, -3.0862e-01,  1.3867e-01,\n",
              "           1.8977e-01,  4.9436e-02, -1.2622e-01, -2.1553e-01, -5.9169e-39,\n",
              "           1.6447e-03],\n",
              "         [ 1.4436e-02, -4.2484e-02,  2.4088e-02, -7.9404e-02, -5.0266e-02,\n",
              "           1.1020e-02, -2.5500e-02, -6.0631e-02, -6.7656e-02, -7.9156e-02,\n",
              "          -1.3137e-02, -9.7644e-03, -5.2135e-02, -3.2301e-02, -5.1070e-39,\n",
              "          -1.9271e-39]], requires_grad=True),\n",
              " Parameter containing:\n",
              " tensor([ 8.6781e-02, -3.2070e-01, -1.1628e+00,  8.1079e-01, -3.4677e-01,\n",
              "         -2.4229e-01, -2.6481e-01, -2.1081e-04,  2.3888e-01,  7.9968e-01,\n",
              "          5.8600e-01,  9.5388e-02, -9.2488e-01,  3.5423e-01,  4.0994e-01,\n",
              "         -9.8961e-04], requires_grad=True),\n",
              " Parameter containing:\n",
              " tensor([[-0.0815, -0.1333, -0.0976,  0.1402, -0.1437, -0.1677, -0.1566, -0.0072,\n",
              "           0.1878,  0.2343,  0.2989,  0.2035, -0.0791,  0.1590,  0.1111,  0.0075]],\n",
              "        requires_grad=True),\n",
              " Parameter containing:\n",
              " tensor([1.1581], requires_grad=True)]"
            ]
          },
          "metadata": {},
          "execution_count": 51
        }
      ]
    },
    {
      "cell_type": "code",
      "source": [
        "weight0 = params[0]\n",
        "weight0.shape"
      ],
      "metadata": {
        "colab": {
          "base_uri": "https://localhost:8080/"
        },
        "id": "TLPXvehHVOo3",
        "outputId": "96a47f1e-efe7-412b-eec1-cfeb924f59e7"
      },
      "execution_count": 52,
      "outputs": [
        {
          "output_type": "execute_result",
          "data": {
            "text/plain": [
              "torch.Size([16, 30])"
            ]
          },
          "metadata": {},
          "execution_count": 52
        }
      ]
    },
    {
      "cell_type": "code",
      "source": [
        "print(weight0)"
      ],
      "metadata": {
        "colab": {
          "base_uri": "https://localhost:8080/"
        },
        "id": "PG-YsX_zVcH1",
        "outputId": "b2da7c47-e69b-440d-a0c8-5b38f66801fe"
      },
      "execution_count": 53,
      "outputs": [
        {
          "output_type": "stream",
          "name": "stdout",
          "text": [
            "Parameter containing:\n",
            "tensor([[-1.6570e-01, -2.4836e-01, -1.8314e-01,  7.0553e-02, -8.0485e-03,\n",
            "          3.4087e-02,  5.7071e-02,  2.0878e-02, -2.0968e-01,  4.9149e-01,\n",
            "          3.8768e-01, -2.0574e-02, -1.2182e-01, -4.1697e-02,  3.9601e-03,\n",
            "         -1.4010e-01,  4.5264e-02, -1.1658e-02,  6.7057e-02,  4.2223e-03,\n",
            "          9.6112e-02, -2.7370e-01, -8.1983e-02,  1.3447e-01,  4.2228e-01,\n",
            "          1.3651e-01,  1.4144e-03,  7.3753e-02,  5.3778e-01,  1.7543e-01],\n",
            "        [ 2.9927e-01,  2.1022e-01,  4.5661e-01,  6.2403e-02, -7.2313e-01,\n",
            "         -2.9361e-01, -9.4107e-02, -3.2463e-01, -2.2531e-03,  2.4662e-01,\n",
            "         -9.4853e-03, -1.0876e-01,  1.0872e-02,  1.6764e-01, -1.7119e-02,\n",
            "         -1.4561e-01, -1.6768e-01,  5.7358e-02,  2.1374e-02, -1.8283e-02,\n",
            "          2.0710e-01, -4.8487e-02,  3.2825e-01, -3.5561e-02, -1.3504e-01,\n",
            "         -2.1370e-01, -2.6028e-01, -1.4133e-01, -1.0080e-01, -1.5218e-01],\n",
            "        [-2.7914e-02, -7.6200e-02, -3.0694e-01, -1.3082e-01, -8.9767e-04,\n",
            "          1.9479e-01,  2.1094e-03,  9.5035e-04,  4.4668e-02,  5.4600e-01,\n",
            "          2.4529e-01,  1.2039e-01, -1.6952e-01,  7.0877e-02, -1.0098e-05,\n",
            "         -2.4702e-01,  1.2790e-03, -7.8194e-05,  5.2938e-01, -6.0875e-06,\n",
            "          2.8078e-02, -2.3690e-01, -7.9106e-02,  3.2881e-03, -2.9633e-01,\n",
            "         -4.1599e-02, -2.3383e-02,  1.6693e-01,  1.0263e-01, -1.6378e-03],\n",
            "        [-5.4540e-01,  1.2259e-01, -2.9470e-01,  9.4323e-02, -1.4394e-01,\n",
            "         -2.0834e-01, -1.2222e-01,  8.5765e-03,  1.8231e-01, -9.6869e-02,\n",
            "          1.8609e-01, -1.7493e-01,  5.4793e-02, -7.4099e-03,  1.2224e-02,\n",
            "          4.6874e-02,  6.3128e-02, -8.6047e-02, -2.8369e-03,  1.3149e-02,\n",
            "          3.2389e-02,  1.9353e-04, -1.9441e-01,  5.3131e-02,  3.5748e-01,\n",
            "          4.8167e-02,  3.6565e-02,  6.1676e-01,  1.2291e-01,  4.8384e-01],\n",
            "        [-5.9857e-01,  2.5607e-02, -2.4144e-01, -1.4028e-01,  5.1355e-01,\n",
            "         -6.4904e-02,  1.8461e-01, -5.6296e-01, -3.3479e-01,  5.8431e-01,\n",
            "         -3.8310e-02,  2.5841e-02, -2.6372e-02,  9.4293e-02,  2.4104e-02,\n",
            "         -3.7704e-01, -3.4438e-01, -6.9641e-02,  5.2451e-01,  3.4261e-01,\n",
            "         -4.0874e-01,  2.3644e-01, -2.0679e-01,  3.0042e-01, -1.3028e-01,\n",
            "         -1.8962e-01, -6.3813e-01, -4.1572e-01, -9.9001e-02,  4.0352e-01],\n",
            "        [ 9.7866e-02, -2.4504e-02,  1.1442e-01,  1.2606e-01,  3.0450e-01,\n",
            "          5.4341e-01, -4.5253e-03,  4.7512e-01,  6.2998e-02, -3.6716e-01,\n",
            "          2.8058e-01,  1.8326e-01, -1.2341e-01,  2.1873e-01, -1.8960e-03,\n",
            "          6.8930e-02,  6.9152e-01,  3.3507e-02, -2.5848e-01, -1.7994e-01,\n",
            "          1.2109e-02, -3.6793e-01, -3.7525e-02, -3.9276e-02, -8.5270e-02,\n",
            "         -1.0050e-01,  1.6881e-01, -8.6484e-03,  6.6949e-02, -3.8149e-01],\n",
            "        [ 1.1543e-01,  1.8804e-01,  3.9622e-01, -2.3841e-01,  2.7492e-02,\n",
            "         -1.8043e-01,  1.6136e-01, -4.8620e-02,  2.1651e-01,  4.8044e-02,\n",
            "          1.2124e-01, -2.3311e-01,  5.5454e-02,  1.2126e-01,  8.7133e-04,\n",
            "         -2.1984e-02,  9.1596e-03, -4.6308e-04,  3.2294e-03, -4.2657e-04,\n",
            "          6.9767e-02,  9.8588e-02,  3.1695e-01, -1.6796e-01,  3.1345e-01,\n",
            "          3.0175e-01,  3.7620e-01, -2.2923e-01,  6.7240e-02, -1.2283e-01],\n",
            "        [-4.2924e-01,  2.5141e-01, -2.4461e-01, -1.7396e-01,  4.3621e-01,\n",
            "          1.7908e-01, -2.3133e-02,  1.7010e-01,  1.6418e-01,  9.7199e-03,\n",
            "         -7.3620e-02, -9.7319e-02,  5.7608e-02,  2.1309e-01,  1.0559e-02,\n",
            "          5.5434e-02,  2.0194e-02,  1.5134e-02, -7.3253e-02,  6.8317e-03,\n",
            "         -3.1967e-01,  4.8733e-01, -3.6872e-01,  1.2944e-01,  7.3210e-02,\n",
            "         -5.7542e-01,  1.0120e-02,  1.0972e-01,  2.0456e-02,  2.6959e-01],\n",
            "        [-2.1303e-01, -1.6819e-01, -5.8365e-01, -4.8273e-02,  3.5660e-01,\n",
            "          3.5339e-01, -4.9879e-01, -1.3535e-02,  8.8692e-03, -1.8025e-01,\n",
            "          1.7740e-01, -5.2148e-02,  6.2287e-02,  3.7788e-02,  9.4988e-03,\n",
            "          9.1157e-02, -1.9531e-01, -1.0009e-01,  6.2087e-01,  1.0521e-01,\n",
            "         -5.8799e-01,  1.4610e-01, -4.4457e-01,  2.3997e-01,  5.6820e-01,\n",
            "          2.3834e-01, -1.3304e-01,  2.9642e-01,  1.9757e-01,  5.7018e-01],\n",
            "        [ 1.2570e-01, -6.7333e-02,  4.5040e-01,  3.0746e-02, -3.6857e-01,\n",
            "         -7.4079e-02, -1.4179e-01,  3.5711e-01,  9.1345e-02,  7.5913e-02,\n",
            "          6.6180e-02, -1.5622e-01,  1.2312e-01, -1.6867e-01, -1.6283e-02,\n",
            "         -9.9978e-02,  5.3537e-01,  3.8912e-02,  6.6404e-02, -1.1602e-01,\n",
            "          2.7320e-01, -5.4191e-01,  4.1007e-01, -1.2250e-01,  3.7533e-01,\n",
            "         -7.2878e-02,  1.2900e-02, -3.0769e-02, -2.0909e-02, -4.6516e-01],\n",
            "        [-1.1796e-01,  6.1097e-02, -7.4629e-03,  2.6548e-02, -4.5279e-03,\n",
            "         -2.7502e-01, -2.4753e-01,  3.1768e-03,  2.4477e-01, -4.1148e-01,\n",
            "         -2.4189e-01,  8.7384e-02, -1.4933e-01,  8.5105e-02, -1.0951e-03,\n",
            "          4.2160e-02,  2.8998e-03, -3.7300e-04, -4.3741e-01, -3.2403e-04,\n",
            "         -2.1027e-01,  1.3303e-01,  2.6976e-02,  1.4964e-01,  3.7423e-01,\n",
            "         -2.2832e-01,  5.0532e-01,  5.0031e-02,  1.7793e-02,  2.7128e-03],\n",
            "        [ 1.9254e-01,  1.6474e-02,  2.8929e-01,  1.7491e-01,  5.7035e-02,\n",
            "          1.5559e-01, -2.6090e-01,  3.1806e-01,  3.6513e-01, -4.0208e-01,\n",
            "          5.3408e-02,  4.8222e-02, -2.0697e-02, -2.6609e-01, -4.2669e-03,\n",
            "          3.5277e-01,  2.3767e-01,  2.5474e-02, -3.6989e-01, -2.6221e-01,\n",
            "          2.8440e-01, -1.9169e-01,  3.6919e-01, -1.6776e-01, -2.5619e-01,\n",
            "          1.9332e-01,  2.0437e-01,  1.6323e-01,  1.6211e-01, -6.1678e-01],\n",
            "        [ 7.0908e-02,  2.4942e-01, -3.7190e-01, -1.4508e-01,  3.4079e-01,\n",
            "          1.7497e-01,  3.9804e-01, -2.4404e-02,  8.9256e-02,  3.1663e-04,\n",
            "          8.7630e-02, -1.7818e-02,  7.5546e-02,  8.4266e-02,  5.7378e-03,\n",
            "          4.3620e-02, -1.1282e-01,  2.2529e-02, -3.5617e-02,  8.4254e-02,\n",
            "          3.0550e-02,  5.0059e-01, -7.5734e-02,  2.3559e-02, -1.4229e-01,\n",
            "          2.4156e-01, -4.1426e-02, -5.8934e-02,  9.1404e-02,  2.3384e-01],\n",
            "        [ 4.9628e-02, -2.7508e-01, -1.6203e-01,  1.2879e-02, -4.2822e-03,\n",
            "          6.3786e-02,  4.4670e-02,  1.2175e-02,  2.3785e-02,  8.5522e-03,\n",
            "          2.2426e-01, -8.7042e-02, -1.2440e-01,  1.9147e-01,  5.0277e-04,\n",
            "          5.0800e-03,  1.4861e-02,  1.6621e-02,  9.2537e-02,  8.5827e-04,\n",
            "          8.9744e-02, -2.3010e-01, -1.5606e-01,  1.2687e-01, -4.4736e-02,\n",
            "          3.4852e-01,  7.4059e-02,  9.4586e-02,  1.9535e-01,  2.5412e-03],\n",
            "        [ 7.5369e-02, -8.1525e-10,  6.9333e-04, -5.2487e-02, -2.3000e-04,\n",
            "         -6.5566e-39,  6.9574e-40, -3.1618e-39,  6.7797e-40,  2.5284e-39,\n",
            "          1.5845e-39, -6.1789e-03, -1.9799e-02, -5.6912e-02,  2.8342e-39,\n",
            "          1.4461e-39,  2.9164e-39, -3.9589e-39, -5.5731e-39,  6.9885e-40,\n",
            "          8.7981e-02,  2.5837e-07, -1.9988e-03, -7.9324e-02,  4.0581e-39,\n",
            "          3.2468e-39,  1.4004e-39,  7.6684e-40, -3.3520e-40,  2.0201e-39],\n",
            "        [-2.4213e-13, -4.5167e-10, -5.4000e-04, -1.3422e-02,  3.1171e-39,\n",
            "         -1.6022e-39, -5.9743e-39, -3.0074e-39, -4.2857e-27, -4.5263e-07,\n",
            "         -2.8533e-31, -1.1375e-03, -1.1855e-02, -3.2791e-05, -9.7221e-41,\n",
            "          4.0335e-39, -3.8826e-39,  1.5719e-40,  5.0815e-16, -2.2413e-39,\n",
            "         -5.1775e-12, -2.0884e-08, -8.0489e-04, -1.3328e-02,  1.7953e-06,\n",
            "         -3.3805e-08, -6.6371e-09, -4.4274e-39, -3.0749e-09,  2.9260e-40]],\n",
            "       requires_grad=True)\n"
          ]
        }
      ]
    },
    {
      "cell_type": "code",
      "source": [
        "bias0 = params[1]\n",
        "bias0.shape"
      ],
      "metadata": {
        "colab": {
          "base_uri": "https://localhost:8080/"
        },
        "id": "yzD8RlIXYDmb",
        "outputId": "b2992400-09a6-4d01-a28a-a41aff523b51"
      },
      "execution_count": 56,
      "outputs": [
        {
          "output_type": "execute_result",
          "data": {
            "text/plain": [
              "torch.Size([16])"
            ]
          },
          "metadata": {},
          "execution_count": 56
        }
      ]
    },
    {
      "cell_type": "code",
      "source": [
        "weight1 = params[2]\n",
        "weight1.shape"
      ],
      "metadata": {
        "colab": {
          "base_uri": "https://localhost:8080/"
        },
        "id": "RQxvJG6gYNi6",
        "outputId": "a695889e-a452-41ba-b6ad-e5bfcbc0d4f1"
      },
      "execution_count": 58,
      "outputs": [
        {
          "output_type": "execute_result",
          "data": {
            "text/plain": [
              "torch.Size([16, 16])"
            ]
          },
          "metadata": {},
          "execution_count": 58
        }
      ]
    },
    {
      "cell_type": "code",
      "source": [
        "bias1 = params[3]\n",
        "bias1.shape"
      ],
      "metadata": {
        "colab": {
          "base_uri": "https://localhost:8080/"
        },
        "id": "lbccWCDKYV0k",
        "outputId": "869a81cf-123e-4b47-b112-2982604bc924"
      },
      "execution_count": 59,
      "outputs": [
        {
          "output_type": "execute_result",
          "data": {
            "text/plain": [
              "torch.Size([16])"
            ]
          },
          "metadata": {},
          "execution_count": 59
        }
      ]
    },
    {
      "cell_type": "markdown",
      "source": [
        "# Step 7\n",
        "\n",
        "Model evaluation"
      ],
      "metadata": {
        "id": "DNHS7AZXYfmO"
      }
    },
    {
      "cell_type": "code",
      "source": [
        "classifier.eval() # active evaluete model. Its necessary, otherwise the model will only train"
      ],
      "metadata": {
        "colab": {
          "base_uri": "https://localhost:8080/"
        },
        "id": "BuRkxb1aYgYu",
        "outputId": "bc65475b-7304-4deb-9b96-4db6b5d1b4cf"
      },
      "execution_count": 60,
      "outputs": [
        {
          "output_type": "execute_result",
          "data": {
            "text/plain": [
              "Sequential(\n",
              "  (0): Linear(in_features=30, out_features=16, bias=True)\n",
              "  (1): ReLU()\n",
              "  (2): Linear(in_features=16, out_features=16, bias=True)\n",
              "  (3): ReLU()\n",
              "  (4): Linear(in_features=16, out_features=1, bias=True)\n",
              "  (5): Sigmoid()\n",
              ")"
            ]
          },
          "metadata": {},
          "execution_count": 60
        }
      ]
    },
    {
      "cell_type": "code",
      "source": [
        "type(forecasters_test)"
      ],
      "metadata": {
        "colab": {
          "base_uri": "https://localhost:8080/",
          "height": 204
        },
        "id": "52qPzcIvYyYx",
        "outputId": "836788b0-6dab-4cd8-e863-926c99ece2dc"
      },
      "execution_count": 68,
      "outputs": [
        {
          "output_type": "execute_result",
          "data": {
            "text/plain": [
              "pandas.core.frame.DataFrame"
            ],
            "text/html": [
              "<div style=\"max-width:800px; border: 1px solid var(--colab-border-color);\"><style>\n",
              "      pre.function-repr-contents {\n",
              "        overflow-x: auto;\n",
              "        padding: 8px 12px;\n",
              "        max-height: 500px;\n",
              "      }\n",
              "\n",
              "      pre.function-repr-contents.function-repr-contents-collapsed {\n",
              "        cursor: pointer;\n",
              "        max-height: 100px;\n",
              "      }\n",
              "    </style>\n",
              "    <pre style=\"white-space: initial; background:\n",
              "         var(--colab-secondary-surface-color); padding: 8px 12px;\n",
              "         border-bottom: 1px solid var(--colab-border-color);\"><b>pandas.core.frame.DataFrame</b><br/>def __init__(data=None, index: Axes | None=None, columns: Axes | None=None, dtype: Dtype | None=None, copy: bool | None=None) -&gt; None</pre><pre class=\"function-repr-contents function-repr-contents-collapsed\" style=\"\"><a class=\"filepath\" style=\"display:none\" href=\"#\">/usr/local/lib/python3.10/dist-packages/pandas/core/frame.py</a>Two-dimensional, size-mutable, potentially heterogeneous tabular data.\n",
              "\n",
              "Data structure also contains labeled axes (rows and columns).\n",
              "Arithmetic operations align on both row and column labels. Can be\n",
              "thought of as a dict-like container for Series objects. The primary\n",
              "pandas data structure.\n",
              "\n",
              "Parameters\n",
              "----------\n",
              "data : ndarray (structured or homogeneous), Iterable, dict, or DataFrame\n",
              "    Dict can contain Series, arrays, constants, dataclass or list-like objects. If\n",
              "    data is a dict, column order follows insertion-order. If a dict contains Series\n",
              "    which have an index defined, it is aligned by its index. This alignment also\n",
              "    occurs if data is a Series or a DataFrame itself. Alignment is done on\n",
              "    Series/DataFrame inputs.\n",
              "\n",
              "    If data is a list of dicts, column order follows insertion-order.\n",
              "\n",
              "index : Index or array-like\n",
              "    Index to use for resulting frame. Will default to RangeIndex if\n",
              "    no indexing information part of input data and no index provided.\n",
              "columns : Index or array-like\n",
              "    Column labels to use for resulting frame when data does not have them,\n",
              "    defaulting to RangeIndex(0, 1, 2, ..., n). If data contains column labels,\n",
              "    will perform column selection instead.\n",
              "dtype : dtype, default None\n",
              "    Data type to force. Only a single dtype is allowed. If None, infer.\n",
              "copy : bool or None, default None\n",
              "    Copy data from inputs.\n",
              "    For dict data, the default of None behaves like ``copy=True``.  For DataFrame\n",
              "    or 2d ndarray input, the default of None behaves like ``copy=False``.\n",
              "    If data is a dict containing one or more Series (possibly of different dtypes),\n",
              "    ``copy=False`` will ensure that these inputs are not copied.\n",
              "\n",
              "    .. versionchanged:: 1.3.0\n",
              "\n",
              "See Also\n",
              "--------\n",
              "DataFrame.from_records : Constructor from tuples, also record arrays.\n",
              "DataFrame.from_dict : From dicts of Series, arrays, or dicts.\n",
              "read_csv : Read a comma-separated values (csv) file into DataFrame.\n",
              "read_table : Read general delimited file into DataFrame.\n",
              "read_clipboard : Read text from clipboard into DataFrame.\n",
              "\n",
              "Notes\n",
              "-----\n",
              "Please reference the :ref:`User Guide &lt;basics.dataframe&gt;` for more information.\n",
              "\n",
              "Examples\n",
              "--------\n",
              "Constructing DataFrame from a dictionary.\n",
              "\n",
              "&gt;&gt;&gt; d = {&#x27;col1&#x27;: [1, 2], &#x27;col2&#x27;: [3, 4]}\n",
              "&gt;&gt;&gt; df = pd.DataFrame(data=d)\n",
              "&gt;&gt;&gt; df\n",
              "   col1  col2\n",
              "0     1     3\n",
              "1     2     4\n",
              "\n",
              "Notice that the inferred dtype is int64.\n",
              "\n",
              "&gt;&gt;&gt; df.dtypes\n",
              "col1    int64\n",
              "col2    int64\n",
              "dtype: object\n",
              "\n",
              "To enforce a single dtype:\n",
              "\n",
              "&gt;&gt;&gt; df = pd.DataFrame(data=d, dtype=np.int8)\n",
              "&gt;&gt;&gt; df.dtypes\n",
              "col1    int8\n",
              "col2    int8\n",
              "dtype: object\n",
              "\n",
              "Constructing DataFrame from a dictionary including Series:\n",
              "\n",
              "&gt;&gt;&gt; d = {&#x27;col1&#x27;: [0, 1, 2, 3], &#x27;col2&#x27;: pd.Series([2, 3], index=[2, 3])}\n",
              "&gt;&gt;&gt; pd.DataFrame(data=d, index=[0, 1, 2, 3])\n",
              "   col1  col2\n",
              "0     0   NaN\n",
              "1     1   NaN\n",
              "2     2   2.0\n",
              "3     3   3.0\n",
              "\n",
              "Constructing DataFrame from numpy ndarray:\n",
              "\n",
              "&gt;&gt;&gt; df2 = pd.DataFrame(np.array([[1, 2, 3], [4, 5, 6], [7, 8, 9]]),\n",
              "...                    columns=[&#x27;a&#x27;, &#x27;b&#x27;, &#x27;c&#x27;])\n",
              "&gt;&gt;&gt; df2\n",
              "   a  b  c\n",
              "0  1  2  3\n",
              "1  4  5  6\n",
              "2  7  8  9\n",
              "\n",
              "Constructing DataFrame from a numpy ndarray that has labeled columns:\n",
              "\n",
              "&gt;&gt;&gt; data = np.array([(1, 2, 3), (4, 5, 6), (7, 8, 9)],\n",
              "...                 dtype=[(&quot;a&quot;, &quot;i4&quot;), (&quot;b&quot;, &quot;i4&quot;), (&quot;c&quot;, &quot;i4&quot;)])\n",
              "&gt;&gt;&gt; df3 = pd.DataFrame(data, columns=[&#x27;c&#x27;, &#x27;a&#x27;])\n",
              "...\n",
              "&gt;&gt;&gt; df3\n",
              "   c  a\n",
              "0  3  1\n",
              "1  6  4\n",
              "2  9  7\n",
              "\n",
              "Constructing DataFrame from dataclass:\n",
              "\n",
              "&gt;&gt;&gt; from dataclasses import make_dataclass\n",
              "&gt;&gt;&gt; Point = make_dataclass(&quot;Point&quot;, [(&quot;x&quot;, int), (&quot;y&quot;, int)])\n",
              "&gt;&gt;&gt; pd.DataFrame([Point(0, 0), Point(0, 3), Point(2, 3)])\n",
              "   x  y\n",
              "0  0  0\n",
              "1  0  3\n",
              "2  2  3\n",
              "\n",
              "Constructing DataFrame from Series/DataFrame:\n",
              "\n",
              "&gt;&gt;&gt; ser = pd.Series([1, 2, 3], index=[&quot;a&quot;, &quot;b&quot;, &quot;c&quot;])\n",
              "&gt;&gt;&gt; df = pd.DataFrame(data=ser, index=[&quot;a&quot;, &quot;c&quot;])\n",
              "&gt;&gt;&gt; df\n",
              "   0\n",
              "a  1\n",
              "c  3\n",
              "\n",
              "&gt;&gt;&gt; df1 = pd.DataFrame([1, 2, 3], index=[&quot;a&quot;, &quot;b&quot;, &quot;c&quot;], columns=[&quot;x&quot;])\n",
              "&gt;&gt;&gt; df2 = pd.DataFrame(data=df1, index=[&quot;a&quot;, &quot;c&quot;])\n",
              "&gt;&gt;&gt; df2\n",
              "   x\n",
              "a  1\n",
              "c  3</pre>\n",
              "      <script>\n",
              "      if (google.colab.kernel.accessAllowed && google.colab.files && google.colab.files.view) {\n",
              "        for (const element of document.querySelectorAll('.filepath')) {\n",
              "          element.style.display = 'block'\n",
              "          element.onclick = (event) => {\n",
              "            event.preventDefault();\n",
              "            event.stopPropagation();\n",
              "            google.colab.files.view(element.textContent, 490);\n",
              "          };\n",
              "        }\n",
              "      }\n",
              "      for (const element of document.querySelectorAll('.function-repr-contents')) {\n",
              "        element.onclick = (event) => {\n",
              "          event.preventDefault();\n",
              "          event.stopPropagation();\n",
              "          element.classList.toggle('function-repr-contents-collapsed');\n",
              "        };\n",
              "      }\n",
              "      </script>\n",
              "      </div>"
            ]
          },
          "metadata": {},
          "execution_count": 68
        }
      ]
    },
    {
      "cell_type": "code",
      "source": [
        "forecasters_test = torch.tensor(np.array(forecasters_test), dtype=torch.float)"
      ],
      "metadata": {
        "id": "6Z4CClXcY5-g"
      },
      "execution_count": 69,
      "outputs": []
    },
    {
      "cell_type": "code",
      "source": [
        "type(forecasters_test)"
      ],
      "metadata": {
        "colab": {
          "base_uri": "https://localhost:8080/"
        },
        "id": "mZFYL2aBZBns",
        "outputId": "f082e17e-98ce-4b44-927a-5495fdbebbb6"
      },
      "execution_count": 70,
      "outputs": [
        {
          "output_type": "execute_result",
          "data": {
            "text/plain": [
              "torch.Tensor"
            ]
          },
          "metadata": {},
          "execution_count": 70
        }
      ]
    },
    {
      "cell_type": "code",
      "source": [
        "forecaster = classifier.forward(forecasters_test)"
      ],
      "metadata": {
        "id": "9owfZXaNZF0Y"
      },
      "execution_count": 71,
      "outputs": []
    },
    {
      "cell_type": "code",
      "source": [
        "forecaster"
      ],
      "metadata": {
        "colab": {
          "base_uri": "https://localhost:8080/"
        },
        "id": "x0asj-L2Z6va",
        "outputId": "3d8a1c24-f58d-493e-fe84-e82289e56f7a"
      },
      "execution_count": 72,
      "outputs": [
        {
          "output_type": "execute_result",
          "data": {
            "text/plain": [
              "tensor([[9.9997e-01],\n",
              "        [9.9999e-01],\n",
              "        [9.9965e-01],\n",
              "        [5.8461e-04],\n",
              "        [3.9003e-07],\n",
              "        [1.0000e+00],\n",
              "        [9.9781e-01],\n",
              "        [1.0000e+00],\n",
              "        [9.9093e-01],\n",
              "        [8.0025e-01],\n",
              "        [1.0731e-18],\n",
              "        [1.0000e+00],\n",
              "        [2.7253e-01],\n",
              "        [9.9999e-01],\n",
              "        [1.0000e+00],\n",
              "        [1.0000e+00],\n",
              "        [9.9848e-01],\n",
              "        [9.9999e-01],\n",
              "        [8.5663e-09],\n",
              "        [1.0000e+00],\n",
              "        [1.0000e+00],\n",
              "        [9.9404e-01],\n",
              "        [1.0000e+00],\n",
              "        [5.6757e-02],\n",
              "        [9.9995e-01],\n",
              "        [9.7133e-01],\n",
              "        [1.0000e+00],\n",
              "        [3.3823e-06],\n",
              "        [9.7332e-01],\n",
              "        [9.9952e-01],\n",
              "        [3.7166e-01],\n",
              "        [1.8819e-05],\n",
              "        [1.4968e-02],\n",
              "        [1.1428e-14],\n",
              "        [4.6282e-05],\n",
              "        [1.0179e-04],\n",
              "        [1.0000e+00],\n",
              "        [3.9773e-02],\n",
              "        [9.9964e-01],\n",
              "        [5.4352e-01],\n",
              "        [7.4911e-04],\n",
              "        [8.7034e-02],\n",
              "        [5.4727e-10],\n",
              "        [9.9941e-01],\n",
              "        [1.0000e+00],\n",
              "        [0.0000e+00],\n",
              "        [2.3848e-06],\n",
              "        [4.6652e-01],\n",
              "        [6.7335e-09],\n",
              "        [2.9392e-06],\n",
              "        [1.0000e+00],\n",
              "        [3.5375e-03],\n",
              "        [9.9587e-01],\n",
              "        [4.6799e-05],\n",
              "        [9.9993e-01],\n",
              "        [9.9579e-01],\n",
              "        [1.1194e-06],\n",
              "        [1.0000e+00],\n",
              "        [1.6503e-05],\n",
              "        [2.2520e-01],\n",
              "        [9.9799e-01],\n",
              "        [9.9994e-01],\n",
              "        [1.0000e+00],\n",
              "        [9.7025e-01],\n",
              "        [1.0000e+00],\n",
              "        [9.6570e-01],\n",
              "        [1.0000e+00],\n",
              "        [1.0000e+00],\n",
              "        [8.9014e-01],\n",
              "        [9.9997e-01],\n",
              "        [9.9738e-01],\n",
              "        [9.5401e-01],\n",
              "        [6.3092e-09],\n",
              "        [1.2014e-01],\n",
              "        [9.9981e-01],\n",
              "        [5.3252e-07],\n",
              "        [1.2642e-13],\n",
              "        [9.9999e-01],\n",
              "        [2.9192e-26],\n",
              "        [9.9982e-01],\n",
              "        [1.0000e+00],\n",
              "        [1.3779e-10],\n",
              "        [1.0000e+00],\n",
              "        [9.9998e-01],\n",
              "        [1.0805e-01],\n",
              "        [1.0000e+00],\n",
              "        [9.9842e-01],\n",
              "        [6.8439e-11],\n",
              "        [9.9997e-01],\n",
              "        [9.6679e-01],\n",
              "        [9.7326e-01],\n",
              "        [2.8610e-05],\n",
              "        [1.0000e+00],\n",
              "        [9.9774e-01],\n",
              "        [8.9536e-05],\n",
              "        [8.5751e-01],\n",
              "        [5.6250e-10],\n",
              "        [9.9761e-01],\n",
              "        [4.8035e-05],\n",
              "        [1.0000e+00],\n",
              "        [9.9944e-01],\n",
              "        [1.2198e-15],\n",
              "        [9.9842e-01],\n",
              "        [3.5592e-06],\n",
              "        [8.6395e-01],\n",
              "        [2.6505e-03],\n",
              "        [9.9944e-01],\n",
              "        [7.0112e-01],\n",
              "        [6.8419e-20],\n",
              "        [1.0000e+00],\n",
              "        [9.9764e-01],\n",
              "        [1.9367e-06],\n",
              "        [9.9949e-01],\n",
              "        [9.9998e-01],\n",
              "        [1.0000e+00],\n",
              "        [3.7808e-03],\n",
              "        [5.1570e-02],\n",
              "        [5.5647e-01],\n",
              "        [2.0699e-05],\n",
              "        [5.4016e-01],\n",
              "        [8.0260e-04],\n",
              "        [1.0000e+00],\n",
              "        [9.9673e-01],\n",
              "        [4.0403e-04],\n",
              "        [1.4104e-06],\n",
              "        [1.0142e-05],\n",
              "        [8.3303e-02],\n",
              "        [9.8218e-01],\n",
              "        [9.5577e-01],\n",
              "        [6.9995e-01],\n",
              "        [9.9993e-01],\n",
              "        [1.0343e-06],\n",
              "        [5.5596e-01],\n",
              "        [9.9911e-01],\n",
              "        [3.1442e-19],\n",
              "        [9.9958e-01],\n",
              "        [9.9910e-01],\n",
              "        [9.9926e-01],\n",
              "        [1.0000e+00],\n",
              "        [9.9853e-01],\n",
              "        [1.6846e-02],\n",
              "        [9.9970e-01],\n",
              "        [9.9701e-01]], grad_fn=<SigmoidBackward0>)"
            ]
          },
          "metadata": {},
          "execution_count": 72
        }
      ]
    },
    {
      "cell_type": "code",
      "source": [
        "forecaster = np.array(forecaster > 0.5)"
      ],
      "metadata": {
        "id": "yU9V7ZeIabm7"
      },
      "execution_count": 73,
      "outputs": []
    },
    {
      "cell_type": "code",
      "source": [
        "forecaster"
      ],
      "metadata": {
        "colab": {
          "base_uri": "https://localhost:8080/"
        },
        "id": "rYJgMDevakLK",
        "outputId": "bed365be-d4d9-4c2e-9e65-3ee19240b577"
      },
      "execution_count": 74,
      "outputs": [
        {
          "output_type": "execute_result",
          "data": {
            "text/plain": [
              "array([[ True],\n",
              "       [ True],\n",
              "       [ True],\n",
              "       [False],\n",
              "       [False],\n",
              "       [ True],\n",
              "       [ True],\n",
              "       [ True],\n",
              "       [ True],\n",
              "       [ True],\n",
              "       [False],\n",
              "       [ True],\n",
              "       [False],\n",
              "       [ True],\n",
              "       [ True],\n",
              "       [ True],\n",
              "       [ True],\n",
              "       [ True],\n",
              "       [False],\n",
              "       [ True],\n",
              "       [ True],\n",
              "       [ True],\n",
              "       [ True],\n",
              "       [False],\n",
              "       [ True],\n",
              "       [ True],\n",
              "       [ True],\n",
              "       [False],\n",
              "       [ True],\n",
              "       [ True],\n",
              "       [False],\n",
              "       [False],\n",
              "       [False],\n",
              "       [False],\n",
              "       [False],\n",
              "       [False],\n",
              "       [ True],\n",
              "       [False],\n",
              "       [ True],\n",
              "       [ True],\n",
              "       [False],\n",
              "       [False],\n",
              "       [False],\n",
              "       [ True],\n",
              "       [ True],\n",
              "       [False],\n",
              "       [False],\n",
              "       [False],\n",
              "       [False],\n",
              "       [False],\n",
              "       [ True],\n",
              "       [False],\n",
              "       [ True],\n",
              "       [False],\n",
              "       [ True],\n",
              "       [ True],\n",
              "       [False],\n",
              "       [ True],\n",
              "       [False],\n",
              "       [False],\n",
              "       [ True],\n",
              "       [ True],\n",
              "       [ True],\n",
              "       [ True],\n",
              "       [ True],\n",
              "       [ True],\n",
              "       [ True],\n",
              "       [ True],\n",
              "       [ True],\n",
              "       [ True],\n",
              "       [ True],\n",
              "       [ True],\n",
              "       [False],\n",
              "       [False],\n",
              "       [ True],\n",
              "       [False],\n",
              "       [False],\n",
              "       [ True],\n",
              "       [False],\n",
              "       [ True],\n",
              "       [ True],\n",
              "       [False],\n",
              "       [ True],\n",
              "       [ True],\n",
              "       [False],\n",
              "       [ True],\n",
              "       [ True],\n",
              "       [False],\n",
              "       [ True],\n",
              "       [ True],\n",
              "       [ True],\n",
              "       [False],\n",
              "       [ True],\n",
              "       [ True],\n",
              "       [False],\n",
              "       [ True],\n",
              "       [False],\n",
              "       [ True],\n",
              "       [False],\n",
              "       [ True],\n",
              "       [ True],\n",
              "       [False],\n",
              "       [ True],\n",
              "       [False],\n",
              "       [ True],\n",
              "       [False],\n",
              "       [ True],\n",
              "       [ True],\n",
              "       [False],\n",
              "       [ True],\n",
              "       [ True],\n",
              "       [False],\n",
              "       [ True],\n",
              "       [ True],\n",
              "       [ True],\n",
              "       [False],\n",
              "       [False],\n",
              "       [ True],\n",
              "       [False],\n",
              "       [ True],\n",
              "       [False],\n",
              "       [ True],\n",
              "       [ True],\n",
              "       [False],\n",
              "       [False],\n",
              "       [False],\n",
              "       [False],\n",
              "       [ True],\n",
              "       [ True],\n",
              "       [ True],\n",
              "       [ True],\n",
              "       [False],\n",
              "       [ True],\n",
              "       [ True],\n",
              "       [False],\n",
              "       [ True],\n",
              "       [ True],\n",
              "       [ True],\n",
              "       [ True],\n",
              "       [ True],\n",
              "       [False],\n",
              "       [ True],\n",
              "       [ True]])"
            ]
          },
          "metadata": {},
          "execution_count": 74
        }
      ]
    },
    {
      "cell_type": "code",
      "source": [
        "accuracy_rate = accuracy_score(label_test, forecaster )"
      ],
      "metadata": {
        "id": "wdYSvtqMatz7"
      },
      "execution_count": 75,
      "outputs": []
    },
    {
      "cell_type": "code",
      "source": [
        "accuracy_rate"
      ],
      "metadata": {
        "colab": {
          "base_uri": "https://localhost:8080/"
        },
        "id": "a8gEUoICa0MP",
        "outputId": "acdc228a-fc9c-4f37-df2e-aad4bac0fe42"
      },
      "execution_count": 76,
      "outputs": [
        {
          "output_type": "execute_result",
          "data": {
            "text/plain": [
              "0.951048951048951"
            ]
          },
          "metadata": {},
          "execution_count": 76
        }
      ]
    },
    {
      "cell_type": "code",
      "source": [
        "matrix = confusion_matrix(label_test, forecaster)"
      ],
      "metadata": {
        "id": "LTDvT54_bKEV"
      },
      "execution_count": 77,
      "outputs": []
    },
    {
      "cell_type": "code",
      "source": [
        "matrix"
      ],
      "metadata": {
        "colab": {
          "base_uri": "https://localhost:8080/"
        },
        "id": "oLhUWv-vbNlr",
        "outputId": "717b0a07-2f06-4dd4-e32d-086fb4f664bd"
      },
      "execution_count": 78,
      "outputs": [
        {
          "output_type": "execute_result",
          "data": {
            "text/plain": [
              "array([[51,  3],\n",
              "       [ 4, 85]])"
            ]
          },
          "metadata": {},
          "execution_count": 78
        }
      ]
    },
    {
      "cell_type": "code",
      "source": [
        "sns.heatmap(matrix, annot=True);"
      ],
      "metadata": {
        "colab": {
          "base_uri": "https://localhost:8080/",
          "height": 430
        },
        "id": "mVjqjX3UbRJG",
        "outputId": "36912a56-7c71-4b41-c986-838b5354ca69"
      },
      "execution_count": 80,
      "outputs": [
        {
          "output_type": "display_data",
          "data": {
            "text/plain": [
              "<Figure size 640x480 with 2 Axes>"
            ],
            "image/png": "[encoded data removed]"
          },
          "metadata": {}
        }
      ]
    }
  ]
}